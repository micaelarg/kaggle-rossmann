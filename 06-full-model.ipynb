{
 "cells": [
  {
   "cell_type": "code",
   "execution_count": 1,
   "metadata": {
    "collapsed": false,
    "jupyter": {
     "outputs_hidden": false
    }
   },
   "outputs": [
    {
     "name": "stderr",
     "output_type": "stream",
     "text": [
      "2023-03-12 14:03:07.803637: I tensorflow/core/platform/cpu_feature_guard.cc:193] This TensorFlow binary is optimized with oneAPI Deep Neural Network Library (oneDNN) to use the following CPU instructions in performance-critical operations:  AVX2 FMA\n",
      "To enable them in other operations, rebuild TensorFlow with the appropriate compiler flags.\n",
      "2023-03-12 14:03:07.914751: W tensorflow/compiler/xla/stream_executor/platform/default/dso_loader.cc:64] Could not load dynamic library 'libcudart.so.11.0'; dlerror: libcudart.so.11.0: cannot open shared object file: No such file or directory\n",
      "2023-03-12 14:03:07.914763: I tensorflow/compiler/xla/stream_executor/cuda/cudart_stub.cc:29] Ignore above cudart dlerror if you do not have a GPU set up on your machine.\n",
      "2023-03-12 14:03:08.533842: W tensorflow/compiler/xla/stream_executor/platform/default/dso_loader.cc:64] Could not load dynamic library 'libnvinfer.so.7'; dlerror: libnvinfer.so.7: cannot open shared object file: No such file or directory\n",
      "2023-03-12 14:03:08.533885: W tensorflow/compiler/xla/stream_executor/platform/default/dso_loader.cc:64] Could not load dynamic library 'libnvinfer_plugin.so.7'; dlerror: libnvinfer_plugin.so.7: cannot open shared object file: No such file or directory\n",
      "2023-03-12 14:03:08.533890: W tensorflow/compiler/tf2tensorrt/utils/py_utils.cc:38] TF-TRT Warning: Cannot dlopen some TensorRT libraries. If you would like to use Nvidia GPU with TensorRT, please make sure the missing libraries mentioned above are installed properly.\n",
      "2023-03-12 14:03:09.206525: I tensorflow/core/platform/cpu_feature_guard.cc:193] This TensorFlow binary is optimized with oneAPI Deep Neural Network Library (oneDNN) to use the following CPU instructions in performance-critical operations:  AVX2 FMA\n",
      "To enable them in other operations, rebuild TensorFlow with the appropriate compiler flags.\n",
      "2023-03-12 14:03:09.265702: I tensorflow/compiler/xla/stream_executor/cuda/cuda_gpu_executor.cc:981] successful NUMA node read from SysFS had negative value (-1), but there must be at least one NUMA node, so returning NUMA node zero\n",
      "2023-03-12 14:03:09.266151: W tensorflow/compiler/xla/stream_executor/platform/default/dso_loader.cc:64] Could not load dynamic library 'libcudart.so.11.0'; dlerror: libcudart.so.11.0: cannot open shared object file: No such file or directory\n",
      "2023-03-12 14:03:09.266283: W tensorflow/compiler/xla/stream_executor/platform/default/dso_loader.cc:64] Could not load dynamic library 'libcublas.so.11'; dlerror: libcublas.so.11: cannot open shared object file: No such file or directory\n",
      "2023-03-12 14:03:09.266384: W tensorflow/compiler/xla/stream_executor/platform/default/dso_loader.cc:64] Could not load dynamic library 'libcublasLt.so.11'; dlerror: libcublasLt.so.11: cannot open shared object file: No such file or directory\n",
      "2023-03-12 14:03:09.266480: W tensorflow/compiler/xla/stream_executor/platform/default/dso_loader.cc:64] Could not load dynamic library 'libcufft.so.10'; dlerror: libcufft.so.10: cannot open shared object file: No such file or directory\n",
      "2023-03-12 14:03:09.266575: W tensorflow/compiler/xla/stream_executor/platform/default/dso_loader.cc:64] Could not load dynamic library 'libcurand.so.10'; dlerror: libcurand.so.10: cannot open shared object file: No such file or directory\n",
      "2023-03-12 14:03:09.266671: W tensorflow/compiler/xla/stream_executor/platform/default/dso_loader.cc:64] Could not load dynamic library 'libcusolver.so.11'; dlerror: libcusolver.so.11: cannot open shared object file: No such file or directory\n",
      "2023-03-12 14:03:09.266766: W tensorflow/compiler/xla/stream_executor/platform/default/dso_loader.cc:64] Could not load dynamic library 'libcusparse.so.11'; dlerror: libcusparse.so.11: cannot open shared object file: No such file or directory\n",
      "2023-03-12 14:03:09.266854: W tensorflow/compiler/xla/stream_executor/platform/default/dso_loader.cc:64] Could not load dynamic library 'libcudnn.so.8'; dlerror: libcudnn.so.8: cannot open shared object file: No such file or directory\n",
      "2023-03-12 14:03:09.266873: W tensorflow/core/common_runtime/gpu/gpu_device.cc:1934] Cannot dlopen some GPU libraries. Please make sure the missing libraries mentioned above are installed properly if you would like to use GPU. Follow the guide at https://www.tensorflow.org/install/gpu for how to download and setup the required libraries for your platform.\n",
      "Skipping registering GPU devices...\n"
     ]
    }
   ],
   "source": [
    "from tensorflow.compat.v1 import ConfigProto\n",
    "from tensorflow.compat.v1 import InteractiveSession\n",
    "config = ConfigProto()\n",
    "config.gpu_options.allow_growth = True\n",
    "session = InteractiveSession(config=config)"
   ]
  },
  {
   "cell_type": "code",
   "execution_count": 2,
   "metadata": {},
   "outputs": [],
   "source": [
    "import pandas as pd\n",
    "import numpy as np\n",
    "import datetime\n",
    "from pandas_summary import DataFrameSummary"
   ]
  },
  {
   "cell_type": "code",
   "execution_count": 3,
   "metadata": {
    "collapsed": false,
    "jupyter": {
     "outputs_hidden": false
    }
   },
   "outputs": [],
   "source": [
    "from mlflow import log_metric\n",
    "import mlflow.tensorflow"
   ]
  },
  {
   "cell_type": "code",
   "execution_count": 4,
   "metadata": {},
   "outputs": [],
   "source": [
    "from tensorflow.keras.utils import to_categorical"
   ]
  },
  {
   "cell_type": "code",
   "execution_count": 5,
   "metadata": {},
   "outputs": [],
   "source": [
    "resultPath=''\n",
    "df = pd.read_feather('train_normalized_data.fth')\n",
    "df_test = pd.read_feather('test_normalized_data.fth')"
   ]
  },
  {
   "cell_type": "code",
   "execution_count": 6,
   "metadata": {},
   "outputs": [],
   "source": [
    "cat_vars = ['Store', 'DayOfWeek', 'Year', 'Month', 'Day', 'StateHoliday', 'CompetitionMonthsOpen', 'Promo2Weeks', \n",
    "            'StoreType', 'Assortment', 'PromoInterval', 'CompetitionOpenSinceYear', 'Promo2SinceYear', 'State', \n",
    "            'Week', 'Events', 'Promo_fw', 'Promo_bw', 'StateHoliday_bool_fw', 'StateHoliday_bool_bw', 'SchoolHoliday_fw', 'SchoolHoliday_bw']\n"
   ]
  },
  {
   "cell_type": "code",
   "execution_count": 7,
   "metadata": {},
   "outputs": [],
   "source": [
    "contin_vars = ['CompetitionDistance',\n",
    "               'Max_TemperatureC', 'Precipitationmm',\n",
    "               'Max_Humidity', 'CloudCover', 'trend',\n",
    "               'AfterStateHoliday_bool', 'Promo']"
   ]
  },
  {
   "cell_type": "code",
   "execution_count": 8,
   "metadata": {},
   "outputs": [],
   "source": [
    "uniques = DataFrameSummary(df[cat_vars]).summary().loc[['uniques']]"
   ]
  },
  {
   "cell_type": "code",
   "execution_count": 9,
   "metadata": {},
   "outputs": [
    {
     "data": {
      "text/html": [
       "<div>\n",
       "<style scoped>\n",
       "    .dataframe tbody tr th:only-of-type {\n",
       "        vertical-align: middle;\n",
       "    }\n",
       "\n",
       "    .dataframe tbody tr th {\n",
       "        vertical-align: top;\n",
       "    }\n",
       "\n",
       "    .dataframe thead th {\n",
       "        text-align: right;\n",
       "    }\n",
       "</style>\n",
       "<table border=\"1\" class=\"dataframe\">\n",
       "  <thead>\n",
       "    <tr style=\"text-align: right;\">\n",
       "      <th></th>\n",
       "      <th>uniques</th>\n",
       "    </tr>\n",
       "  </thead>\n",
       "  <tbody>\n",
       "    <tr>\n",
       "      <th>Store</th>\n",
       "      <td>1115</td>\n",
       "    </tr>\n",
       "    <tr>\n",
       "      <th>DayOfWeek</th>\n",
       "      <td>7</td>\n",
       "    </tr>\n",
       "    <tr>\n",
       "      <th>Year</th>\n",
       "      <td>3</td>\n",
       "    </tr>\n",
       "    <tr>\n",
       "      <th>Month</th>\n",
       "      <td>12</td>\n",
       "    </tr>\n",
       "    <tr>\n",
       "      <th>Day</th>\n",
       "      <td>31</td>\n",
       "    </tr>\n",
       "    <tr>\n",
       "      <th>StateHoliday</th>\n",
       "      <td>4</td>\n",
       "    </tr>\n",
       "    <tr>\n",
       "      <th>CompetitionMonthsOpen</th>\n",
       "      <td>25</td>\n",
       "    </tr>\n",
       "    <tr>\n",
       "      <th>Promo2Weeks</th>\n",
       "      <td>26</td>\n",
       "    </tr>\n",
       "    <tr>\n",
       "      <th>StoreType</th>\n",
       "      <td>4</td>\n",
       "    </tr>\n",
       "    <tr>\n",
       "      <th>Assortment</th>\n",
       "      <td>3</td>\n",
       "    </tr>\n",
       "    <tr>\n",
       "      <th>PromoInterval</th>\n",
       "      <td>4</td>\n",
       "    </tr>\n",
       "    <tr>\n",
       "      <th>CompetitionOpenSinceYear</th>\n",
       "      <td>21</td>\n",
       "    </tr>\n",
       "    <tr>\n",
       "      <th>Promo2SinceYear</th>\n",
       "      <td>8</td>\n",
       "    </tr>\n",
       "    <tr>\n",
       "      <th>State</th>\n",
       "      <td>12</td>\n",
       "    </tr>\n",
       "    <tr>\n",
       "      <th>Week</th>\n",
       "      <td>52</td>\n",
       "    </tr>\n",
       "    <tr>\n",
       "      <th>Events</th>\n",
       "      <td>22</td>\n",
       "    </tr>\n",
       "    <tr>\n",
       "      <th>Promo_fw</th>\n",
       "      <td>6</td>\n",
       "    </tr>\n",
       "    <tr>\n",
       "      <th>Promo_bw</th>\n",
       "      <td>6</td>\n",
       "    </tr>\n",
       "    <tr>\n",
       "      <th>StateHoliday_bool_fw</th>\n",
       "      <td>3</td>\n",
       "    </tr>\n",
       "    <tr>\n",
       "      <th>StateHoliday_bool_bw</th>\n",
       "      <td>3</td>\n",
       "    </tr>\n",
       "    <tr>\n",
       "      <th>SchoolHoliday_fw</th>\n",
       "      <td>8</td>\n",
       "    </tr>\n",
       "    <tr>\n",
       "      <th>SchoolHoliday_bw</th>\n",
       "      <td>8</td>\n",
       "    </tr>\n",
       "  </tbody>\n",
       "</table>\n",
       "</div>"
      ],
      "text/plain": [
       "                         uniques\n",
       "Store                       1115\n",
       "DayOfWeek                      7\n",
       "Year                           3\n",
       "Month                         12\n",
       "Day                           31\n",
       "StateHoliday                   4\n",
       "CompetitionMonthsOpen         25\n",
       "Promo2Weeks                   26\n",
       "StoreType                      4\n",
       "Assortment                     3\n",
       "PromoInterval                  4\n",
       "CompetitionOpenSinceYear      21\n",
       "Promo2SinceYear                8\n",
       "State                         12\n",
       "Week                          52\n",
       "Events                        22\n",
       "Promo_fw                       6\n",
       "Promo_bw                       6\n",
       "StateHoliday_bool_fw           3\n",
       "StateHoliday_bool_bw           3\n",
       "SchoolHoliday_fw               8\n",
       "SchoolHoliday_bw               8"
      ]
     },
     "execution_count": 9,
     "metadata": {},
     "output_type": "execute_result"
    }
   ],
   "source": [
    "uniques.T"
   ]
  },
  {
   "cell_type": "markdown",
   "metadata": {},
   "source": [
    "# Asignación de dimensión de embeddings"
   ]
  },
  {
   "cell_type": "code",
   "execution_count": 10,
   "metadata": {
    "collapsed": false,
    "jupyter": {
     "outputs_hidden": false
    }
   },
   "outputs": [],
   "source": [
    "cat_var_dict = {'Store': 50, \n",
    "                'Week': 25, \n",
    "                'Day': 8, \n",
    "                'State': 6,\n",
    "                'Month': 4, \n",
    "                'CompetitionOpenSinceYear': 4, 'Promo2SinceYear': 4, 'Events': 4, \n",
    "                'DayOfWeek': 3, 'StoreType': 3, 'Assortment': 3, 'PromoInterval': 3,\n",
    "                'StateHoliday': 2, 'CompetitionMonthsOpen': 2, 'Promo2Weeks': 2, 'Year': 2,\n",
    "                'Promo_bw': 1, 'StateHoliday_bool_fw': 1, 'Promo_fw': 1, 'StateHoliday_bool_bw': 1, 'SchoolHoliday_fw': 1, 'SchoolHoliday_bw': 1}"
   ]
  },
  {
   "cell_type": "code",
   "execution_count": 11,
   "metadata": {},
   "outputs": [
    {
     "name": "stdout",
     "output_type": "stream",
     "text": [
      "Store 50 1115 [   0    1    2 ... 1112 1113 1114]\n",
      "DayOfWeek 3 7 [0 1 2 3 4 5 6]\n",
      "Year 2 3 [0 1 2]\n",
      "Month 4 12 [ 0  1  2  3  4  5  6  7  8  9 10 11]\n",
      "Day 8 31 [ 0  1  2  3  4  5  6  7  8  9 10 11 12 13 14 15 16 17 18 19 20 21 22 23\n",
      " 24 25 26 27 28 29 30]\n",
      "StateHoliday 2 4 [0 1 2 3]\n",
      "CompetitionMonthsOpen 2 25 [ 0  1  2  3  4  5  6  7  8  9 10 11 12 13 14 15 16 17 18 19 20 21 22 23\n",
      " 24]\n",
      "Promo2Weeks 2 26 [ 0  1  2  3  4  5  6  7  8  9 10 11 12 13 14 15 16 17 18 19 20 21 22 23\n",
      " 24 25]\n",
      "StoreType 3 4 [0 1 2 3]\n",
      "Assortment 3 3 [0 1 2]\n",
      "PromoInterval 3 4 [0 1 2 3]\n",
      "CompetitionOpenSinceYear 4 21 [ 0  1  2  3  4  5  6  7  8  9 10 11 12 13 14 15 16 17 18 19 20]\n",
      "Promo2SinceYear 4 8 [0 1 2 3 4 5 6 7]\n",
      "State 6 12 [ 0  1  2  3  4  5  6  7  8  9 10 11]\n",
      "Week 25 52 [ 0  1  2  3  4  5  6  7  8  9 10 11 12 13 14 15 16 17 18 19 20 21 22 23\n",
      " 24 25 26 27 28 29 30 31 32 33 34 35 36 37 38 39 40 41 42 43 44 45 46 47\n",
      " 48 49 50 51]\n",
      "Events 4 22 [ 0  1  2  3  4  5  6  7  8  9 10 11 12 13 14 15 16 17 18 19 20 21]\n",
      "Promo_fw 1 6 [0 1 2 3 4 5]\n",
      "Promo_bw 1 6 [0 1 2 3 4 5]\n",
      "StateHoliday_bool_fw 1 3 [0 1 2]\n",
      "StateHoliday_bool_bw 1 3 [0 1 2]\n",
      "SchoolHoliday_fw 1 8 [0 1 2 3 4 5 6 7]\n",
      "SchoolHoliday_bw 1 8 [0 1 2 3 4 5 6 7]\n"
     ]
    }
   ],
   "source": [
    "for v in cat_vars:\n",
    "    uniques_ = df[v].unique()\n",
    "    uniques_.sort()\n",
    "    print(v, cat_var_dict[v], len(uniques_), uniques_)"
   ]
  },
  {
   "cell_type": "markdown",
   "metadata": {},
   "source": [
    "# Definición de modelo"
   ]
  },
  {
   "cell_type": "code",
   "execution_count": 12,
   "metadata": {},
   "outputs": [],
   "source": [
    "add_customers = True\n",
    "log_output = True\n",
    "output_activation = 'linear'"
   ]
  },
  {
   "cell_type": "code",
   "execution_count": 13,
   "metadata": {},
   "outputs": [],
   "source": [
    "from tensorflow.keras.models import Model\n",
    "from tensorflow.keras.callbacks import ModelCheckpoint, EarlyStopping, ReduceLROnPlateau\n",
    "from tensorflow.keras.optimizers import Adam\n",
    "from tensorflow.keras.layers import Embedding, Input, Flatten, Concatenate, Dense, BatchNormalization, Activation, LeakyReLU, Dropout\n",
    "from tensorflow.keras.regularizers import l2"
   ]
  },
  {
   "cell_type": "code",
   "execution_count": 14,
   "metadata": {},
   "outputs": [],
   "source": [
    "def get_cat_vars_model(cat_vars, uniques, cat_var_dict):\n",
    "    cat_vars_embed_outs = []\n",
    "    cat_var_inputs = []\n",
    "    for cat_var in cat_vars:\n",
    "        cat_var_in = Input(shape=(1,), name=f\"{cat_var}_input\")\n",
    "        cat_var_inputs.append(cat_var_in)\n",
    "        embed_out = Embedding(uniques[cat_var][0], cat_var_dict[cat_var], name=f'{cat_var}_Embed')(cat_var_in)\n",
    "        flatten_out = Flatten(name=f\"{cat_var}_flat\")(embed_out)\n",
    "        cat_vars_embed_outs.append(flatten_out)\n",
    "    return cat_var_inputs, cat_vars_embed_outs\n",
    "\n",
    "def get_cont_vars_input(contin_vars, dense_layer=False):\n",
    "    cont_vars_inputs = []\n",
    "    cont_vars_outputs = []\n",
    "    for cont_var in contin_vars:\n",
    "        cont_var_in = Input(shape=(1,), name=f\"{cont_var}_input\")\n",
    "        cont_vars_inputs.append(cont_var_in)\n",
    "        if dense_layer:\n",
    "            cont_var_out = Dense(1, name=f\"{cont_var}_input\", activation = 'linear')(cont_var_in)\n",
    "            cont_vars_outputs.append(cont_var_out)\n",
    "        else:\n",
    "            cont_vars_outputs.append(cont_var_in)\n",
    "    return cont_vars_inputs, cont_vars_outputs"
   ]
  },
  {
   "cell_type": "code",
   "execution_count": 15,
   "metadata": {},
   "outputs": [
    {
     "name": "stderr",
     "output_type": "stream",
     "text": [
      "2023-03-12 14:03:11.405236: I tensorflow/compiler/xla/stream_executor/cuda/cuda_gpu_executor.cc:981] successful NUMA node read from SysFS had negative value (-1), but there must be at least one NUMA node, so returning NUMA node zero\n",
      "2023-03-12 14:03:11.405378: W tensorflow/core/common_runtime/gpu/gpu_device.cc:1934] Cannot dlopen some GPU libraries. Please make sure the missing libraries mentioned above are installed properly if you would like to use GPU. Follow the guide at https://www.tensorflow.org/install/gpu for how to download and setup the required libraries for your platform.\n",
      "Skipping registering GPU devices...\n"
     ]
    }
   ],
   "source": [
    "cat_var_inputs, cat_vars_embed_outs = get_cat_vars_model(cat_vars, uniques, cat_var_dict)\n",
    "cont_vars_inputs,  cont_vars_outs= get_cont_vars_input(contin_vars)"
   ]
  },
  {
   "cell_type": "code",
   "execution_count": 16,
   "metadata": {},
   "outputs": [],
   "source": [
    "first_hidden_units = 1000\n",
    "second_hidden_units = 500\n",
    "l2_lambda = 0.0001\n",
    "merged = Concatenate(name='All_Concatenate')(cat_vars_embed_outs + cont_vars_inputs)\n",
    "x = Dense(first_hidden_units, kernel_initializer=\"uniform\", kernel_regularizer=l2(l2_lambda))(merged)\n",
    "x = BatchNormalization()(x)\n",
    "#x = Activation('relu')(x)\n",
    "x = LeakyReLU()(x)\n",
    "x = Dropout(0.02)(x)\n",
    "x = Dense(second_hidden_units, kernel_initializer=\"uniform\", kernel_regularizer=l2(l2_lambda))(x)\n",
    "# x = BatchNormalization()(x)\n",
    "x = Activation('relu')(x)\n",
    "# x = LeakyReLU()(x)\n",
    "\n",
    "x = Dense(second_hidden_units, kernel_initializer=\"uniform\", kernel_regularizer=l2(l2_lambda))(x)\n",
    "# x = BatchNormalization()(x)\n",
    "x = Activation('relu')(x)\n",
    "\n",
    "x = Dense(second_hidden_units, kernel_initializer=\"uniform\", kernel_regularizer=l2(l2_lambda))(x)\n",
    "# x = BatchNormalization()(x)\n",
    "x = Activation('relu')(x)\n",
    "\n",
    "output_1 = Dense(1, name='Sales', activation=output_activation)(x)\n",
    "output_2 = Dense(1, name='Customers', activation=output_activation)(x)"
   ]
  },
  {
   "cell_type": "code",
   "execution_count": 17,
   "metadata": {},
   "outputs": [],
   "source": [
    "if add_customers:\n",
    "    model = Model(cat_var_inputs + cont_vars_inputs, [output_1, output_2])\n",
    "else: \n",
    "    model = Model(cat_var_inputs + cont_vars_inputs, [output_1])"
   ]
  },
  {
   "cell_type": "code",
   "execution_count": 18,
   "metadata": {},
   "outputs": [],
   "source": [
    "#model.summary()"
   ]
  },
  {
   "cell_type": "code",
   "execution_count": 19,
   "metadata": {},
   "outputs": [],
   "source": [
    "model.save_weights('initial_weights.hdf5')"
   ]
  },
  {
   "cell_type": "code",
   "execution_count": 20,
   "metadata": {},
   "outputs": [
    {
     "name": "stdout",
     "output_type": "stream",
     "text": [
      "Cantidad en val: 30188, porcentaje: 0.9642465458145908\n"
     ]
    }
   ],
   "source": [
    "df_train = df[df.Date < datetime.datetime(2015, 7, 1)]  \n",
    "df_val = df[df.Date >= datetime.datetime(2015, 7, 1)]\n",
    "print(f'Cantidad en val: {len(df_val)}, porcentaje: {len(df_train)/(len(df_train) + len(df_val))}')"
   ]
  },
  {
   "cell_type": "code",
   "execution_count": 21,
   "metadata": {},
   "outputs": [],
   "source": [
    "stores_mean = {}\n",
    "for store, g_df in df_train.groupby('Store'):\n",
    "    stores_mean[store] = g_df[g_df['Sales'] > 0]['Sales'].mean()"
   ]
  },
  {
   "cell_type": "code",
   "execution_count": 22,
   "metadata": {},
   "outputs": [
    {
     "name": "stderr",
     "output_type": "stream",
     "text": [
      "/tmp/ipykernel_24492/3553976367.py:1: SettingWithCopyWarning: \n",
      "A value is trying to be set on a copy of a slice from a DataFrame.\n",
      "Try using .loc[row_indexer,col_indexer] = value instead\n",
      "\n",
      "See the caveats in the documentation: https://pandas.pydata.org/pandas-docs/stable/user_guide/indexing.html#returning-a-view-versus-a-copy\n",
      "  df_train.loc[:, 'mean_by_store'] = df_train['Store'].apply(stores_mean.get)\n",
      "/tmp/ipykernel_24492/3553976367.py:2: SettingWithCopyWarning: \n",
      "A value is trying to be set on a copy of a slice from a DataFrame.\n",
      "Try using .loc[row_indexer,col_indexer] = value instead\n",
      "\n",
      "See the caveats in the documentation: https://pandas.pydata.org/pandas-docs/stable/user_guide/indexing.html#returning-a-view-versus-a-copy\n",
      "  df_val.loc[:, 'mean_by_store'] = df_val['Store'].apply(stores_mean.get)\n",
      "/tmp/ipykernel_24492/3553976367.py:4: SettingWithCopyWarning: \n",
      "A value is trying to be set on a copy of a slice from a DataFrame.\n",
      "Try using .loc[row_indexer,col_indexer] = value instead\n",
      "\n",
      "See the caveats in the documentation: https://pandas.pydata.org/pandas-docs/stable/user_guide/indexing.html#returning-a-view-versus-a-copy\n",
      "  df_train.loc[:, 'Sales_store'] = df_train['Sales'] - df_train['mean_by_store']\n",
      "/tmp/ipykernel_24492/3553976367.py:5: SettingWithCopyWarning: \n",
      "A value is trying to be set on a copy of a slice from a DataFrame.\n",
      "Try using .loc[row_indexer,col_indexer] = value instead\n",
      "\n",
      "See the caveats in the documentation: https://pandas.pydata.org/pandas-docs/stable/user_guide/indexing.html#returning-a-view-versus-a-copy\n",
      "  df_val.loc[:, 'Sales_store'] = df_val['Sales'] - df_val['mean_by_store']\n"
     ]
    }
   ],
   "source": [
    "df_train.loc[:, 'mean_by_store'] = df_train['Store'].apply(stores_mean.get)\n",
    "df_val.loc[:, 'mean_by_store'] = df_val['Store'].apply(stores_mean.get)\n",
    "\n",
    "df_train.loc[:, 'Sales_store'] = df_train['Sales'] - df_train['mean_by_store']\n",
    "df_val.loc[:, 'Sales_store'] = df_val['Sales'] - df_val['mean_by_store']"
   ]
  },
  {
   "cell_type": "code",
   "execution_count": 23,
   "metadata": {},
   "outputs": [],
   "source": [
    "from tensorflow.keras import backend as K"
   ]
  },
  {
   "cell_type": "code",
   "execution_count": 24,
   "metadata": {},
   "outputs": [],
   "source": [
    "def rmspe(y_true, y_pred):\n",
    "    return K.sqrt(K.mean(K.square((y_true - y_pred)/y_true)))"
   ]
  },
  {
   "cell_type": "code",
   "execution_count": 25,
   "metadata": {},
   "outputs": [],
   "source": [
    "def get_metric(df, sales_):\n",
    "    return np.sqrt((((df['Sales'] - sales_)/df['Sales'])**2).mean())"
   ]
  },
  {
   "cell_type": "code",
   "execution_count": 26,
   "metadata": {},
   "outputs": [
    {
     "data": {
      "text/plain": [
       "0.3071746085338871"
      ]
     },
     "execution_count": 26,
     "metadata": {},
     "output_type": "execute_result"
    }
   ],
   "source": [
    "get_metric(df_val, df_val['mean_by_store'])"
   ]
  },
  {
   "cell_type": "code",
   "execution_count": 27,
   "metadata": {},
   "outputs": [],
   "source": [
    "all_vars = cat_vars + contin_vars\n",
    "X_train = np.hsplit(df_train[all_vars].values, len(all_vars))\n",
    "X_val = np.hsplit(df_val[all_vars].values, len(all_vars))\n",
    "X_test = np.hsplit(df_test[all_vars].values, len(all_vars))"
   ]
  },
  {
   "cell_type": "code",
   "execution_count": 28,
   "metadata": {},
   "outputs": [
    {
     "name": "stderr",
     "output_type": "stream",
     "text": [
      "/home/mik/anaconda3/lib/python3.9/site-packages/numpy/core/fromnumeric.py:84: FutureWarning: In a future version, DataFrame.max(axis=None) will return a scalar max over the entire DataFrame. To retain the old behavior, use 'frame.max(axis=0)' or just 'frame.max()'\n",
      "  return reduction(axis=axis, out=out, **passkwargs)\n"
     ]
    }
   ],
   "source": [
    "if add_customers:\n",
    "    y_out_columns = ['Sales', 'Customers']\n",
    "else:\n",
    "    y_out_columns = ['Sales_store']\n",
    "    \n",
    "if log_output:\n",
    "    # Escala logaritmica\n",
    "    max_log_y = np.max(np.log(df[y_out_columns])).values\n",
    "    y_train = np.log(df_train[y_out_columns].values)/max_log_y\n",
    "    y_val = np.log(df_val[y_out_columns].values)/max_log_y\n",
    "else:\n",
    "    # Normalización\n",
    "    y_mean = df_train[y_out_columns].mean().values\n",
    "    y_std = df_train[y_out_columns].std().values\n",
    "#     y_train = (df_train[y_out_columns].values - y_mean)/y_std\n",
    "#     y_val = (df_val[y_out_columns].values - y_mean)/y_std\n",
    "    y_max = df_train[y_out_columns].max().values\n",
    "    y_train = df_train[y_out_columns].values/y_max\n",
    "    y_val = df_val[y_out_columns].values/y_max\n",
    "y_train = np.hsplit(y_train, y_train.shape[1])\n",
    "y_val = np.hsplit(y_val, y_val.shape[1])"
   ]
  },
  {
   "cell_type": "code",
   "execution_count": 29,
   "metadata": {},
   "outputs": [
    {
     "name": "stderr",
     "output_type": "stream",
     "text": [
      "WARNING:absl:`lr` is deprecated, please use `learning_rate` instead, or use the legacy optimizer, e.g.,tf.keras.optimizers.legacy.Adam.\n"
     ]
    }
   ],
   "source": [
    "lr = 0.005\n",
    "model.compile(optimizer=Adam(lr=lr), metrics=['mse', rmspe], loss='mse')"
   ]
  },
  {
   "cell_type": "code",
   "execution_count": 30,
   "metadata": {},
   "outputs": [],
   "source": [
    "#callback1\n",
    "if add_customers:\n",
    "    checkpoint = ModelCheckpoint('bestmodel.hdf5', monitor='val_Sales_mse', verbose=1, save_best_only=True)\n",
    "else:\n",
    "    checkpoint = ModelCheckpoint('bestmodel.hdf5', monitor='val_loss', verbose=1, save_best_only=True)\n",
    "#callback2\n",
    "earlyStopping = EarlyStopping(monitor='val_loss', min_delta=0, patience=4, verbose=1, restore_best_weights=True)\n",
    "#callback3\n",
    "reduceLR = ReduceLROnPlateau(monitor ='val_loss', factor=0.2, patience=4, verbose=1, mode='auto', min_delta=0.01, cooldown=0, min_lr=1e-8)"
   ]
  },
  {
   "cell_type": "code",
   "execution_count": 31,
   "metadata": {},
   "outputs": [
    {
     "name": "stdout",
     "output_type": "stream",
     "text": [
      "Epoch 1/200\n",
      "\n",
      "Epoch 1: val_Sales_mse improved from inf to 0.00027, saving model to bestmodel.hdf5\n",
      "3181/3181 - 64s - loss: 0.0246 - Sales_loss: 0.0024 - Customers_loss: 0.0016 - Sales_mse: 0.0024 - Sales_rmspe: 0.0377 - Customers_mse: 0.0016 - Customers_rmspe: 0.0417 - val_loss: 0.0021 - val_Sales_loss: 2.7499e-04 - val_Customers_loss: 2.2056e-04 - val_Sales_mse: 2.7499e-04 - val_Sales_rmspe: 0.0196 - val_Customers_mse: 2.2056e-04 - val_Customers_rmspe: 0.0200 - lr: 0.0010 - 64s/epoch - 20ms/step\n",
      "Epoch 2/200\n",
      "\n",
      "Epoch 2: val_Sales_mse improved from 0.00027 to 0.00019, saving model to bestmodel.hdf5\n",
      "3181/3181 - 60s - loss: 9.7052e-04 - Sales_loss: 2.1441e-04 - Customers_loss: 2.4852e-04 - Sales_mse: 2.1441e-04 - Sales_rmspe: 0.0180 - Customers_mse: 2.4852e-04 - Customers_rmspe: 0.0219 - val_loss: 5.9874e-04 - val_Sales_loss: 1.8792e-04 - val_Customers_loss: 2.5242e-04 - val_Sales_mse: 1.8792e-04 - val_Sales_rmspe: 0.0165 - val_Customers_mse: 2.5242e-04 - val_Customers_rmspe: 0.0211 - lr: 0.0010 - 60s/epoch - 19ms/step\n",
      "Epoch 3/200\n",
      "\n",
      "Epoch 3: val_Sales_mse did not improve from 0.00019\n",
      "3181/3181 - 60s - loss: 5.8562e-04 - Sales_loss: 2.0521e-04 - Customers_loss: 2.3334e-04 - Sales_mse: 2.0521e-04 - Sales_rmspe: 0.0176 - Customers_mse: 2.3334e-04 - Customers_rmspe: 0.0212 - val_loss: 5.4118e-04 - val_Sales_loss: 2.0380e-04 - val_Customers_loss: 1.9870e-04 - val_Sales_mse: 2.0380e-04 - val_Sales_rmspe: 0.0170 - val_Customers_mse: 1.9870e-04 - val_Customers_rmspe: 0.0191 - lr: 0.0010 - 60s/epoch - 19ms/step\n",
      "Epoch 4/200\n",
      "\n",
      "Epoch 4: val_Sales_mse improved from 0.00019 to 0.00019, saving model to bestmodel.hdf5\n",
      "3181/3181 - 60s - loss: 5.5214e-04 - Sales_loss: 1.9847e-04 - Customers_loss: 2.2142e-04 - Sales_mse: 1.9847e-04 - Sales_rmspe: 0.0173 - Customers_mse: 2.2142e-04 - Customers_rmspe: 0.0207 - val_loss: 7.4769e-04 - val_Sales_loss: 1.8702e-04 - val_Customers_loss: 4.4044e-04 - val_Sales_mse: 1.8702e-04 - val_Sales_rmspe: 0.0166 - val_Customers_mse: 4.4044e-04 - val_Customers_rmspe: 0.0285 - lr: 0.0010 - 60s/epoch - 19ms/step\n",
      "Epoch 5/200\n",
      "\n",
      "Epoch 5: val_Sales_mse did not improve from 0.00019\n",
      "\n",
      "Epoch 5: ReduceLROnPlateau reducing learning rate to 0.00020000000949949026.\n",
      "3181/3181 - 60s - loss: 5.1591e-04 - Sales_loss: 1.8719e-04 - Customers_loss: 2.1015e-04 - Sales_mse: 1.8719e-04 - Sales_rmspe: 0.0168 - Customers_mse: 2.1015e-04 - Customers_rmspe: 0.0202 - val_loss: 5.4819e-04 - val_Sales_loss: 1.9851e-04 - val_Customers_loss: 2.3167e-04 - val_Sales_mse: 1.9851e-04 - val_Sales_rmspe: 0.0168 - val_Customers_mse: 2.3167e-04 - val_Customers_rmspe: 0.0204 - lr: 0.0010 - 60s/epoch - 19ms/step\n",
      "Epoch 6/200\n",
      "\n",
      "Epoch 6: val_Sales_mse improved from 0.00019 to 0.00015, saving model to bestmodel.hdf5\n",
      "3181/3181 - 60s - loss: 3.9659e-04 - Sales_loss: 1.4577e-04 - Customers_loss: 1.6148e-04 - Sales_mse: 1.4577e-04 - Sales_rmspe: 0.0149 - Customers_mse: 1.6148e-04 - Customers_rmspe: 0.0177 - val_loss: 4.1305e-04 - val_Sales_loss: 1.5013e-04 - val_Customers_loss: 1.7639e-04 - val_Sales_mse: 1.5013e-04 - val_Sales_rmspe: 0.0147 - val_Customers_mse: 1.7639e-04 - val_Customers_rmspe: 0.0178 - lr: 2.0000e-04 - 60s/epoch - 19ms/step\n",
      "Epoch 7/200\n",
      "\n",
      "Epoch 7: val_Sales_mse improved from 0.00015 to 0.00015, saving model to bestmodel.hdf5\n",
      "3181/3181 - 60s - loss: 3.7800e-04 - Sales_loss: 1.3910e-04 - Customers_loss: 1.5332e-04 - Sales_mse: 1.3910e-04 - Sales_rmspe: 0.0146 - Customers_mse: 1.5332e-04 - Customers_rmspe: 0.0173 - val_loss: 4.0479e-04 - val_Sales_loss: 1.4960e-04 - val_Customers_loss: 1.7058e-04 - val_Sales_mse: 1.4960e-04 - val_Sales_rmspe: 0.0147 - val_Customers_mse: 1.7058e-04 - val_Customers_rmspe: 0.0176 - lr: 2.0000e-04 - 60s/epoch - 19ms/step\n",
      "Epoch 8/200\n",
      "\n",
      "Epoch 8: val_Sales_mse did not improve from 0.00015\n",
      "3181/3181 - 60s - loss: 3.6647e-04 - Sales_loss: 1.3458e-04 - Customers_loss: 1.4901e-04 - Sales_mse: 1.3458e-04 - Sales_rmspe: 0.0143 - Customers_mse: 1.4901e-04 - Customers_rmspe: 0.0170 - val_loss: 5.7513e-04 - val_Sales_loss: 2.3810e-04 - val_Customers_loss: 2.5560e-04 - val_Sales_mse: 2.3810e-04 - val_Sales_rmspe: 0.0185 - val_Customers_mse: 2.5560e-04 - val_Customers_rmspe: 0.0216 - lr: 2.0000e-04 - 60s/epoch - 19ms/step\n",
      "Epoch 9/200\n",
      "\n",
      "Epoch 9: val_Sales_mse did not improve from 0.00015\n",
      "\n",
      "Epoch 9: ReduceLROnPlateau reducing learning rate to 4.0000001899898055e-05.\n",
      "3181/3181 - 60s - loss: 3.6141e-04 - Sales_loss: 1.3305e-04 - Customers_loss: 1.4771e-04 - Sales_mse: 1.3305e-04 - Sales_rmspe: 0.0142 - Customers_mse: 1.4771e-04 - Customers_rmspe: 0.0169 - val_loss: 4.1707e-04 - val_Sales_loss: 1.5021e-04 - val_Customers_loss: 1.8694e-04 - val_Sales_mse: 1.5021e-04 - val_Sales_rmspe: 0.0147 - val_Customers_mse: 1.8694e-04 - val_Customers_rmspe: 0.0184 - lr: 2.0000e-04 - 60s/epoch - 19ms/step\n",
      "Epoch 10/200\n",
      "\n",
      "Epoch 10: val_Sales_mse improved from 0.00015 to 0.00013, saving model to bestmodel.hdf5\n",
      "3181/3181 - 60s - loss: 3.2854e-04 - Sales_loss: 1.2039e-04 - Customers_loss: 1.3084e-04 - Sales_mse: 1.2039e-04 - Sales_rmspe: 0.0135 - Customers_mse: 1.3084e-04 - Customers_rmspe: 0.0160 - val_loss: 3.4621e-04 - val_Sales_loss: 1.2814e-04 - val_Customers_loss: 1.4161e-04 - val_Sales_mse: 1.2814e-04 - val_Sales_rmspe: 0.0136 - val_Customers_mse: 1.4161e-04 - val_Customers_rmspe: 0.0161 - lr: 4.0000e-05 - 60s/epoch - 19ms/step\n",
      "Epoch 11/200\n",
      "\n",
      "Epoch 11: val_Sales_mse improved from 0.00013 to 0.00012, saving model to bestmodel.hdf5\n",
      "3181/3181 - 62s - loss: 3.2488e-04 - Sales_loss: 1.1919e-04 - Customers_loss: 1.2984e-04 - Sales_mse: 1.1919e-04 - Sales_rmspe: 0.0135 - Customers_mse: 1.2984e-04 - Customers_rmspe: 0.0159 - val_loss: 3.3402e-04 - val_Sales_loss: 1.2198e-04 - val_Customers_loss: 1.3644e-04 - val_Sales_mse: 1.2198e-04 - val_Sales_rmspe: 0.0133 - val_Customers_mse: 1.3644e-04 - val_Customers_rmspe: 0.0158 - lr: 4.0000e-05 - 62s/epoch - 19ms/step\n",
      "Epoch 12/200\n",
      "\n",
      "Epoch 12: val_Sales_mse did not improve from 0.00012\n",
      "3181/3181 - 64s - loss: 3.2233e-04 - Sales_loss: 1.1849e-04 - Customers_loss: 1.2873e-04 - Sales_mse: 1.1849e-04 - Sales_rmspe: 0.0134 - Customers_mse: 1.2873e-04 - Customers_rmspe: 0.0158 - val_loss: 3.3073e-04 - val_Sales_loss: 1.2385e-04 - val_Customers_loss: 1.3211e-04 - val_Sales_mse: 1.2385e-04 - val_Sales_rmspe: 0.0134 - val_Customers_mse: 1.3211e-04 - val_Customers_rmspe: 0.0156 - lr: 4.0000e-05 - 64s/epoch - 20ms/step\n",
      "Epoch 13/200\n",
      "\n",
      "Epoch 13: val_Sales_mse did not improve from 0.00012\n",
      "\n",
      "Epoch 13: ReduceLROnPlateau reducing learning rate to 8.000000525498762e-06.\n",
      "3181/3181 - 62s - loss: 3.1970e-04 - Sales_loss: 1.1753e-04 - Customers_loss: 1.2761e-04 - Sales_mse: 1.1753e-04 - Sales_rmspe: 0.0134 - Customers_mse: 1.2761e-04 - Customers_rmspe: 0.0158 - val_loss: 3.3625e-04 - val_Sales_loss: 1.2642e-04 - val_Customers_loss: 1.3546e-04 - val_Sales_mse: 1.2642e-04 - val_Sales_rmspe: 0.0135 - val_Customers_mse: 1.3546e-04 - val_Customers_rmspe: 0.0157 - lr: 4.0000e-05 - 62s/epoch - 20ms/step\n",
      "Epoch 14/200\n",
      "\n",
      "Epoch 14: val_Sales_mse did not improve from 0.00012\n",
      "3181/3181 - 62s - loss: 3.1161e-04 - Sales_loss: 1.1427e-04 - Customers_loss: 1.2299e-04 - Sales_mse: 1.1427e-04 - Sales_rmspe: 0.0132 - Customers_mse: 1.2299e-04 - Customers_rmspe: 0.0155 - val_loss: 3.3382e-04 - val_Sales_loss: 1.2447e-04 - val_Customers_loss: 1.3505e-04 - val_Sales_mse: 1.2447e-04 - val_Sales_rmspe: 0.0135 - val_Customers_mse: 1.3505e-04 - val_Customers_rmspe: 0.0157 - lr: 8.0000e-06 - 62s/epoch - 19ms/step\n",
      "Epoch 15/200\n",
      "\n",
      "Epoch 15: val_Sales_mse improved from 0.00012 to 0.00012, saving model to bestmodel.hdf5\n",
      "3181/3181 - 59s - loss: 3.1104e-04 - Sales_loss: 1.1395e-04 - Customers_loss: 1.2280e-04 - Sales_mse: 1.1395e-04 - Sales_rmspe: 0.0132 - Customers_mse: 1.2280e-04 - Customers_rmspe: 0.0155 - val_loss: 3.2624e-04 - val_Sales_loss: 1.2047e-04 - val_Customers_loss: 1.3151e-04 - val_Sales_mse: 1.2047e-04 - val_Sales_rmspe: 0.0133 - val_Customers_mse: 1.3151e-04 - val_Customers_rmspe: 0.0155 - lr: 8.0000e-06 - 59s/epoch - 19ms/step\n",
      "Epoch 16/200\n",
      "\n",
      "Epoch 16: val_Sales_mse did not improve from 0.00012\n",
      "3181/3181 - 59s - loss: 3.0986e-04 - Sales_loss: 1.1347e-04 - Customers_loss: 1.2222e-04 - Sales_mse: 1.1347e-04 - Sales_rmspe: 0.0131 - Customers_mse: 1.2222e-04 - Customers_rmspe: 0.0154 - val_loss: 3.2633e-04 - val_Sales_loss: 1.2095e-04 - val_Customers_loss: 1.3125e-04 - val_Sales_mse: 1.2095e-04 - val_Sales_rmspe: 0.0133 - val_Customers_mse: 1.3125e-04 - val_Customers_rmspe: 0.0155 - lr: 8.0000e-06 - 59s/epoch - 19ms/step\n",
      "Epoch 17/200\n",
      "\n",
      "Epoch 17: val_Sales_mse did not improve from 0.00012\n",
      "\n",
      "Epoch 17: ReduceLROnPlateau reducing learning rate to 1.6000001778593287e-06.\n",
      "3181/3181 - 60s - loss: 3.0957e-04 - Sales_loss: 1.1337e-04 - Customers_loss: 1.2213e-04 - Sales_mse: 1.1337e-04 - Sales_rmspe: 0.0131 - Customers_mse: 1.2213e-04 - Customers_rmspe: 0.0154 - val_loss: 3.2666e-04 - val_Sales_loss: 1.2047e-04 - val_Customers_loss: 1.3217e-04 - val_Sales_mse: 1.2047e-04 - val_Sales_rmspe: 0.0133 - val_Customers_mse: 1.3217e-04 - val_Customers_rmspe: 0.0156 - lr: 8.0000e-06 - 60s/epoch - 19ms/step\n",
      "Epoch 18/200\n",
      "\n",
      "Epoch 18: val_Sales_mse did not improve from 0.00012\n",
      "3181/3181 - 60s - loss: 3.0787e-04 - Sales_loss: 1.1248e-04 - Customers_loss: 1.2139e-04 - Sales_mse: 1.1248e-04 - Sales_rmspe: 0.0131 - Customers_mse: 1.2139e-04 - Customers_rmspe: 0.0154 - val_loss: 3.2605e-04 - val_Sales_loss: 1.2076e-04 - val_Customers_loss: 1.3131e-04 - val_Sales_mse: 1.2076e-04 - val_Sales_rmspe: 0.0133 - val_Customers_mse: 1.3131e-04 - val_Customers_rmspe: 0.0155 - lr: 1.6000e-06 - 60s/epoch - 19ms/step\n",
      "Epoch 19/200\n",
      "\n",
      "Epoch 19: val_Sales_mse improved from 0.00012 to 0.00012, saving model to bestmodel.hdf5\n",
      "3181/3181 - 60s - loss: 3.0749e-04 - Sales_loss: 1.1236e-04 - Customers_loss: 1.2114e-04 - Sales_mse: 1.1236e-04 - Sales_rmspe: 0.0131 - Customers_mse: 1.2114e-04 - Customers_rmspe: 0.0154 - val_loss: 3.2451e-04 - val_Sales_loss: 1.2013e-04 - val_Customers_loss: 1.3039e-04 - val_Sales_mse: 1.2013e-04 - val_Sales_rmspe: 0.0132 - val_Customers_mse: 1.3039e-04 - val_Customers_rmspe: 0.0155 - lr: 1.6000e-06 - 60s/epoch - 19ms/step\n",
      "Epoch 20/200\n",
      "\n",
      "Epoch 20: val_Sales_mse did not improve from 0.00012\n",
      "3181/3181 - 61s - loss: 3.0671e-04 - Sales_loss: 1.1213e-04 - Customers_loss: 1.2060e-04 - Sales_mse: 1.1213e-04 - Sales_rmspe: 0.0131 - Customers_mse: 1.2060e-04 - Customers_rmspe: 0.0153 - val_loss: 3.2629e-04 - val_Sales_loss: 1.2079e-04 - val_Customers_loss: 1.3152e-04 - val_Sales_mse: 1.2079e-04 - val_Sales_rmspe: 0.0133 - val_Customers_mse: 1.3152e-04 - val_Customers_rmspe: 0.0155 - lr: 1.6000e-06 - 61s/epoch - 19ms/step\n",
      "Epoch 21/200\n",
      "\n",
      "Epoch 21: val_Sales_mse did not improve from 0.00012\n",
      "\n",
      "Epoch 21: ReduceLROnPlateau reducing learning rate to 3.200000264769187e-07.\n",
      "3181/3181 - 60s - loss: 3.0725e-04 - Sales_loss: 1.1237e-04 - Customers_loss: 1.2093e-04 - Sales_mse: 1.1237e-04 - Sales_rmspe: 0.0131 - Customers_mse: 1.2093e-04 - Customers_rmspe: 0.0154 - val_loss: 3.2614e-04 - val_Sales_loss: 1.2080e-04 - val_Customers_loss: 1.3137e-04 - val_Sales_mse: 1.2080e-04 - val_Sales_rmspe: 0.0133 - val_Customers_mse: 1.3137e-04 - val_Customers_rmspe: 0.0155 - lr: 1.6000e-06 - 60s/epoch - 19ms/step\n",
      "Epoch 22/200\n",
      "\n",
      "Epoch 22: val_Sales_mse did not improve from 0.00012\n",
      "3181/3181 - 62s - loss: 3.0764e-04 - Sales_loss: 1.1240e-04 - Customers_loss: 1.2128e-04 - Sales_mse: 1.1240e-04 - Sales_rmspe: 0.0131 - Customers_mse: 1.2128e-04 - Customers_rmspe: 0.0154 - val_loss: 3.2567e-04 - val_Sales_loss: 1.2054e-04 - val_Customers_loss: 1.3119e-04 - val_Sales_mse: 1.2054e-04 - val_Sales_rmspe: 0.0133 - val_Customers_mse: 1.3119e-04 - val_Customers_rmspe: 0.0155 - lr: 3.2000e-07 - 62s/epoch - 19ms/step\n",
      "Epoch 23/200\n",
      "\n",
      "Epoch 23: val_Sales_mse improved from 0.00012 to 0.00012, saving model to bestmodel.hdf5\n",
      "3181/3181 - 64s - loss: 3.0698e-04 - Sales_loss: 1.1225e-04 - Customers_loss: 1.2077e-04 - Sales_mse: 1.1225e-04 - Sales_rmspe: 0.0131 - Customers_mse: 1.2077e-04 - Customers_rmspe: 0.0153 - val_loss: 3.2415e-04 - val_Sales_loss: 1.1996e-04 - val_Customers_loss: 1.3024e-04 - val_Sales_mse: 1.1996e-04 - val_Sales_rmspe: 0.0132 - val_Customers_mse: 1.3024e-04 - val_Customers_rmspe: 0.0155 - lr: 3.2000e-07 - 64s/epoch - 20ms/step\n",
      "Epoch 24/200\n",
      "\n",
      "Epoch 24: val_Sales_mse did not improve from 0.00012\n",
      "3181/3181 - 61s - loss: 3.0703e-04 - Sales_loss: 1.1224e-04 - Customers_loss: 1.2085e-04 - Sales_mse: 1.1224e-04 - Sales_rmspe: 0.0131 - Customers_mse: 1.2085e-04 - Customers_rmspe: 0.0154 - val_loss: 3.2519e-04 - val_Sales_loss: 1.2031e-04 - val_Customers_loss: 1.3096e-04 - val_Sales_mse: 1.2031e-04 - val_Sales_rmspe: 0.0133 - val_Customers_mse: 1.3096e-04 - val_Customers_rmspe: 0.0155 - lr: 3.2000e-07 - 61s/epoch - 19ms/step\n",
      "Epoch 25/200\n",
      "\n",
      "Epoch 25: val_Sales_mse did not improve from 0.00012\n",
      "\n",
      "Epoch 25: ReduceLROnPlateau reducing learning rate to 6.400000529538374e-08.\n",
      "3181/3181 - 60s - loss: 3.0717e-04 - Sales_loss: 1.1227e-04 - Customers_loss: 1.2097e-04 - Sales_mse: 1.1227e-04 - Sales_rmspe: 0.0131 - Customers_mse: 1.2097e-04 - Customers_rmspe: 0.0154 - val_loss: 3.2443e-04 - val_Sales_loss: 1.2007e-04 - val_Customers_loss: 1.3042e-04 - val_Sales_mse: 1.2007e-04 - val_Sales_rmspe: 0.0132 - val_Customers_mse: 1.3042e-04 - val_Customers_rmspe: 0.0155 - lr: 3.2000e-07 - 60s/epoch - 19ms/step\n",
      "Epoch 26/200\n",
      "\n",
      "Epoch 26: val_Sales_mse did not improve from 0.00012\n",
      "3181/3181 - 61s - loss: 3.0679e-04 - Sales_loss: 1.1227e-04 - Customers_loss: 1.2059e-04 - Sales_mse: 1.1227e-04 - Sales_rmspe: 0.0131 - Customers_mse: 1.2059e-04 - Customers_rmspe: 0.0153 - val_loss: 3.2535e-04 - val_Sales_loss: 1.2050e-04 - val_Customers_loss: 1.3092e-04 - val_Sales_mse: 1.2050e-04 - val_Sales_rmspe: 0.0133 - val_Customers_mse: 1.3092e-04 - val_Customers_rmspe: 0.0155 - lr: 6.4000e-08 - 61s/epoch - 19ms/step\n",
      "Epoch 27/200\n",
      "\n",
      "Epoch 27: val_Sales_mse did not improve from 0.00012\n",
      "Restoring model weights from the end of the best epoch: 23.\n",
      "3181/3181 - 63s - loss: 3.0659e-04 - Sales_loss: 1.1196e-04 - Customers_loss: 1.2070e-04 - Sales_mse: 1.1196e-04 - Sales_rmspe: 0.0130 - Customers_mse: 1.2070e-04 - Customers_rmspe: 0.0153 - val_loss: 3.2512e-04 - val_Sales_loss: 1.2027e-04 - val_Customers_loss: 1.3091e-04 - val_Sales_mse: 1.2027e-04 - val_Sales_rmspe: 0.0133 - val_Customers_mse: 1.3091e-04 - val_Customers_rmspe: 0.0155 - lr: 6.4000e-08 - 63s/epoch - 20ms/step\n",
      "Epoch 27: early stopping\n",
      "CPU times: user 3h 39min 27s, sys: 6min 4s, total: 3h 45min 32s\n",
      "Wall time: 27min 22s\n"
     ]
    }
   ],
   "source": [
    "%%time\n",
    "epochs = 200\n",
    "batch_size = 256\n",
    "history = model.fit(X_train, y_train, validation_data=(X_val, y_val),  epochs=epochs, batch_size=batch_size, callbacks=[checkpoint, earlyStopping, reduceLR], verbose=2)"
   ]
  },
  {
   "cell_type": "code",
   "execution_count": 35,
   "metadata": {},
   "outputs": [
    {
     "data": {
      "image/png": "[encoded data removed]",
      "text/plain": [
       "<Figure size 640x480 with 1 Axes>"
      ]
     },
     "metadata": {},
     "output_type": "display_data"
    },
    {
     "data": {
      "text/plain": [
       "[<matplotlib.lines.Line2D at 0x7f69400c7580>]"
      ]
     },
     "execution_count": 35,
     "metadata": {},
     "output_type": "execute_result"
    },
    {
     "data": {
      "image/png": "[encoded data removed]",
      "text/plain": [
       "<Figure size 640x480 with 1 Axes>"
      ]
     },
     "metadata": {},
     "output_type": "display_data"
    }
   ],
   "source": [
    "import matplotlib.pyplot as plt\n",
    "plt.plot(history.history['val_loss'])\n",
    "plt.show()\n",
    "plt.plot(history.history['loss'])"
   ]
  },
  {
   "cell_type": "markdown",
   "metadata": {},
   "source": [
    "# Métrica"
   ]
  },
  {
   "cell_type": "markdown",
   "metadata": {},
   "source": [
    "$$\n",
    "\\textrm{RMSE} = \\sqrt{\\frac{1}{n} \\sum_{i=1}^{n} \\left(\\frac{\\hat{y}_i - y_i}{y_i}\\right)^2}\n",
    "$$"
   ]
  },
  {
   "cell_type": "code",
   "execution_count": 37,
   "metadata": {},
   "outputs": [
    {
     "name": "stdout",
     "output_type": "stream",
     "text": [
      "944/944 [==============================] - 3s 3ms/step - loss: 3.2415e-04 - Sales_loss: 1.1996e-04 - Customers_loss: 1.3024e-04 - Sales_mse: 1.1996e-04 - Sales_rmspe: 0.0130 - Customers_mse: 1.3024e-04 - Customers_rmspe: 0.0151\n"
     ]
    },
    {
     "data": {
      "text/plain": [
       "[0.0003241501108277589,\n",
       " 0.00011996193643426523,\n",
       " 0.00013024036888964474,\n",
       " 0.00011996193643426523,\n",
       " 0.013006063178181648,\n",
       " 0.00013024036888964474,\n",
       " 0.015144533477723598]"
      ]
     },
     "execution_count": 37,
     "metadata": {},
     "output_type": "execute_result"
    }
   ],
   "source": [
    "model.evaluate(X_val, y_val)"
   ]
  },
  {
   "cell_type": "code",
   "execution_count": 38,
   "metadata": {},
   "outputs": [
    {
     "name": "stdout",
     "output_type": "stream",
     "text": [
      "944/944 [==============================] - 3s 3ms/step - loss: 3.2415e-04 - Sales_loss: 1.1996e-04 - Customers_loss: 1.3024e-04 - Sales_mse: 1.1996e-04 - Sales_rmspe: 0.0130 - Customers_mse: 1.3024e-04 - Customers_rmspe: 0.0151\n"
     ]
    },
    {
     "data": {
      "text/plain": [
       "[0.0003241501108277589,\n",
       " 0.00011996193643426523,\n",
       " 0.00013024036888964474,\n",
       " 0.00011996193643426523,\n",
       " 0.013006063178181648,\n",
       " 0.00013024036888964474,\n",
       " 0.015144533477723598]"
      ]
     },
     "execution_count": 38,
     "metadata": {},
     "output_type": "execute_result"
    }
   ],
   "source": [
    "#model.load_weights('bestmodel.hdf5')\n",
    "model.evaluate(X_val, y_val)"
   ]
  },
  {
   "cell_type": "markdown",
   "metadata": {},
   "source": [
    "A superar\n",
    "\n",
    "loss: 0.0017 - Sales_loss: 0.0013 - Customers_loss: 3.0471e-04 - Sales_mse: 0.0013 - Sales_rmspe: 0.2060 - Customers_mse: 3.0471e-04 - Customers_rmspe: 0.1715\n",
    "\n",
    "[0.0016888834070414305,\n",
    " 0.001275751506909728,\n",
    " 0.00030471361242234707,\n",
    " 0.001275751506909728,\n",
    " 0.20596320927143097,\n",
    " 0.00030471361242234707,\n",
    " 0.17151840031147003]\n",
    "\n",
    "\n",
    "Epoch 20: val_Sales_mse did not improve from 0.00128\n",
    "3181/3181 - 28s - loss: 0.0022 - Sales_loss: 0.0017 - Customers_loss: 3.5647e-04 - Sales_mse: 0.0017 - Sales_rmspe: 0.2827 - Customers_mse: 3.5647e-04 - Customers_rmspe: 0.2046 - val_loss: 0.0017 - val_Sales_loss: 0.0013 - val_Customers_loss: 3.1156e-04 - val_Sales_mse: 0.0013 - val_Sales_rmspe: 0.2137 - val_Customers_mse: 3.1156e-04 - val_Customers_rmspe: 0.1805 - 28s/epoch - 9ms/step"
   ]
  },
  {
   "cell_type": "code",
   "execution_count": 39,
   "metadata": {},
   "outputs": [],
   "source": [
    "# model.load_weights('bestmodel.hdf5')\n",
    "# model.evaluate(X_val, y_val)\n",
    "# 30188/30188 [==============================] - 5s 172us/step\n",
    "# [0.12197033089921382,\n",
    "#  0.07211007360268763,\n",
    "#  0.037183713050426136,\n",
    "#  0.07211007360268763,\n",
    "#  0.037183713050426136]\n",
    "\n",
    "# [0.12932546436786652,\n",
    "#  0.07751645147800446,\n",
    "#  0.039259567856788635,\n",
    "#  0.07751645147800446,\n",
    "#  0.039259567856788635]"
   ]
  },
  {
   "cell_type": "code",
   "execution_count": 40,
   "metadata": {},
   "outputs": [
    {
     "name": "stdout",
     "output_type": "stream",
     "text": [
      "944/944 [==============================] - 3s 3ms/step\n",
      "1284/1284 [==============================] - 4s 3ms/step\n"
     ]
    }
   ],
   "source": [
    "if log_output:\n",
    "    if add_customers:\n",
    "        y_pred = np.exp(model.predict(X_val, verbose=1)[0][:, 0]*max_log_y[0])\n",
    "        y_pred_test = np.exp(model.predict(X_test, verbose=1)[0][:, 0]*max_log_y[0])\n",
    "    else:\n",
    "        y_pred = np.exp(model.predict(X_val, verbose=1)*max_log_y)[:,0]\n",
    "        y_pred_test = np.exp(model.predict(X_test, verbose=1)*max_log_y)[:,0]\n",
    "else:\n",
    "    if add_customers:\n",
    "        y_pred = (model.predict(X_val, verbose=1)[0]*y_std[0] + y_mean[0])[:,0]\n",
    "        y_pred_test = (model.predict(X_test, verbose=1)[0]*y_std[0] + y_mean[0])[:,0]\n",
    "    else:\n",
    "#         y_pred = model.predict(X_val, verbose=1)[:,0]*y_std + y_mean\n",
    "#         y_pred_test = model.predict(X_test, verbose=1)[:,0]*y_std + y_mean\n",
    "        y_pred = model.predict(X_val, verbose=1)[:,0]*y_max\n",
    "        y_pred_test = model.predict(X_test, verbose=1)[:,0]*y_max\n",
    "y_pred_test[df_test['Open'] == 0] = 0"
   ]
  },
  {
   "cell_type": "code",
   "execution_count": 41,
   "metadata": {},
   "outputs": [
    {
     "data": {
      "text/plain": [
       "0.12387214438744314"
      ]
     },
     "execution_count": 41,
     "metadata": {},
     "output_type": "execute_result"
    }
   ],
   "source": [
    "metric_sales = np.sqrt((((df_val['Sales'].values - y_pred)/df_val['Sales'].values)**2).sum()/len(y_pred))\n",
    "log_metric(\"metric_sales\", metric_sales)\n",
    "metric_sales"
   ]
  },
  {
   "cell_type": "code",
   "execution_count": 42,
   "metadata": {},
   "outputs": [
    {
     "data": {
      "text/plain": [
       "array([4408.8696, 7065.0005, 9383.62  , 6324.1235, 7052.2573, 5622.3193,\n",
       "       7882.916 , 7778.56  , 4788.5586, 5753.86  ], dtype=float32)"
      ]
     },
     "execution_count": 42,
     "metadata": {},
     "output_type": "execute_result"
    }
   ],
   "source": [
    "y_pred_test[:10]"
   ]
  },
  {
   "cell_type": "markdown",
   "metadata": {},
   "source": [
    "# Sumbit a la competición"
   ]
  },
  {
   "cell_type": "code",
   "execution_count": 43,
   "metadata": {},
   "outputs": [],
   "source": [
    "\n",
    "sample_csv = pd.read_csv('dataset/sample_submission.csv')\n",
    "sample_csv['Sales'] = y_pred_test\n",
    "sample_csv.head()\n",
    "\n",
    "sample_csv.to_csv(f'c06-submision_{add_customers}-{log_output}-{output_activation}-{l2_lambda}-{first_hidden_units}-{epochs}-{batch_size}-{lr}.csv', index=False)\n"
   ]
  },
  {
   "cell_type": "markdown",
   "metadata": {},
   "source": [
    "# Baseline"
   ]
  },
  {
   "cell_type": "code",
   "execution_count": null,
   "metadata": {},
   "outputs": [],
   "source": [
    "import pandas as pd\n",
    "sample_csv = pd.read_csv('dataset/sample_submission.csv')"
   ]
  },
  {
   "cell_type": "code",
   "execution_count": null,
   "metadata": {},
   "outputs": [],
   "source": [
    "stores_mean = {}\n",
    "for store, g_df in df.groupby('Store'):\n",
    "    stores_mean[store] = g_df[g_df['Sales'] > 0]['Sales'].mean()"
   ]
  },
  {
   "cell_type": "code",
   "execution_count": null,
   "metadata": {},
   "outputs": [],
   "source": [
    "df_test['Sales'] = df_test['Store'].apply(stores_mean.get)\n",
    "df_test.loc[df_test['Open'] == 0, 'Sales'] = 0"
   ]
  },
  {
   "cell_type": "code",
   "execution_count": null,
   "metadata": {},
   "outputs": [],
   "source": [
    "df_test[['Store', 'Sales']].head(10)"
   ]
  },
  {
   "cell_type": "code",
   "execution_count": null,
   "metadata": {},
   "outputs": [],
   "source": [
    "df_test[df_test['Open'] == 0][['Store', 'Sales']].head()"
   ]
  },
  {
   "cell_type": "code",
   "execution_count": null,
   "metadata": {},
   "outputs": [],
   "source": [
    "sample_csv['Sales'] = df_test['Sales']"
   ]
  },
  {
   "cell_type": "code",
   "execution_count": null,
   "metadata": {},
   "outputs": [],
   "source": [
    "sample_csv.to_csv(f'submision_baseline.csv', index=False)"
   ]
  },
  {
   "cell_type": "code",
   "execution_count": null,
   "metadata": {},
   "outputs": [],
   "source": [
    "sample_csv.head()"
   ]
  },
  {
   "cell_type": "markdown",
   "metadata": {},
   "source": [
    "# Analisis de embedings"
   ]
  },
  {
   "cell_type": "code",
   "execution_count": null,
   "metadata": {},
   "outputs": [],
   "source": [
    "def plot_embed(layer_name, cat_names):\n",
    "    Y = model.get_layer(layer_name).get_weights()[0]\n",
    "    print(Y.shape)\n",
    "    plt.figure(figsize=(8,8))\n",
    "    plt.scatter(-Y[:, 0], -Y[:, 1])\n",
    "    for i, txt in enumerate(cat_names):\n",
    "        plt.annotate(txt, (-Y[i, 0],-Y[i, 1]), xytext = (-5, 8), textcoords = 'offset points')"
   ]
  },
  {
   "cell_type": "code",
   "execution_count": null,
   "metadata": {},
   "outputs": [],
   "source": [
    "model.load_weights('bestmodel.hdf5')\n",
    "plot_embed('DayOfWeek_Embed', ['Mon', 'Tue', 'Wed', 'Thu', 'Fri', 'Sat','Sun'])"
   ]
  },
  {
   "cell_type": "code",
   "execution_count": null,
   "metadata": {},
   "outputs": [],
   "source": [
    "#plot_embed('Month_Embed', list(range(12)))\n",
    "plot_embed('Events_Embed', list(range(4)))"
   ]
  },
  {
   "cell_type": "code",
   "execution_count": null,
   "metadata": {},
   "outputs": [],
   "source": [
    "from sklearn.manifold import TSNE\n",
    "from sklearn.decomposition import PCA"
   ]
  },
  {
   "cell_type": "code",
   "execution_count": null,
   "metadata": {},
   "outputs": [],
   "source": [
    "day_of_week_embedding = model.get_layer('DayOfWeek_Embed').get_weights()[0]\n",
    "day_of_week_embedding.shape"
   ]
  },
  {
   "cell_type": "code",
   "execution_count": null,
   "metadata": {},
   "outputs": [],
   "source": [
    "tsne = TSNE(n_components=2, random_state=1, learning_rate=10, n_iter=10000)\n",
    "Y = tsne.fit_transform(day_of_week_embedding)\n",
    "names = ['Mon', 'Tue', 'Wed', 'Thu', 'Fri', 'Sat','Sun']\n",
    "plt.figure(figsize=(8,8))\n",
    "plt.scatter(-Y[:, 0], -Y[:, 1])\n",
    "for i, txt in enumerate(names):\n",
    "    plt.annotate(txt, (-Y[i, 0],-Y[i, 1]), xytext = (-5, 8), textcoords = 'offset points')"
   ]
  },
  {
   "cell_type": "markdown",
   "metadata": {},
   "source": [
    "## Store embeddings"
   ]
  },
  {
   "cell_type": "code",
   "execution_count": null,
   "metadata": {},
   "outputs": [],
   "source": [
    "submodel = Model(cat_var_inputs + cont_vars_inputs, merged)"
   ]
  },
  {
   "cell_type": "code",
   "execution_count": null,
   "metadata": {},
   "outputs": [],
   "source": [
    "submodel.summary()"
   ]
  },
  {
   "cell_type": "code",
   "execution_count": null,
   "metadata": {},
   "outputs": [],
   "source": [
    "submodel.save('embeddings_model.hdf5')"
   ]
  },
  {
   "cell_type": "code",
   "execution_count": null,
   "metadata": {},
   "outputs": [],
   "source": [
    "from datetime import datetime\n",
    "\n",
    "# datetime object containing current date and time\n",
    "now = datetime.now()\n",
    "# dd/mm/YY H:M:S\n",
    "dt_string = now.strftime(\"%d/%m/%Y %H:%M:%S\")\n",
    "print(\"date and time =\", dt_string)"
   ]
  },
  {
   "cell_type": "code",
   "execution_count": null,
   "metadata": {
    "collapsed": false,
    "jupyter": {
     "outputs_hidden": false
    }
   },
   "outputs": [],
   "source": [
    "#! mlflow ui"
   ]
  },
  {
   "cell_type": "code",
   "execution_count": null,
   "metadata": {
    "collapsed": false,
    "jupyter": {
     "outputs_hidden": false
    }
   },
   "outputs": [],
   "source": []
  }
 ],
 "metadata": {
  "kernelspec": {
   "display_name": "Python 3 (ipykernel)",
   "language": "python",
   "name": "python3"
  },
  "language_info": {
   "codemirror_mode": {
    "name": "ipython",
    "version": 3
   },
   "file_extension": ".py",
   "mimetype": "text/x-python",
   "name": "python",
   "nbconvert_exporter": "python",
   "pygments_lexer": "ipython3",
   "version": "3.9.16"
  }
 },
 "nbformat": 4,
 "nbformat_minor": 4
}
