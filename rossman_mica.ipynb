{
 "cells": [
  {
   "cell_type": "markdown",
   "metadata": {},
   "source": [
    "# Rossmann Store Sales Forecast Using Deep Learning"
   ]
  },
  {
   "cell_type": "markdown",
   "metadata": {},
   "source": [
    "![Rossmann](images/photo.png)\n",
    "\n",
    "The objective of this notebook is to forecast sales using store, promotion, and competitor data using deep neural network and explain the process to the C-Suite inin layman's terms. The data was obtained from [Kaggle](https://www.kaggle.com/c/rossmann-store-sales/data).\n",
    "\n",
    "This notebook is also available at https://git.io/v5oCA."
   ]
  },
  {
   "cell_type": "markdown",
   "metadata": {},
   "source": [
    "## Introduction"
   ]
  },
  {
   "cell_type": "markdown",
   "metadata": {},
   "source": [
    "Rossmann operates over 3,000 drug stores in 7 European countries. Currently, Rossmann store managers are tasked with predicting their daily sales for up to six weeks in advance. Store sales are influenced by many factors, including promotions, competition, school and state holidays, seasonality, and locality. With thousands of individual managers predicting sales based on their unique circumstances, the accuracy of results can be quite varied.\n",
    "\n",
    "The objective of this project is to predict daily sales for 1,115 stores located across Germany. Reliable sales forecasts enable store managers to create effective staff schedules that increase productivity and motivation. By creating a robust prediction model, store managers can stay focused on their customers and their teams.\n",
    "\n",
    "The developed model achieved high accuracy with Root Mean Squared Percentage Error (RMSPE) 0.23. The formula is:\n",
    "\n",
    "$$\n",
    "\\textrm{RMSE} = \\sqrt{\\frac{1}{n} \\sum_{i=1}^{n} \\left(\\frac{\\hat{y}_i - y_i}{y_i}\\right)^2}\n",
    "$$\n",
    "\n",
    "where:\n",
    "\n",
    "- $\\hat{y}_i$ is the actual sales of one store on a particular day\n",
    "- $y_i$ is the corresponding sales predicted by the model\n",
    "- $n$ is the number of predictions made\n",
    "\n",
    "Below is a high-level overview of the steps taken to develop such robust model:\n",
    "1. Transform the raw data into format which is accepted by the machine learning algorithm.\n",
    "2. Build a predictive model by feeding the transformed data to the algorithm.\n",
    "3. Use a seperate set of raw data to evaluate the performnace of the derived model.\n",
    "\n",
    "In particular, the model we uses is deep nerual network, which is also called deep learning and is the underlying model of cutting-edge applications like Siri and AlphaGo. A simplified illustration of an nerual network:\n",
    "\n",
    "![a simplified illustration of neural network](images/neural_network.png)"
   ]
  },
  {
   "cell_type": "markdown",
   "metadata": {},
   "source": [
    "## Setup the environment"
   ]
  },
  {
   "cell_type": "markdown",
   "metadata": {},
   "source": [
    "Import the modules to be used by this notebook:"
   ]
  },
  {
   "cell_type": "code",
   "execution_count": 1,
   "metadata": {
    "ExecuteTime": {
     "end_time": "2017-09-09T12:29:02.850466Z",
     "start_time": "2017-09-09T12:29:01.195351Z"
    }
   },
   "outputs": [
    {
     "name": "stderr",
     "output_type": "stream",
     "text": [
      "2023-02-22 10:41:14.359325: I tensorflow/core/platform/cpu_feature_guard.cc:193] This TensorFlow binary is optimized with oneAPI Deep Neural Network Library (oneDNN) to use the following CPU instructions in performance-critical operations:  AVX2 FMA\n",
      "To enable them in other operations, rebuild TensorFlow with the appropriate compiler flags.\n",
      "2023-02-22 10:41:14.588156: W tensorflow/compiler/xla/stream_executor/platform/default/dso_loader.cc:64] Could not load dynamic library 'libcudart.so.11.0'; dlerror: libcudart.so.11.0: cannot open shared object file: No such file or directory\n",
      "2023-02-22 10:41:14.588173: I tensorflow/compiler/xla/stream_executor/cuda/cudart_stub.cc:29] Ignore above cudart dlerror if you do not have a GPU set up on your machine.\n",
      "2023-02-22 10:41:15.469255: W tensorflow/compiler/xla/stream_executor/platform/default/dso_loader.cc:64] Could not load dynamic library 'libnvinfer.so.7'; dlerror: libnvinfer.so.7: cannot open shared object file: No such file or directory\n",
      "2023-02-22 10:41:15.469311: W tensorflow/compiler/xla/stream_executor/platform/default/dso_loader.cc:64] Could not load dynamic library 'libnvinfer_plugin.so.7'; dlerror: libnvinfer_plugin.so.7: cannot open shared object file: No such file or directory\n",
      "2023-02-22 10:41:15.469316: W tensorflow/compiler/tf2tensorrt/utils/py_utils.cc:38] TF-TRT Warning: Cannot dlopen some TensorRT libraries. If you would like to use Nvidia GPU with TensorRT, please make sure the missing libraries mentioned above are installed properly.\n"
     ]
    }
   ],
   "source": [
    "import math, keras, datetime, pandas as pd, numpy as np, keras.backend as K\n",
    "import matplotlib.pyplot as plt, operator, random, pickle\n",
    "# from utils2 import *\n",
    "from isoweek import Week\n",
    "from pandas_summary import DataFrameSummary\n",
    "from IPython.display import SVG\n",
    "from numpy import mean, sqrt, square, arange"
   ]
  },
  {
   "cell_type": "markdown",
   "metadata": {},
   "source": [
    "Set the preferred options:"
   ]
  },
  {
   "cell_type": "code",
   "execution_count": 2,
   "metadata": {
    "ExecuteTime": {
     "end_time": "2017-09-09T12:29:02.870306Z",
     "start_time": "2017-09-09T12:29:02.854567Z"
    }
   },
   "outputs": [],
   "source": [
    "np.set_printoptions(threshold=50, edgeitems=20)"
   ]
  },
  {
   "cell_type": "markdown",
   "metadata": {},
   "source": [
    "## Import dataset"
   ]
  },
  {
   "cell_type": "markdown",
   "metadata": {},
   "source": [
    "The following tables are available in the datasets:\n",
    "\n",
    "| Table        | Table Description                                                                                               |\n",
    "|--------------|-----------------------------------------------------------------------------------------------------------------|\n",
    "| train        | training set: store information on a daily basis, tracking things like sales, customers, whether that day was a holiday, etc. |\n",
    "| store        | general information about the store including competition, etc.                                                 |\n",
    "| store_states | maps store to state it is in                                                                                    |\n",
    "| state_names  | maps state abbreviations to names                                                                               |\n",
    "| googletrend  | trend data for particular week/state                                                                            |\n",
    "| weather      | weather conditions for each state                                                                               |\n",
    "\n",
    "Import the tables to the environemnts:"
   ]
  },
  {
   "cell_type": "code",
   "execution_count": 3,
   "metadata": {},
   "outputs": [],
   "source": [
    "PATH = 'dataset/'"
   ]
  },
  {
   "cell_type": "code",
   "execution_count": 4,
   "metadata": {
    "ExecuteTime": {
     "end_time": "2017-09-09T12:29:03.442382Z",
     "start_time": "2017-09-09T12:29:02.874344Z"
    },
    "tags": []
   },
   "outputs": [],
   "source": [
    "table_names = ['train', 'store', 'store_states', 'state_names', 'googletrend', 'weather']\n",
    "train, store, store_states, state_names, googletrend, weather = [pd.read_csv(PATH + fname+'.csv', \n",
    "                                                                             low_memory=False) for fname in table_names]"
   ]
  },
  {
   "cell_type": "markdown",
   "metadata": {},
   "source": [
    "Display the first 5 rows and statsitics of each table to get a quick understanding of the dataset:"
   ]
  },
  {
   "cell_type": "code",
   "execution_count": 5,
   "metadata": {
    "ExecuteTime": {
     "end_time": "2017-09-09T12:29:04.098431Z",
     "start_time": "2017-09-09T12:29:03.446701Z"
    }
   },
   "outputs": [
    {
     "data": {
      "text/html": [
       "<div>\n",
       "<style scoped>\n",
       "    .dataframe tbody tr th:only-of-type {\n",
       "        vertical-align: middle;\n",
       "    }\n",
       "\n",
       "    .dataframe tbody tr th {\n",
       "        vertical-align: top;\n",
       "    }\n",
       "\n",
       "    .dataframe thead th {\n",
       "        text-align: right;\n",
       "    }\n",
       "</style>\n",
       "<table border=\"1\" class=\"dataframe\">\n",
       "  <thead>\n",
       "    <tr style=\"text-align: right;\">\n",
       "      <th></th>\n",
       "      <th>Store</th>\n",
       "      <th>DayOfWeek</th>\n",
       "      <th>Date</th>\n",
       "      <th>Sales</th>\n",
       "      <th>Customers</th>\n",
       "      <th>Open</th>\n",
       "      <th>Promo</th>\n",
       "      <th>StateHoliday</th>\n",
       "      <th>SchoolHoliday</th>\n",
       "    </tr>\n",
       "  </thead>\n",
       "  <tbody>\n",
       "    <tr>\n",
       "      <th>0</th>\n",
       "      <td>1</td>\n",
       "      <td>5</td>\n",
       "      <td>2015-07-31</td>\n",
       "      <td>5263</td>\n",
       "      <td>555</td>\n",
       "      <td>1</td>\n",
       "      <td>1</td>\n",
       "      <td>0</td>\n",
       "      <td>1</td>\n",
       "    </tr>\n",
       "    <tr>\n",
       "      <th>1</th>\n",
       "      <td>2</td>\n",
       "      <td>5</td>\n",
       "      <td>2015-07-31</td>\n",
       "      <td>6064</td>\n",
       "      <td>625</td>\n",
       "      <td>1</td>\n",
       "      <td>1</td>\n",
       "      <td>0</td>\n",
       "      <td>1</td>\n",
       "    </tr>\n",
       "    <tr>\n",
       "      <th>2</th>\n",
       "      <td>3</td>\n",
       "      <td>5</td>\n",
       "      <td>2015-07-31</td>\n",
       "      <td>8314</td>\n",
       "      <td>821</td>\n",
       "      <td>1</td>\n",
       "      <td>1</td>\n",
       "      <td>0</td>\n",
       "      <td>1</td>\n",
       "    </tr>\n",
       "    <tr>\n",
       "      <th>3</th>\n",
       "      <td>4</td>\n",
       "      <td>5</td>\n",
       "      <td>2015-07-31</td>\n",
       "      <td>13995</td>\n",
       "      <td>1498</td>\n",
       "      <td>1</td>\n",
       "      <td>1</td>\n",
       "      <td>0</td>\n",
       "      <td>1</td>\n",
       "    </tr>\n",
       "    <tr>\n",
       "      <th>4</th>\n",
       "      <td>5</td>\n",
       "      <td>5</td>\n",
       "      <td>2015-07-31</td>\n",
       "      <td>4822</td>\n",
       "      <td>559</td>\n",
       "      <td>1</td>\n",
       "      <td>1</td>\n",
       "      <td>0</td>\n",
       "      <td>1</td>\n",
       "    </tr>\n",
       "  </tbody>\n",
       "</table>\n",
       "</div>"
      ],
      "text/plain": [
       "   Store  DayOfWeek        Date  Sales  Customers  Open  Promo StateHoliday  \\\n",
       "0      1          5  2015-07-31   5263        555     1      1            0   \n",
       "1      2          5  2015-07-31   6064        625     1      1            0   \n",
       "2      3          5  2015-07-31   8314        821     1      1            0   \n",
       "3      4          5  2015-07-31  13995       1498     1      1            0   \n",
       "4      5          5  2015-07-31   4822        559     1      1            0   \n",
       "\n",
       "   SchoolHoliday  \n",
       "0              1  \n",
       "1              1  \n",
       "2              1  \n",
       "3              1  \n",
       "4              1  "
      ]
     },
     "metadata": {},
     "output_type": "display_data"
    },
    {
     "data": {
      "text/html": [
       "<div>\n",
       "<style scoped>\n",
       "    .dataframe tbody tr th:only-of-type {\n",
       "        vertical-align: middle;\n",
       "    }\n",
       "\n",
       "    .dataframe tbody tr th {\n",
       "        vertical-align: top;\n",
       "    }\n",
       "\n",
       "    .dataframe thead th {\n",
       "        text-align: right;\n",
       "    }\n",
       "</style>\n",
       "<table border=\"1\" class=\"dataframe\">\n",
       "  <thead>\n",
       "    <tr style=\"text-align: right;\">\n",
       "      <th></th>\n",
       "      <th>Store</th>\n",
       "      <th>DayOfWeek</th>\n",
       "      <th>Date</th>\n",
       "      <th>Sales</th>\n",
       "      <th>Customers</th>\n",
       "      <th>Open</th>\n",
       "      <th>Promo</th>\n",
       "      <th>StateHoliday</th>\n",
       "      <th>SchoolHoliday</th>\n",
       "    </tr>\n",
       "  </thead>\n",
       "  <tbody>\n",
       "    <tr>\n",
       "      <th>count</th>\n",
       "      <td>1017209.0</td>\n",
       "      <td>1017209.0</td>\n",
       "      <td>NaN</td>\n",
       "      <td>1017209.0</td>\n",
       "      <td>1017209.0</td>\n",
       "      <td>1017209.0</td>\n",
       "      <td>1017209.0</td>\n",
       "      <td>NaN</td>\n",
       "      <td>1017209.0</td>\n",
       "    </tr>\n",
       "    <tr>\n",
       "      <th>mean</th>\n",
       "      <td>558.429727</td>\n",
       "      <td>3.998341</td>\n",
       "      <td>NaN</td>\n",
       "      <td>5773.818972</td>\n",
       "      <td>633.145946</td>\n",
       "      <td>0.830107</td>\n",
       "      <td>0.381515</td>\n",
       "      <td>NaN</td>\n",
       "      <td>0.178647</td>\n",
       "    </tr>\n",
       "    <tr>\n",
       "      <th>std</th>\n",
       "      <td>321.908651</td>\n",
       "      <td>1.997391</td>\n",
       "      <td>NaN</td>\n",
       "      <td>3849.926175</td>\n",
       "      <td>464.411734</td>\n",
       "      <td>0.375539</td>\n",
       "      <td>0.485759</td>\n",
       "      <td>NaN</td>\n",
       "      <td>0.383056</td>\n",
       "    </tr>\n",
       "    <tr>\n",
       "      <th>min</th>\n",
       "      <td>1.0</td>\n",
       "      <td>1.0</td>\n",
       "      <td>NaN</td>\n",
       "      <td>0.0</td>\n",
       "      <td>0.0</td>\n",
       "      <td>0.0</td>\n",
       "      <td>0.0</td>\n",
       "      <td>NaN</td>\n",
       "      <td>0.0</td>\n",
       "    </tr>\n",
       "    <tr>\n",
       "      <th>25%</th>\n",
       "      <td>280.0</td>\n",
       "      <td>2.0</td>\n",
       "      <td>NaN</td>\n",
       "      <td>3727.0</td>\n",
       "      <td>405.0</td>\n",
       "      <td>1.0</td>\n",
       "      <td>0.0</td>\n",
       "      <td>NaN</td>\n",
       "      <td>0.0</td>\n",
       "    </tr>\n",
       "    <tr>\n",
       "      <th>50%</th>\n",
       "      <td>558.0</td>\n",
       "      <td>4.0</td>\n",
       "      <td>NaN</td>\n",
       "      <td>5744.0</td>\n",
       "      <td>609.0</td>\n",
       "      <td>1.0</td>\n",
       "      <td>0.0</td>\n",
       "      <td>NaN</td>\n",
       "      <td>0.0</td>\n",
       "    </tr>\n",
       "    <tr>\n",
       "      <th>75%</th>\n",
       "      <td>838.0</td>\n",
       "      <td>6.0</td>\n",
       "      <td>NaN</td>\n",
       "      <td>7856.0</td>\n",
       "      <td>837.0</td>\n",
       "      <td>1.0</td>\n",
       "      <td>1.0</td>\n",
       "      <td>NaN</td>\n",
       "      <td>0.0</td>\n",
       "    </tr>\n",
       "    <tr>\n",
       "      <th>max</th>\n",
       "      <td>1115.0</td>\n",
       "      <td>7.0</td>\n",
       "      <td>NaN</td>\n",
       "      <td>41551.0</td>\n",
       "      <td>7388.0</td>\n",
       "      <td>1.0</td>\n",
       "      <td>1.0</td>\n",
       "      <td>NaN</td>\n",
       "      <td>1.0</td>\n",
       "    </tr>\n",
       "    <tr>\n",
       "      <th>counts</th>\n",
       "      <td>1017209</td>\n",
       "      <td>1017209</td>\n",
       "      <td>1017209</td>\n",
       "      <td>1017209</td>\n",
       "      <td>1017209</td>\n",
       "      <td>1017209</td>\n",
       "      <td>1017209</td>\n",
       "      <td>1017209</td>\n",
       "      <td>1017209</td>\n",
       "    </tr>\n",
       "    <tr>\n",
       "      <th>uniques</th>\n",
       "      <td>1115</td>\n",
       "      <td>7</td>\n",
       "      <td>942</td>\n",
       "      <td>21734</td>\n",
       "      <td>4086</td>\n",
       "      <td>2</td>\n",
       "      <td>2</td>\n",
       "      <td>4</td>\n",
       "      <td>2</td>\n",
       "    </tr>\n",
       "    <tr>\n",
       "      <th>missing</th>\n",
       "      <td>0</td>\n",
       "      <td>0</td>\n",
       "      <td>0</td>\n",
       "      <td>0</td>\n",
       "      <td>0</td>\n",
       "      <td>0</td>\n",
       "      <td>0</td>\n",
       "      <td>0</td>\n",
       "      <td>0</td>\n",
       "    </tr>\n",
       "    <tr>\n",
       "      <th>missing_perc</th>\n",
       "      <td>0%</td>\n",
       "      <td>0%</td>\n",
       "      <td>0%</td>\n",
       "      <td>0%</td>\n",
       "      <td>0%</td>\n",
       "      <td>0%</td>\n",
       "      <td>0%</td>\n",
       "      <td>0%</td>\n",
       "      <td>0%</td>\n",
       "    </tr>\n",
       "    <tr>\n",
       "      <th>types</th>\n",
       "      <td>numeric</td>\n",
       "      <td>numeric</td>\n",
       "      <td>categorical</td>\n",
       "      <td>numeric</td>\n",
       "      <td>numeric</td>\n",
       "      <td>bool</td>\n",
       "      <td>bool</td>\n",
       "      <td>categorical</td>\n",
       "      <td>bool</td>\n",
       "    </tr>\n",
       "  </tbody>\n",
       "</table>\n",
       "</div>"
      ],
      "text/plain": [
       "                   Store  DayOfWeek         Date        Sales   Customers  \\\n",
       "count          1017209.0  1017209.0          NaN    1017209.0   1017209.0   \n",
       "mean          558.429727   3.998341          NaN  5773.818972  633.145946   \n",
       "std           321.908651   1.997391          NaN  3849.926175  464.411734   \n",
       "min                  1.0        1.0          NaN          0.0         0.0   \n",
       "25%                280.0        2.0          NaN       3727.0       405.0   \n",
       "50%                558.0        4.0          NaN       5744.0       609.0   \n",
       "75%                838.0        6.0          NaN       7856.0       837.0   \n",
       "max               1115.0        7.0          NaN      41551.0      7388.0   \n",
       "counts           1017209    1017209      1017209      1017209     1017209   \n",
       "uniques             1115          7          942        21734        4086   \n",
       "missing                0          0            0            0           0   \n",
       "missing_perc          0%         0%           0%           0%          0%   \n",
       "types            numeric    numeric  categorical      numeric     numeric   \n",
       "\n",
       "                   Open      Promo StateHoliday SchoolHoliday  \n",
       "count         1017209.0  1017209.0          NaN     1017209.0  \n",
       "mean           0.830107   0.381515          NaN      0.178647  \n",
       "std            0.375539   0.485759          NaN      0.383056  \n",
       "min                 0.0        0.0          NaN           0.0  \n",
       "25%                 1.0        0.0          NaN           0.0  \n",
       "50%                 1.0        0.0          NaN           0.0  \n",
       "75%                 1.0        1.0          NaN           0.0  \n",
       "max                 1.0        1.0          NaN           1.0  \n",
       "counts          1017209    1017209      1017209       1017209  \n",
       "uniques               2          2            4             2  \n",
       "missing               0          0            0             0  \n",
       "missing_perc         0%         0%           0%            0%  \n",
       "types              bool       bool  categorical          bool  "
      ]
     },
     "metadata": {},
     "output_type": "display_data"
    }
   ],
   "source": [
    "display(train.head())\n",
    "display(DataFrameSummary(train).summary())"
   ]
  },
  {
   "cell_type": "code",
   "execution_count": 6,
   "metadata": {
    "ExecuteTime": {
     "end_time": "2017-09-09T12:29:04.162444Z",
     "start_time": "2017-09-09T12:29:04.102414Z"
    }
   },
   "outputs": [
    {
     "data": {
      "text/html": [
       "<div>\n",
       "<style scoped>\n",
       "    .dataframe tbody tr th:only-of-type {\n",
       "        vertical-align: middle;\n",
       "    }\n",
       "\n",
       "    .dataframe tbody tr th {\n",
       "        vertical-align: top;\n",
       "    }\n",
       "\n",
       "    .dataframe thead th {\n",
       "        text-align: right;\n",
       "    }\n",
       "</style>\n",
       "<table border=\"1\" class=\"dataframe\">\n",
       "  <thead>\n",
       "    <tr style=\"text-align: right;\">\n",
       "      <th></th>\n",
       "      <th>Store</th>\n",
       "      <th>StoreType</th>\n",
       "      <th>Assortment</th>\n",
       "      <th>CompetitionDistance</th>\n",
       "      <th>CompetitionOpenSinceMonth</th>\n",
       "      <th>CompetitionOpenSinceYear</th>\n",
       "      <th>Promo2</th>\n",
       "      <th>Promo2SinceWeek</th>\n",
       "      <th>Promo2SinceYear</th>\n",
       "      <th>PromoInterval</th>\n",
       "    </tr>\n",
       "  </thead>\n",
       "  <tbody>\n",
       "    <tr>\n",
       "      <th>0</th>\n",
       "      <td>1</td>\n",
       "      <td>c</td>\n",
       "      <td>a</td>\n",
       "      <td>1270.0</td>\n",
       "      <td>9.0</td>\n",
       "      <td>2008.0</td>\n",
       "      <td>0</td>\n",
       "      <td>NaN</td>\n",
       "      <td>NaN</td>\n",
       "      <td>NaN</td>\n",
       "    </tr>\n",
       "    <tr>\n",
       "      <th>1</th>\n",
       "      <td>2</td>\n",
       "      <td>a</td>\n",
       "      <td>a</td>\n",
       "      <td>570.0</td>\n",
       "      <td>11.0</td>\n",
       "      <td>2007.0</td>\n",
       "      <td>1</td>\n",
       "      <td>13.0</td>\n",
       "      <td>2010.0</td>\n",
       "      <td>Jan,Apr,Jul,Oct</td>\n",
       "    </tr>\n",
       "    <tr>\n",
       "      <th>2</th>\n",
       "      <td>3</td>\n",
       "      <td>a</td>\n",
       "      <td>a</td>\n",
       "      <td>14130.0</td>\n",
       "      <td>12.0</td>\n",
       "      <td>2006.0</td>\n",
       "      <td>1</td>\n",
       "      <td>14.0</td>\n",
       "      <td>2011.0</td>\n",
       "      <td>Jan,Apr,Jul,Oct</td>\n",
       "    </tr>\n",
       "    <tr>\n",
       "      <th>3</th>\n",
       "      <td>4</td>\n",
       "      <td>c</td>\n",
       "      <td>c</td>\n",
       "      <td>620.0</td>\n",
       "      <td>9.0</td>\n",
       "      <td>2009.0</td>\n",
       "      <td>0</td>\n",
       "      <td>NaN</td>\n",
       "      <td>NaN</td>\n",
       "      <td>NaN</td>\n",
       "    </tr>\n",
       "    <tr>\n",
       "      <th>4</th>\n",
       "      <td>5</td>\n",
       "      <td>a</td>\n",
       "      <td>a</td>\n",
       "      <td>29910.0</td>\n",
       "      <td>4.0</td>\n",
       "      <td>2015.0</td>\n",
       "      <td>0</td>\n",
       "      <td>NaN</td>\n",
       "      <td>NaN</td>\n",
       "      <td>NaN</td>\n",
       "    </tr>\n",
       "  </tbody>\n",
       "</table>\n",
       "</div>"
      ],
      "text/plain": [
       "   Store StoreType Assortment  CompetitionDistance  CompetitionOpenSinceMonth  \\\n",
       "0      1         c          a               1270.0                        9.0   \n",
       "1      2         a          a                570.0                       11.0   \n",
       "2      3         a          a              14130.0                       12.0   \n",
       "3      4         c          c                620.0                        9.0   \n",
       "4      5         a          a              29910.0                        4.0   \n",
       "\n",
       "   CompetitionOpenSinceYear  Promo2  Promo2SinceWeek  Promo2SinceYear  \\\n",
       "0                    2008.0       0              NaN              NaN   \n",
       "1                    2007.0       1             13.0           2010.0   \n",
       "2                    2006.0       1             14.0           2011.0   \n",
       "3                    2009.0       0              NaN              NaN   \n",
       "4                    2015.0       0              NaN              NaN   \n",
       "\n",
       "     PromoInterval  \n",
       "0              NaN  \n",
       "1  Jan,Apr,Jul,Oct  \n",
       "2  Jan,Apr,Jul,Oct  \n",
       "3              NaN  \n",
       "4              NaN  "
      ]
     },
     "metadata": {},
     "output_type": "display_data"
    },
    {
     "data": {
      "text/html": [
       "<div>\n",
       "<style scoped>\n",
       "    .dataframe tbody tr th:only-of-type {\n",
       "        vertical-align: middle;\n",
       "    }\n",
       "\n",
       "    .dataframe tbody tr th {\n",
       "        vertical-align: top;\n",
       "    }\n",
       "\n",
       "    .dataframe thead th {\n",
       "        text-align: right;\n",
       "    }\n",
       "</style>\n",
       "<table border=\"1\" class=\"dataframe\">\n",
       "  <thead>\n",
       "    <tr style=\"text-align: right;\">\n",
       "      <th></th>\n",
       "      <th>Store</th>\n",
       "      <th>StoreType</th>\n",
       "      <th>Assortment</th>\n",
       "      <th>CompetitionDistance</th>\n",
       "      <th>CompetitionOpenSinceMonth</th>\n",
       "      <th>CompetitionOpenSinceYear</th>\n",
       "      <th>Promo2</th>\n",
       "      <th>Promo2SinceWeek</th>\n",
       "      <th>Promo2SinceYear</th>\n",
       "      <th>PromoInterval</th>\n",
       "    </tr>\n",
       "  </thead>\n",
       "  <tbody>\n",
       "    <tr>\n",
       "      <th>count</th>\n",
       "      <td>1115.0</td>\n",
       "      <td>NaN</td>\n",
       "      <td>NaN</td>\n",
       "      <td>1112.0</td>\n",
       "      <td>761.0</td>\n",
       "      <td>761.0</td>\n",
       "      <td>1115.0</td>\n",
       "      <td>571.0</td>\n",
       "      <td>571.0</td>\n",
       "      <td>NaN</td>\n",
       "    </tr>\n",
       "    <tr>\n",
       "      <th>mean</th>\n",
       "      <td>558.0</td>\n",
       "      <td>NaN</td>\n",
       "      <td>NaN</td>\n",
       "      <td>5404.901079</td>\n",
       "      <td>7.224704</td>\n",
       "      <td>2008.668857</td>\n",
       "      <td>0.512108</td>\n",
       "      <td>23.595447</td>\n",
       "      <td>2011.763573</td>\n",
       "      <td>NaN</td>\n",
       "    </tr>\n",
       "    <tr>\n",
       "      <th>std</th>\n",
       "      <td>322.01708</td>\n",
       "      <td>NaN</td>\n",
       "      <td>NaN</td>\n",
       "      <td>7663.17472</td>\n",
       "      <td>3.212348</td>\n",
       "      <td>6.195983</td>\n",
       "      <td>0.500078</td>\n",
       "      <td>14.141984</td>\n",
       "      <td>1.674935</td>\n",
       "      <td>NaN</td>\n",
       "    </tr>\n",
       "    <tr>\n",
       "      <th>min</th>\n",
       "      <td>1.0</td>\n",
       "      <td>NaN</td>\n",
       "      <td>NaN</td>\n",
       "      <td>20.0</td>\n",
       "      <td>1.0</td>\n",
       "      <td>1900.0</td>\n",
       "      <td>0.0</td>\n",
       "      <td>1.0</td>\n",
       "      <td>2009.0</td>\n",
       "      <td>NaN</td>\n",
       "    </tr>\n",
       "    <tr>\n",
       "      <th>25%</th>\n",
       "      <td>279.5</td>\n",
       "      <td>NaN</td>\n",
       "      <td>NaN</td>\n",
       "      <td>717.5</td>\n",
       "      <td>4.0</td>\n",
       "      <td>2006.0</td>\n",
       "      <td>0.0</td>\n",
       "      <td>13.0</td>\n",
       "      <td>2011.0</td>\n",
       "      <td>NaN</td>\n",
       "    </tr>\n",
       "    <tr>\n",
       "      <th>50%</th>\n",
       "      <td>558.0</td>\n",
       "      <td>NaN</td>\n",
       "      <td>NaN</td>\n",
       "      <td>2325.0</td>\n",
       "      <td>8.0</td>\n",
       "      <td>2010.0</td>\n",
       "      <td>1.0</td>\n",
       "      <td>22.0</td>\n",
       "      <td>2012.0</td>\n",
       "      <td>NaN</td>\n",
       "    </tr>\n",
       "    <tr>\n",
       "      <th>75%</th>\n",
       "      <td>836.5</td>\n",
       "      <td>NaN</td>\n",
       "      <td>NaN</td>\n",
       "      <td>6882.5</td>\n",
       "      <td>10.0</td>\n",
       "      <td>2013.0</td>\n",
       "      <td>1.0</td>\n",
       "      <td>37.0</td>\n",
       "      <td>2013.0</td>\n",
       "      <td>NaN</td>\n",
       "    </tr>\n",
       "    <tr>\n",
       "      <th>max</th>\n",
       "      <td>1115.0</td>\n",
       "      <td>NaN</td>\n",
       "      <td>NaN</td>\n",
       "      <td>75860.0</td>\n",
       "      <td>12.0</td>\n",
       "      <td>2015.0</td>\n",
       "      <td>1.0</td>\n",
       "      <td>50.0</td>\n",
       "      <td>2015.0</td>\n",
       "      <td>NaN</td>\n",
       "    </tr>\n",
       "    <tr>\n",
       "      <th>counts</th>\n",
       "      <td>1115</td>\n",
       "      <td>1115</td>\n",
       "      <td>1115</td>\n",
       "      <td>1112</td>\n",
       "      <td>761</td>\n",
       "      <td>761</td>\n",
       "      <td>1115</td>\n",
       "      <td>571</td>\n",
       "      <td>571</td>\n",
       "      <td>571</td>\n",
       "    </tr>\n",
       "    <tr>\n",
       "      <th>uniques</th>\n",
       "      <td>1115</td>\n",
       "      <td>4</td>\n",
       "      <td>3</td>\n",
       "      <td>654</td>\n",
       "      <td>12</td>\n",
       "      <td>23</td>\n",
       "      <td>2</td>\n",
       "      <td>24</td>\n",
       "      <td>7</td>\n",
       "      <td>3</td>\n",
       "    </tr>\n",
       "    <tr>\n",
       "      <th>missing</th>\n",
       "      <td>0</td>\n",
       "      <td>0</td>\n",
       "      <td>0</td>\n",
       "      <td>3</td>\n",
       "      <td>354</td>\n",
       "      <td>354</td>\n",
       "      <td>0</td>\n",
       "      <td>544</td>\n",
       "      <td>544</td>\n",
       "      <td>544</td>\n",
       "    </tr>\n",
       "    <tr>\n",
       "      <th>missing_perc</th>\n",
       "      <td>0%</td>\n",
       "      <td>0%</td>\n",
       "      <td>0%</td>\n",
       "      <td>0.27%</td>\n",
       "      <td>31.75%</td>\n",
       "      <td>31.75%</td>\n",
       "      <td>0%</td>\n",
       "      <td>48.79%</td>\n",
       "      <td>48.79%</td>\n",
       "      <td>48.79%</td>\n",
       "    </tr>\n",
       "    <tr>\n",
       "      <th>types</th>\n",
       "      <td>numeric</td>\n",
       "      <td>categorical</td>\n",
       "      <td>categorical</td>\n",
       "      <td>numeric</td>\n",
       "      <td>numeric</td>\n",
       "      <td>numeric</td>\n",
       "      <td>bool</td>\n",
       "      <td>numeric</td>\n",
       "      <td>numeric</td>\n",
       "      <td>categorical</td>\n",
       "    </tr>\n",
       "  </tbody>\n",
       "</table>\n",
       "</div>"
      ],
      "text/plain": [
       "                  Store    StoreType   Assortment CompetitionDistance  \\\n",
       "count            1115.0          NaN          NaN              1112.0   \n",
       "mean              558.0          NaN          NaN         5404.901079   \n",
       "std           322.01708          NaN          NaN          7663.17472   \n",
       "min                 1.0          NaN          NaN                20.0   \n",
       "25%               279.5          NaN          NaN               717.5   \n",
       "50%               558.0          NaN          NaN              2325.0   \n",
       "75%               836.5          NaN          NaN              6882.5   \n",
       "max              1115.0          NaN          NaN             75860.0   \n",
       "counts             1115         1115         1115                1112   \n",
       "uniques            1115            4            3                 654   \n",
       "missing               0            0            0                   3   \n",
       "missing_perc         0%           0%           0%               0.27%   \n",
       "types           numeric  categorical  categorical             numeric   \n",
       "\n",
       "             CompetitionOpenSinceMonth CompetitionOpenSinceYear    Promo2  \\\n",
       "count                            761.0                    761.0    1115.0   \n",
       "mean                          7.224704              2008.668857  0.512108   \n",
       "std                           3.212348                 6.195983  0.500078   \n",
       "min                                1.0                   1900.0       0.0   \n",
       "25%                                4.0                   2006.0       0.0   \n",
       "50%                                8.0                   2010.0       1.0   \n",
       "75%                               10.0                   2013.0       1.0   \n",
       "max                               12.0                   2015.0       1.0   \n",
       "counts                             761                      761      1115   \n",
       "uniques                             12                       23         2   \n",
       "missing                            354                      354         0   \n",
       "missing_perc                    31.75%                   31.75%        0%   \n",
       "types                          numeric                  numeric      bool   \n",
       "\n",
       "             Promo2SinceWeek Promo2SinceYear PromoInterval  \n",
       "count                  571.0           571.0           NaN  \n",
       "mean               23.595447     2011.763573           NaN  \n",
       "std                14.141984        1.674935           NaN  \n",
       "min                      1.0          2009.0           NaN  \n",
       "25%                     13.0          2011.0           NaN  \n",
       "50%                     22.0          2012.0           NaN  \n",
       "75%                     37.0          2013.0           NaN  \n",
       "max                     50.0          2015.0           NaN  \n",
       "counts                   571             571           571  \n",
       "uniques                   24               7             3  \n",
       "missing                  544             544           544  \n",
       "missing_perc          48.79%          48.79%        48.79%  \n",
       "types                numeric         numeric   categorical  "
      ]
     },
     "metadata": {},
     "output_type": "display_data"
    }
   ],
   "source": [
    "display(store.head())\n",
    "display(DataFrameSummary(store).summary())"
   ]
  },
  {
   "cell_type": "code",
   "execution_count": 7,
   "metadata": {
    "ExecuteTime": {
     "end_time": "2017-09-09T12:29:04.202439Z",
     "start_time": "2017-09-09T12:29:04.166159Z"
    }
   },
   "outputs": [
    {
     "data": {
      "text/html": [
       "<div>\n",
       "<style scoped>\n",
       "    .dataframe tbody tr th:only-of-type {\n",
       "        vertical-align: middle;\n",
       "    }\n",
       "\n",
       "    .dataframe tbody tr th {\n",
       "        vertical-align: top;\n",
       "    }\n",
       "\n",
       "    .dataframe thead th {\n",
       "        text-align: right;\n",
       "    }\n",
       "</style>\n",
       "<table border=\"1\" class=\"dataframe\">\n",
       "  <thead>\n",
       "    <tr style=\"text-align: right;\">\n",
       "      <th></th>\n",
       "      <th>Store</th>\n",
       "      <th>State</th>\n",
       "    </tr>\n",
       "  </thead>\n",
       "  <tbody>\n",
       "    <tr>\n",
       "      <th>0</th>\n",
       "      <td>1</td>\n",
       "      <td>HE</td>\n",
       "    </tr>\n",
       "    <tr>\n",
       "      <th>1</th>\n",
       "      <td>2</td>\n",
       "      <td>TH</td>\n",
       "    </tr>\n",
       "    <tr>\n",
       "      <th>2</th>\n",
       "      <td>3</td>\n",
       "      <td>NW</td>\n",
       "    </tr>\n",
       "    <tr>\n",
       "      <th>3</th>\n",
       "      <td>4</td>\n",
       "      <td>BE</td>\n",
       "    </tr>\n",
       "    <tr>\n",
       "      <th>4</th>\n",
       "      <td>5</td>\n",
       "      <td>SN</td>\n",
       "    </tr>\n",
       "  </tbody>\n",
       "</table>\n",
       "</div>"
      ],
      "text/plain": [
       "   Store State\n",
       "0      1    HE\n",
       "1      2    TH\n",
       "2      3    NW\n",
       "3      4    BE\n",
       "4      5    SN"
      ]
     },
     "metadata": {},
     "output_type": "display_data"
    },
    {
     "data": {
      "text/html": [
       "<div>\n",
       "<style scoped>\n",
       "    .dataframe tbody tr th:only-of-type {\n",
       "        vertical-align: middle;\n",
       "    }\n",
       "\n",
       "    .dataframe tbody tr th {\n",
       "        vertical-align: top;\n",
       "    }\n",
       "\n",
       "    .dataframe thead th {\n",
       "        text-align: right;\n",
       "    }\n",
       "</style>\n",
       "<table border=\"1\" class=\"dataframe\">\n",
       "  <thead>\n",
       "    <tr style=\"text-align: right;\">\n",
       "      <th></th>\n",
       "      <th>Store</th>\n",
       "      <th>State</th>\n",
       "    </tr>\n",
       "  </thead>\n",
       "  <tbody>\n",
       "    <tr>\n",
       "      <th>count</th>\n",
       "      <td>1115.0</td>\n",
       "      <td>NaN</td>\n",
       "    </tr>\n",
       "    <tr>\n",
       "      <th>mean</th>\n",
       "      <td>558.0</td>\n",
       "      <td>NaN</td>\n",
       "    </tr>\n",
       "    <tr>\n",
       "      <th>std</th>\n",
       "      <td>322.01708</td>\n",
       "      <td>NaN</td>\n",
       "    </tr>\n",
       "    <tr>\n",
       "      <th>min</th>\n",
       "      <td>1.0</td>\n",
       "      <td>NaN</td>\n",
       "    </tr>\n",
       "    <tr>\n",
       "      <th>25%</th>\n",
       "      <td>279.5</td>\n",
       "      <td>NaN</td>\n",
       "    </tr>\n",
       "    <tr>\n",
       "      <th>50%</th>\n",
       "      <td>558.0</td>\n",
       "      <td>NaN</td>\n",
       "    </tr>\n",
       "    <tr>\n",
       "      <th>75%</th>\n",
       "      <td>836.5</td>\n",
       "      <td>NaN</td>\n",
       "    </tr>\n",
       "    <tr>\n",
       "      <th>max</th>\n",
       "      <td>1115.0</td>\n",
       "      <td>NaN</td>\n",
       "    </tr>\n",
       "    <tr>\n",
       "      <th>counts</th>\n",
       "      <td>1115</td>\n",
       "      <td>1115</td>\n",
       "    </tr>\n",
       "    <tr>\n",
       "      <th>uniques</th>\n",
       "      <td>1115</td>\n",
       "      <td>12</td>\n",
       "    </tr>\n",
       "    <tr>\n",
       "      <th>missing</th>\n",
       "      <td>0</td>\n",
       "      <td>0</td>\n",
       "    </tr>\n",
       "    <tr>\n",
       "      <th>missing_perc</th>\n",
       "      <td>0%</td>\n",
       "      <td>0%</td>\n",
       "    </tr>\n",
       "    <tr>\n",
       "      <th>types</th>\n",
       "      <td>numeric</td>\n",
       "      <td>categorical</td>\n",
       "    </tr>\n",
       "  </tbody>\n",
       "</table>\n",
       "</div>"
      ],
      "text/plain": [
       "                  Store        State\n",
       "count            1115.0          NaN\n",
       "mean              558.0          NaN\n",
       "std           322.01708          NaN\n",
       "min                 1.0          NaN\n",
       "25%               279.5          NaN\n",
       "50%               558.0          NaN\n",
       "75%               836.5          NaN\n",
       "max              1115.0          NaN\n",
       "counts             1115         1115\n",
       "uniques            1115           12\n",
       "missing               0            0\n",
       "missing_perc         0%           0%\n",
       "types           numeric  categorical"
      ]
     },
     "metadata": {},
     "output_type": "display_data"
    }
   ],
   "source": [
    "display(store_states.head())\n",
    "display(DataFrameSummary(store_states).summary())"
   ]
  },
  {
   "cell_type": "code",
   "execution_count": 8,
   "metadata": {
    "ExecuteTime": {
     "end_time": "2017-09-09T12:29:04.238509Z",
     "start_time": "2017-09-09T12:29:04.206331Z"
    }
   },
   "outputs": [
    {
     "data": {
      "text/html": [
       "<div>\n",
       "<style scoped>\n",
       "    .dataframe tbody tr th:only-of-type {\n",
       "        vertical-align: middle;\n",
       "    }\n",
       "\n",
       "    .dataframe tbody tr th {\n",
       "        vertical-align: top;\n",
       "    }\n",
       "\n",
       "    .dataframe thead th {\n",
       "        text-align: right;\n",
       "    }\n",
       "</style>\n",
       "<table border=\"1\" class=\"dataframe\">\n",
       "  <thead>\n",
       "    <tr style=\"text-align: right;\">\n",
       "      <th></th>\n",
       "      <th>StateName</th>\n",
       "      <th>State</th>\n",
       "    </tr>\n",
       "  </thead>\n",
       "  <tbody>\n",
       "    <tr>\n",
       "      <th>0</th>\n",
       "      <td>BadenWuerttemberg</td>\n",
       "      <td>BW</td>\n",
       "    </tr>\n",
       "    <tr>\n",
       "      <th>1</th>\n",
       "      <td>Bayern</td>\n",
       "      <td>BY</td>\n",
       "    </tr>\n",
       "    <tr>\n",
       "      <th>2</th>\n",
       "      <td>Berlin</td>\n",
       "      <td>BE</td>\n",
       "    </tr>\n",
       "    <tr>\n",
       "      <th>3</th>\n",
       "      <td>Brandenburg</td>\n",
       "      <td>BB</td>\n",
       "    </tr>\n",
       "    <tr>\n",
       "      <th>4</th>\n",
       "      <td>Bremen</td>\n",
       "      <td>HB</td>\n",
       "    </tr>\n",
       "  </tbody>\n",
       "</table>\n",
       "</div>"
      ],
      "text/plain": [
       "           StateName State\n",
       "0  BadenWuerttemberg    BW\n",
       "1             Bayern    BY\n",
       "2             Berlin    BE\n",
       "3        Brandenburg    BB\n",
       "4             Bremen    HB"
      ]
     },
     "metadata": {},
     "output_type": "display_data"
    },
    {
     "data": {
      "text/html": [
       "<div>\n",
       "<style scoped>\n",
       "    .dataframe tbody tr th:only-of-type {\n",
       "        vertical-align: middle;\n",
       "    }\n",
       "\n",
       "    .dataframe tbody tr th {\n",
       "        vertical-align: top;\n",
       "    }\n",
       "\n",
       "    .dataframe thead th {\n",
       "        text-align: right;\n",
       "    }\n",
       "</style>\n",
       "<table border=\"1\" class=\"dataframe\">\n",
       "  <thead>\n",
       "    <tr style=\"text-align: right;\">\n",
       "      <th></th>\n",
       "      <th>StateName</th>\n",
       "      <th>State</th>\n",
       "    </tr>\n",
       "  </thead>\n",
       "  <tbody>\n",
       "    <tr>\n",
       "      <th>count</th>\n",
       "      <td>16</td>\n",
       "      <td>16</td>\n",
       "    </tr>\n",
       "    <tr>\n",
       "      <th>unique</th>\n",
       "      <td>16</td>\n",
       "      <td>16</td>\n",
       "    </tr>\n",
       "    <tr>\n",
       "      <th>top</th>\n",
       "      <td>BadenWuerttemberg</td>\n",
       "      <td>BW</td>\n",
       "    </tr>\n",
       "    <tr>\n",
       "      <th>freq</th>\n",
       "      <td>1</td>\n",
       "      <td>1</td>\n",
       "    </tr>\n",
       "    <tr>\n",
       "      <th>counts</th>\n",
       "      <td>16</td>\n",
       "      <td>16</td>\n",
       "    </tr>\n",
       "    <tr>\n",
       "      <th>uniques</th>\n",
       "      <td>16</td>\n",
       "      <td>16</td>\n",
       "    </tr>\n",
       "    <tr>\n",
       "      <th>missing</th>\n",
       "      <td>0</td>\n",
       "      <td>0</td>\n",
       "    </tr>\n",
       "    <tr>\n",
       "      <th>missing_perc</th>\n",
       "      <td>0%</td>\n",
       "      <td>0%</td>\n",
       "    </tr>\n",
       "    <tr>\n",
       "      <th>types</th>\n",
       "      <td>unique</td>\n",
       "      <td>unique</td>\n",
       "    </tr>\n",
       "  </tbody>\n",
       "</table>\n",
       "</div>"
      ],
      "text/plain": [
       "                      StateName   State\n",
       "count                        16      16\n",
       "unique                       16      16\n",
       "top           BadenWuerttemberg      BW\n",
       "freq                          1       1\n",
       "counts                       16      16\n",
       "uniques                      16      16\n",
       "missing                       0       0\n",
       "missing_perc                 0%      0%\n",
       "types                    unique  unique"
      ]
     },
     "metadata": {},
     "output_type": "display_data"
    }
   ],
   "source": [
    "display(state_names.head())\n",
    "display(DataFrameSummary(state_names).summary())"
   ]
  },
  {
   "cell_type": "markdown",
   "metadata": {},
   "source": [
    "This is very representative of a typical industry dataset."
   ]
  },
  {
   "cell_type": "markdown",
   "metadata": {},
   "source": [
    "The following returns summarized aggregate information to each table accross each field."
   ]
  },
  {
   "cell_type": "code",
   "execution_count": 9,
   "metadata": {
    "ExecuteTime": {
     "end_time": "2017-09-09T12:29:04.278447Z",
     "start_time": "2017-09-09T12:29:04.242482Z"
    }
   },
   "outputs": [
    {
     "data": {
      "text/html": [
       "<div>\n",
       "<style scoped>\n",
       "    .dataframe tbody tr th:only-of-type {\n",
       "        vertical-align: middle;\n",
       "    }\n",
       "\n",
       "    .dataframe tbody tr th {\n",
       "        vertical-align: top;\n",
       "    }\n",
       "\n",
       "    .dataframe thead th {\n",
       "        text-align: right;\n",
       "    }\n",
       "</style>\n",
       "<table border=\"1\" class=\"dataframe\">\n",
       "  <thead>\n",
       "    <tr style=\"text-align: right;\">\n",
       "      <th></th>\n",
       "      <th>file</th>\n",
       "      <th>week</th>\n",
       "      <th>trend</th>\n",
       "    </tr>\n",
       "  </thead>\n",
       "  <tbody>\n",
       "    <tr>\n",
       "      <th>0</th>\n",
       "      <td>Rossmann_DE_SN</td>\n",
       "      <td>2012-12-02 - 2012-12-08</td>\n",
       "      <td>96</td>\n",
       "    </tr>\n",
       "    <tr>\n",
       "      <th>1</th>\n",
       "      <td>Rossmann_DE_SN</td>\n",
       "      <td>2012-12-09 - 2012-12-15</td>\n",
       "      <td>95</td>\n",
       "    </tr>\n",
       "    <tr>\n",
       "      <th>2</th>\n",
       "      <td>Rossmann_DE_SN</td>\n",
       "      <td>2012-12-16 - 2012-12-22</td>\n",
       "      <td>91</td>\n",
       "    </tr>\n",
       "    <tr>\n",
       "      <th>3</th>\n",
       "      <td>Rossmann_DE_SN</td>\n",
       "      <td>2012-12-23 - 2012-12-29</td>\n",
       "      <td>48</td>\n",
       "    </tr>\n",
       "    <tr>\n",
       "      <th>4</th>\n",
       "      <td>Rossmann_DE_SN</td>\n",
       "      <td>2012-12-30 - 2013-01-05</td>\n",
       "      <td>67</td>\n",
       "    </tr>\n",
       "  </tbody>\n",
       "</table>\n",
       "</div>"
      ],
      "text/plain": [
       "             file                     week  trend\n",
       "0  Rossmann_DE_SN  2012-12-02 - 2012-12-08     96\n",
       "1  Rossmann_DE_SN  2012-12-09 - 2012-12-15     95\n",
       "2  Rossmann_DE_SN  2012-12-16 - 2012-12-22     91\n",
       "3  Rossmann_DE_SN  2012-12-23 - 2012-12-29     48\n",
       "4  Rossmann_DE_SN  2012-12-30 - 2013-01-05     67"
      ]
     },
     "metadata": {},
     "output_type": "display_data"
    },
    {
     "data": {
      "text/html": [
       "<div>\n",
       "<style scoped>\n",
       "    .dataframe tbody tr th:only-of-type {\n",
       "        vertical-align: middle;\n",
       "    }\n",
       "\n",
       "    .dataframe tbody tr th {\n",
       "        vertical-align: top;\n",
       "    }\n",
       "\n",
       "    .dataframe thead th {\n",
       "        text-align: right;\n",
       "    }\n",
       "</style>\n",
       "<table border=\"1\" class=\"dataframe\">\n",
       "  <thead>\n",
       "    <tr style=\"text-align: right;\">\n",
       "      <th></th>\n",
       "      <th>file</th>\n",
       "      <th>week</th>\n",
       "      <th>trend</th>\n",
       "    </tr>\n",
       "  </thead>\n",
       "  <tbody>\n",
       "    <tr>\n",
       "      <th>count</th>\n",
       "      <td>NaN</td>\n",
       "      <td>NaN</td>\n",
       "      <td>2072.0</td>\n",
       "    </tr>\n",
       "    <tr>\n",
       "      <th>mean</th>\n",
       "      <td>NaN</td>\n",
       "      <td>NaN</td>\n",
       "      <td>63.814189</td>\n",
       "    </tr>\n",
       "    <tr>\n",
       "      <th>std</th>\n",
       "      <td>NaN</td>\n",
       "      <td>NaN</td>\n",
       "      <td>12.650246</td>\n",
       "    </tr>\n",
       "    <tr>\n",
       "      <th>min</th>\n",
       "      <td>NaN</td>\n",
       "      <td>NaN</td>\n",
       "      <td>0.0</td>\n",
       "    </tr>\n",
       "    <tr>\n",
       "      <th>25%</th>\n",
       "      <td>NaN</td>\n",
       "      <td>NaN</td>\n",
       "      <td>55.0</td>\n",
       "    </tr>\n",
       "    <tr>\n",
       "      <th>50%</th>\n",
       "      <td>NaN</td>\n",
       "      <td>NaN</td>\n",
       "      <td>64.0</td>\n",
       "    </tr>\n",
       "    <tr>\n",
       "      <th>75%</th>\n",
       "      <td>NaN</td>\n",
       "      <td>NaN</td>\n",
       "      <td>72.0</td>\n",
       "    </tr>\n",
       "    <tr>\n",
       "      <th>max</th>\n",
       "      <td>NaN</td>\n",
       "      <td>NaN</td>\n",
       "      <td>100.0</td>\n",
       "    </tr>\n",
       "    <tr>\n",
       "      <th>counts</th>\n",
       "      <td>2072</td>\n",
       "      <td>2072</td>\n",
       "      <td>2072</td>\n",
       "    </tr>\n",
       "    <tr>\n",
       "      <th>uniques</th>\n",
       "      <td>14</td>\n",
       "      <td>148</td>\n",
       "      <td>68</td>\n",
       "    </tr>\n",
       "    <tr>\n",
       "      <th>missing</th>\n",
       "      <td>0</td>\n",
       "      <td>0</td>\n",
       "      <td>0</td>\n",
       "    </tr>\n",
       "    <tr>\n",
       "      <th>missing_perc</th>\n",
       "      <td>0%</td>\n",
       "      <td>0%</td>\n",
       "      <td>0%</td>\n",
       "    </tr>\n",
       "    <tr>\n",
       "      <th>types</th>\n",
       "      <td>categorical</td>\n",
       "      <td>categorical</td>\n",
       "      <td>numeric</td>\n",
       "    </tr>\n",
       "  </tbody>\n",
       "</table>\n",
       "</div>"
      ],
      "text/plain": [
       "                     file         week      trend\n",
       "count                 NaN          NaN     2072.0\n",
       "mean                  NaN          NaN  63.814189\n",
       "std                   NaN          NaN  12.650246\n",
       "min                   NaN          NaN        0.0\n",
       "25%                   NaN          NaN       55.0\n",
       "50%                   NaN          NaN       64.0\n",
       "75%                   NaN          NaN       72.0\n",
       "max                   NaN          NaN      100.0\n",
       "counts               2072         2072       2072\n",
       "uniques                14          148         68\n",
       "missing                 0            0          0\n",
       "missing_perc           0%           0%         0%\n",
       "types         categorical  categorical    numeric"
      ]
     },
     "metadata": {},
     "output_type": "display_data"
    }
   ],
   "source": [
    "display(googletrend.head())\n",
    "display(DataFrameSummary(googletrend).summary())"
   ]
  },
  {
   "cell_type": "code",
   "execution_count": 10,
   "metadata": {
    "ExecuteTime": {
     "end_time": "2017-09-09T12:29:04.410462Z",
     "start_time": "2017-09-09T12:29:04.282681Z"
    }
   },
   "outputs": [
    {
     "data": {
      "text/html": [
       "<div>\n",
       "<style scoped>\n",
       "    .dataframe tbody tr th:only-of-type {\n",
       "        vertical-align: middle;\n",
       "    }\n",
       "\n",
       "    .dataframe tbody tr th {\n",
       "        vertical-align: top;\n",
       "    }\n",
       "\n",
       "    .dataframe thead th {\n",
       "        text-align: right;\n",
       "    }\n",
       "</style>\n",
       "<table border=\"1\" class=\"dataframe\">\n",
       "  <thead>\n",
       "    <tr style=\"text-align: right;\">\n",
       "      <th></th>\n",
       "      <th>file</th>\n",
       "      <th>Date</th>\n",
       "      <th>Max_TemperatureC</th>\n",
       "      <th>Mean_TemperatureC</th>\n",
       "      <th>Min_TemperatureC</th>\n",
       "      <th>Dew_PointC</th>\n",
       "      <th>MeanDew_PointC</th>\n",
       "      <th>Min_DewpointC</th>\n",
       "      <th>Max_Humidity</th>\n",
       "      <th>Mean_Humidity</th>\n",
       "      <th>...</th>\n",
       "      <th>Max_VisibilityKm</th>\n",
       "      <th>Mean_VisibilityKm</th>\n",
       "      <th>Min_VisibilitykM</th>\n",
       "      <th>Max_Wind_SpeedKm_h</th>\n",
       "      <th>Mean_Wind_SpeedKm_h</th>\n",
       "      <th>Max_Gust_SpeedKm_h</th>\n",
       "      <th>Precipitationmm</th>\n",
       "      <th>CloudCover</th>\n",
       "      <th>Events</th>\n",
       "      <th>WindDirDegrees</th>\n",
       "    </tr>\n",
       "  </thead>\n",
       "  <tbody>\n",
       "    <tr>\n",
       "      <th>0</th>\n",
       "      <td>NordrheinWestfalen</td>\n",
       "      <td>2013-01-01</td>\n",
       "      <td>8</td>\n",
       "      <td>4</td>\n",
       "      <td>2</td>\n",
       "      <td>7</td>\n",
       "      <td>5</td>\n",
       "      <td>1</td>\n",
       "      <td>94</td>\n",
       "      <td>87</td>\n",
       "      <td>...</td>\n",
       "      <td>31.0</td>\n",
       "      <td>12.0</td>\n",
       "      <td>4.0</td>\n",
       "      <td>39</td>\n",
       "      <td>26</td>\n",
       "      <td>58.0</td>\n",
       "      <td>5.08</td>\n",
       "      <td>6.0</td>\n",
       "      <td>Rain</td>\n",
       "      <td>215</td>\n",
       "    </tr>\n",
       "    <tr>\n",
       "      <th>1</th>\n",
       "      <td>NordrheinWestfalen</td>\n",
       "      <td>2013-01-02</td>\n",
       "      <td>7</td>\n",
       "      <td>4</td>\n",
       "      <td>1</td>\n",
       "      <td>5</td>\n",
       "      <td>3</td>\n",
       "      <td>2</td>\n",
       "      <td>93</td>\n",
       "      <td>85</td>\n",
       "      <td>...</td>\n",
       "      <td>31.0</td>\n",
       "      <td>14.0</td>\n",
       "      <td>10.0</td>\n",
       "      <td>24</td>\n",
       "      <td>16</td>\n",
       "      <td>NaN</td>\n",
       "      <td>0.00</td>\n",
       "      <td>6.0</td>\n",
       "      <td>Rain</td>\n",
       "      <td>225</td>\n",
       "    </tr>\n",
       "    <tr>\n",
       "      <th>2</th>\n",
       "      <td>NordrheinWestfalen</td>\n",
       "      <td>2013-01-03</td>\n",
       "      <td>11</td>\n",
       "      <td>8</td>\n",
       "      <td>6</td>\n",
       "      <td>10</td>\n",
       "      <td>8</td>\n",
       "      <td>4</td>\n",
       "      <td>100</td>\n",
       "      <td>93</td>\n",
       "      <td>...</td>\n",
       "      <td>31.0</td>\n",
       "      <td>8.0</td>\n",
       "      <td>2.0</td>\n",
       "      <td>26</td>\n",
       "      <td>21</td>\n",
       "      <td>NaN</td>\n",
       "      <td>1.02</td>\n",
       "      <td>7.0</td>\n",
       "      <td>Rain</td>\n",
       "      <td>240</td>\n",
       "    </tr>\n",
       "    <tr>\n",
       "      <th>3</th>\n",
       "      <td>NordrheinWestfalen</td>\n",
       "      <td>2013-01-04</td>\n",
       "      <td>9</td>\n",
       "      <td>9</td>\n",
       "      <td>8</td>\n",
       "      <td>9</td>\n",
       "      <td>9</td>\n",
       "      <td>8</td>\n",
       "      <td>100</td>\n",
       "      <td>94</td>\n",
       "      <td>...</td>\n",
       "      <td>11.0</td>\n",
       "      <td>5.0</td>\n",
       "      <td>2.0</td>\n",
       "      <td>23</td>\n",
       "      <td>14</td>\n",
       "      <td>NaN</td>\n",
       "      <td>0.25</td>\n",
       "      <td>7.0</td>\n",
       "      <td>Rain</td>\n",
       "      <td>263</td>\n",
       "    </tr>\n",
       "    <tr>\n",
       "      <th>4</th>\n",
       "      <td>NordrheinWestfalen</td>\n",
       "      <td>2013-01-05</td>\n",
       "      <td>8</td>\n",
       "      <td>8</td>\n",
       "      <td>7</td>\n",
       "      <td>8</td>\n",
       "      <td>7</td>\n",
       "      <td>6</td>\n",
       "      <td>100</td>\n",
       "      <td>94</td>\n",
       "      <td>...</td>\n",
       "      <td>10.0</td>\n",
       "      <td>6.0</td>\n",
       "      <td>3.0</td>\n",
       "      <td>16</td>\n",
       "      <td>10</td>\n",
       "      <td>NaN</td>\n",
       "      <td>0.00</td>\n",
       "      <td>7.0</td>\n",
       "      <td>Rain</td>\n",
       "      <td>268</td>\n",
       "    </tr>\n",
       "  </tbody>\n",
       "</table>\n",
       "<p>5 rows × 24 columns</p>\n",
       "</div>"
      ],
      "text/plain": [
       "                 file        Date  Max_TemperatureC  Mean_TemperatureC  \\\n",
       "0  NordrheinWestfalen  2013-01-01                 8                  4   \n",
       "1  NordrheinWestfalen  2013-01-02                 7                  4   \n",
       "2  NordrheinWestfalen  2013-01-03                11                  8   \n",
       "3  NordrheinWestfalen  2013-01-04                 9                  9   \n",
       "4  NordrheinWestfalen  2013-01-05                 8                  8   \n",
       "\n",
       "   Min_TemperatureC  Dew_PointC  MeanDew_PointC  Min_DewpointC  Max_Humidity  \\\n",
       "0                 2           7               5              1            94   \n",
       "1                 1           5               3              2            93   \n",
       "2                 6          10               8              4           100   \n",
       "3                 8           9               9              8           100   \n",
       "4                 7           8               7              6           100   \n",
       "\n",
       "   Mean_Humidity  ...  Max_VisibilityKm  Mean_VisibilityKm  Min_VisibilitykM  \\\n",
       "0             87  ...              31.0               12.0               4.0   \n",
       "1             85  ...              31.0               14.0              10.0   \n",
       "2             93  ...              31.0                8.0               2.0   \n",
       "3             94  ...              11.0                5.0               2.0   \n",
       "4             94  ...              10.0                6.0               3.0   \n",
       "\n",
       "   Max_Wind_SpeedKm_h  Mean_Wind_SpeedKm_h  Max_Gust_SpeedKm_h  \\\n",
       "0                  39                   26                58.0   \n",
       "1                  24                   16                 NaN   \n",
       "2                  26                   21                 NaN   \n",
       "3                  23                   14                 NaN   \n",
       "4                  16                   10                 NaN   \n",
       "\n",
       "   Precipitationmm  CloudCover  Events  WindDirDegrees  \n",
       "0             5.08         6.0    Rain             215  \n",
       "1             0.00         6.0    Rain             225  \n",
       "2             1.02         7.0    Rain             240  \n",
       "3             0.25         7.0    Rain             263  \n",
       "4             0.00         7.0    Rain             268  \n",
       "\n",
       "[5 rows x 24 columns]"
      ]
     },
     "metadata": {},
     "output_type": "display_data"
    },
    {
     "data": {
      "text/html": [
       "<div>\n",
       "<style scoped>\n",
       "    .dataframe tbody tr th:only-of-type {\n",
       "        vertical-align: middle;\n",
       "    }\n",
       "\n",
       "    .dataframe tbody tr th {\n",
       "        vertical-align: top;\n",
       "    }\n",
       "\n",
       "    .dataframe thead th {\n",
       "        text-align: right;\n",
       "    }\n",
       "</style>\n",
       "<table border=\"1\" class=\"dataframe\">\n",
       "  <thead>\n",
       "    <tr style=\"text-align: right;\">\n",
       "      <th></th>\n",
       "      <th>file</th>\n",
       "      <th>Date</th>\n",
       "      <th>Max_TemperatureC</th>\n",
       "      <th>Mean_TemperatureC</th>\n",
       "      <th>Min_TemperatureC</th>\n",
       "      <th>Dew_PointC</th>\n",
       "      <th>MeanDew_PointC</th>\n",
       "      <th>Min_DewpointC</th>\n",
       "      <th>Max_Humidity</th>\n",
       "      <th>Mean_Humidity</th>\n",
       "      <th>...</th>\n",
       "      <th>Max_VisibilityKm</th>\n",
       "      <th>Mean_VisibilityKm</th>\n",
       "      <th>Min_VisibilitykM</th>\n",
       "      <th>Max_Wind_SpeedKm_h</th>\n",
       "      <th>Mean_Wind_SpeedKm_h</th>\n",
       "      <th>Max_Gust_SpeedKm_h</th>\n",
       "      <th>Precipitationmm</th>\n",
       "      <th>CloudCover</th>\n",
       "      <th>Events</th>\n",
       "      <th>WindDirDegrees</th>\n",
       "    </tr>\n",
       "  </thead>\n",
       "  <tbody>\n",
       "    <tr>\n",
       "      <th>count</th>\n",
       "      <td>NaN</td>\n",
       "      <td>NaN</td>\n",
       "      <td>15840.0</td>\n",
       "      <td>15840.0</td>\n",
       "      <td>15840.0</td>\n",
       "      <td>15840.0</td>\n",
       "      <td>15840.0</td>\n",
       "      <td>15840.0</td>\n",
       "      <td>15840.0</td>\n",
       "      <td>15840.0</td>\n",
       "      <td>...</td>\n",
       "      <td>15459.0</td>\n",
       "      <td>15459.0</td>\n",
       "      <td>15459.0</td>\n",
       "      <td>15840.0</td>\n",
       "      <td>15840.0</td>\n",
       "      <td>3604.0</td>\n",
       "      <td>15840.0</td>\n",
       "      <td>14667.0</td>\n",
       "      <td>NaN</td>\n",
       "      <td>15840.0</td>\n",
       "    </tr>\n",
       "    <tr>\n",
       "      <th>mean</th>\n",
       "      <td>NaN</td>\n",
       "      <td>NaN</td>\n",
       "      <td>14.644129</td>\n",
       "      <td>10.388952</td>\n",
       "      <td>6.19899</td>\n",
       "      <td>8.587816</td>\n",
       "      <td>6.205808</td>\n",
       "      <td>3.626136</td>\n",
       "      <td>93.659596</td>\n",
       "      <td>74.282891</td>\n",
       "      <td>...</td>\n",
       "      <td>24.057572</td>\n",
       "      <td>12.239796</td>\n",
       "      <td>7.025163</td>\n",
       "      <td>22.766604</td>\n",
       "      <td>11.972222</td>\n",
       "      <td>48.864317</td>\n",
       "      <td>0.831718</td>\n",
       "      <td>5.551306</td>\n",
       "      <td>NaN</td>\n",
       "      <td>175.896717</td>\n",
       "    </tr>\n",
       "    <tr>\n",
       "      <th>std</th>\n",
       "      <td>NaN</td>\n",
       "      <td>NaN</td>\n",
       "      <td>8.646012</td>\n",
       "      <td>7.37926</td>\n",
       "      <td>6.526391</td>\n",
       "      <td>6.24478</td>\n",
       "      <td>6.086768</td>\n",
       "      <td>6.12839</td>\n",
       "      <td>7.67853</td>\n",
       "      <td>13.486552</td>\n",
       "      <td>...</td>\n",
       "      <td>8.976799</td>\n",
       "      <td>5.067944</td>\n",
       "      <td>4.980602</td>\n",
       "      <td>8.988618</td>\n",
       "      <td>5.872844</td>\n",
       "      <td>13.026954</td>\n",
       "      <td>2.513506</td>\n",
       "      <td>1.68771</td>\n",
       "      <td>NaN</td>\n",
       "      <td>101.588872</td>\n",
       "    </tr>\n",
       "    <tr>\n",
       "      <th>min</th>\n",
       "      <td>NaN</td>\n",
       "      <td>NaN</td>\n",
       "      <td>-11.0</td>\n",
       "      <td>-13.0</td>\n",
       "      <td>-15.0</td>\n",
       "      <td>-14.0</td>\n",
       "      <td>-15.0</td>\n",
       "      <td>-73.0</td>\n",
       "      <td>44.0</td>\n",
       "      <td>30.0</td>\n",
       "      <td>...</td>\n",
       "      <td>0.0</td>\n",
       "      <td>0.0</td>\n",
       "      <td>0.0</td>\n",
       "      <td>3.0</td>\n",
       "      <td>2.0</td>\n",
       "      <td>21.0</td>\n",
       "      <td>0.0</td>\n",
       "      <td>0.0</td>\n",
       "      <td>NaN</td>\n",
       "      <td>-1.0</td>\n",
       "    </tr>\n",
       "    <tr>\n",
       "      <th>25%</th>\n",
       "      <td>NaN</td>\n",
       "      <td>NaN</td>\n",
       "      <td>8.0</td>\n",
       "      <td>4.0</td>\n",
       "      <td>1.0</td>\n",
       "      <td>4.0</td>\n",
       "      <td>2.0</td>\n",
       "      <td>-1.0</td>\n",
       "      <td>90.75</td>\n",
       "      <td>65.0</td>\n",
       "      <td>...</td>\n",
       "      <td>14.0</td>\n",
       "      <td>10.0</td>\n",
       "      <td>3.0</td>\n",
       "      <td>16.0</td>\n",
       "      <td>8.0</td>\n",
       "      <td>39.0</td>\n",
       "      <td>0.0</td>\n",
       "      <td>5.0</td>\n",
       "      <td>NaN</td>\n",
       "      <td>80.0</td>\n",
       "    </tr>\n",
       "    <tr>\n",
       "      <th>50%</th>\n",
       "      <td>NaN</td>\n",
       "      <td>NaN</td>\n",
       "      <td>15.0</td>\n",
       "      <td>11.0</td>\n",
       "      <td>7.0</td>\n",
       "      <td>9.0</td>\n",
       "      <td>7.0</td>\n",
       "      <td>4.0</td>\n",
       "      <td>94.0</td>\n",
       "      <td>76.0</td>\n",
       "      <td>...</td>\n",
       "      <td>31.0</td>\n",
       "      <td>11.0</td>\n",
       "      <td>7.0</td>\n",
       "      <td>21.0</td>\n",
       "      <td>11.0</td>\n",
       "      <td>48.0</td>\n",
       "      <td>0.0</td>\n",
       "      <td>6.0</td>\n",
       "      <td>NaN</td>\n",
       "      <td>202.0</td>\n",
       "    </tr>\n",
       "    <tr>\n",
       "      <th>75%</th>\n",
       "      <td>NaN</td>\n",
       "      <td>NaN</td>\n",
       "      <td>21.0</td>\n",
       "      <td>16.0</td>\n",
       "      <td>11.0</td>\n",
       "      <td>13.0</td>\n",
       "      <td>11.0</td>\n",
       "      <td>8.0</td>\n",
       "      <td>100.0</td>\n",
       "      <td>85.0</td>\n",
       "      <td>...</td>\n",
       "      <td>31.0</td>\n",
       "      <td>14.0</td>\n",
       "      <td>10.0</td>\n",
       "      <td>27.0</td>\n",
       "      <td>14.0</td>\n",
       "      <td>55.0</td>\n",
       "      <td>0.25</td>\n",
       "      <td>7.0</td>\n",
       "      <td>NaN</td>\n",
       "      <td>256.0</td>\n",
       "    </tr>\n",
       "    <tr>\n",
       "      <th>max</th>\n",
       "      <td>NaN</td>\n",
       "      <td>NaN</td>\n",
       "      <td>39.0</td>\n",
       "      <td>31.0</td>\n",
       "      <td>24.0</td>\n",
       "      <td>25.0</td>\n",
       "      <td>20.0</td>\n",
       "      <td>19.0</td>\n",
       "      <td>100.0</td>\n",
       "      <td>100.0</td>\n",
       "      <td>...</td>\n",
       "      <td>31.0</td>\n",
       "      <td>31.0</td>\n",
       "      <td>31.0</td>\n",
       "      <td>101.0</td>\n",
       "      <td>53.0</td>\n",
       "      <td>111.0</td>\n",
       "      <td>58.93</td>\n",
       "      <td>8.0</td>\n",
       "      <td>NaN</td>\n",
       "      <td>360.0</td>\n",
       "    </tr>\n",
       "    <tr>\n",
       "      <th>counts</th>\n",
       "      <td>15840</td>\n",
       "      <td>15840</td>\n",
       "      <td>15840</td>\n",
       "      <td>15840</td>\n",
       "      <td>15840</td>\n",
       "      <td>15840</td>\n",
       "      <td>15840</td>\n",
       "      <td>15840</td>\n",
       "      <td>15840</td>\n",
       "      <td>15840</td>\n",
       "      <td>...</td>\n",
       "      <td>15459</td>\n",
       "      <td>15459</td>\n",
       "      <td>15459</td>\n",
       "      <td>15840</td>\n",
       "      <td>15840</td>\n",
       "      <td>3604</td>\n",
       "      <td>15840</td>\n",
       "      <td>14667</td>\n",
       "      <td>11889</td>\n",
       "      <td>15840</td>\n",
       "    </tr>\n",
       "    <tr>\n",
       "      <th>uniques</th>\n",
       "      <td>16</td>\n",
       "      <td>990</td>\n",
       "      <td>51</td>\n",
       "      <td>45</td>\n",
       "      <td>40</td>\n",
       "      <td>40</td>\n",
       "      <td>36</td>\n",
       "      <td>40</td>\n",
       "      <td>53</td>\n",
       "      <td>71</td>\n",
       "      <td>...</td>\n",
       "      <td>24</td>\n",
       "      <td>32</td>\n",
       "      <td>24</td>\n",
       "      <td>44</td>\n",
       "      <td>29</td>\n",
       "      <td>47</td>\n",
       "      <td>41</td>\n",
       "      <td>9</td>\n",
       "      <td>21</td>\n",
       "      <td>362</td>\n",
       "    </tr>\n",
       "    <tr>\n",
       "      <th>missing</th>\n",
       "      <td>0</td>\n",
       "      <td>0</td>\n",
       "      <td>0</td>\n",
       "      <td>0</td>\n",
       "      <td>0</td>\n",
       "      <td>0</td>\n",
       "      <td>0</td>\n",
       "      <td>0</td>\n",
       "      <td>0</td>\n",
       "      <td>0</td>\n",
       "      <td>...</td>\n",
       "      <td>381</td>\n",
       "      <td>381</td>\n",
       "      <td>381</td>\n",
       "      <td>0</td>\n",
       "      <td>0</td>\n",
       "      <td>12236</td>\n",
       "      <td>0</td>\n",
       "      <td>1173</td>\n",
       "      <td>3951</td>\n",
       "      <td>0</td>\n",
       "    </tr>\n",
       "    <tr>\n",
       "      <th>missing_perc</th>\n",
       "      <td>0%</td>\n",
       "      <td>0%</td>\n",
       "      <td>0%</td>\n",
       "      <td>0%</td>\n",
       "      <td>0%</td>\n",
       "      <td>0%</td>\n",
       "      <td>0%</td>\n",
       "      <td>0%</td>\n",
       "      <td>0%</td>\n",
       "      <td>0%</td>\n",
       "      <td>...</td>\n",
       "      <td>2.41%</td>\n",
       "      <td>2.41%</td>\n",
       "      <td>2.41%</td>\n",
       "      <td>0%</td>\n",
       "      <td>0%</td>\n",
       "      <td>77.25%</td>\n",
       "      <td>0%</td>\n",
       "      <td>7.41%</td>\n",
       "      <td>24.94%</td>\n",
       "      <td>0%</td>\n",
       "    </tr>\n",
       "    <tr>\n",
       "      <th>types</th>\n",
       "      <td>categorical</td>\n",
       "      <td>categorical</td>\n",
       "      <td>numeric</td>\n",
       "      <td>numeric</td>\n",
       "      <td>numeric</td>\n",
       "      <td>numeric</td>\n",
       "      <td>numeric</td>\n",
       "      <td>numeric</td>\n",
       "      <td>numeric</td>\n",
       "      <td>numeric</td>\n",
       "      <td>...</td>\n",
       "      <td>numeric</td>\n",
       "      <td>numeric</td>\n",
       "      <td>numeric</td>\n",
       "      <td>numeric</td>\n",
       "      <td>numeric</td>\n",
       "      <td>numeric</td>\n",
       "      <td>numeric</td>\n",
       "      <td>numeric</td>\n",
       "      <td>categorical</td>\n",
       "      <td>numeric</td>\n",
       "    </tr>\n",
       "  </tbody>\n",
       "</table>\n",
       "<p>13 rows × 24 columns</p>\n",
       "</div>"
      ],
      "text/plain": [
       "                     file         Date Max_TemperatureC Mean_TemperatureC  \\\n",
       "count                 NaN          NaN          15840.0           15840.0   \n",
       "mean                  NaN          NaN        14.644129         10.388952   \n",
       "std                   NaN          NaN         8.646012           7.37926   \n",
       "min                   NaN          NaN            -11.0             -13.0   \n",
       "25%                   NaN          NaN              8.0               4.0   \n",
       "50%                   NaN          NaN             15.0              11.0   \n",
       "75%                   NaN          NaN             21.0              16.0   \n",
       "max                   NaN          NaN             39.0              31.0   \n",
       "counts              15840        15840            15840             15840   \n",
       "uniques                16          990               51                45   \n",
       "missing                 0            0                0                 0   \n",
       "missing_perc           0%           0%               0%                0%   \n",
       "types         categorical  categorical          numeric           numeric   \n",
       "\n",
       "             Min_TemperatureC Dew_PointC MeanDew_PointC Min_DewpointC  \\\n",
       "count                 15840.0    15840.0        15840.0       15840.0   \n",
       "mean                  6.19899   8.587816       6.205808      3.626136   \n",
       "std                  6.526391    6.24478       6.086768       6.12839   \n",
       "min                     -15.0      -14.0          -15.0         -73.0   \n",
       "25%                       1.0        4.0            2.0          -1.0   \n",
       "50%                       7.0        9.0            7.0           4.0   \n",
       "75%                      11.0       13.0           11.0           8.0   \n",
       "max                      24.0       25.0           20.0          19.0   \n",
       "counts                  15840      15840          15840         15840   \n",
       "uniques                    40         40             36            40   \n",
       "missing                     0          0              0             0   \n",
       "missing_perc               0%         0%             0%            0%   \n",
       "types                 numeric    numeric        numeric       numeric   \n",
       "\n",
       "             Max_Humidity Mean_Humidity  ... Max_VisibilityKm  \\\n",
       "count             15840.0       15840.0  ...          15459.0   \n",
       "mean            93.659596     74.282891  ...        24.057572   \n",
       "std               7.67853     13.486552  ...         8.976799   \n",
       "min                  44.0          30.0  ...              0.0   \n",
       "25%                 90.75          65.0  ...             14.0   \n",
       "50%                  94.0          76.0  ...             31.0   \n",
       "75%                 100.0          85.0  ...             31.0   \n",
       "max                 100.0         100.0  ...             31.0   \n",
       "counts              15840         15840  ...            15459   \n",
       "uniques                53            71  ...               24   \n",
       "missing                 0             0  ...              381   \n",
       "missing_perc           0%            0%  ...            2.41%   \n",
       "types             numeric       numeric  ...          numeric   \n",
       "\n",
       "             Mean_VisibilityKm Min_VisibilitykM Max_Wind_SpeedKm_h  \\\n",
       "count                  15459.0          15459.0            15840.0   \n",
       "mean                 12.239796         7.025163          22.766604   \n",
       "std                   5.067944         4.980602           8.988618   \n",
       "min                        0.0              0.0                3.0   \n",
       "25%                       10.0              3.0               16.0   \n",
       "50%                       11.0              7.0               21.0   \n",
       "75%                       14.0             10.0               27.0   \n",
       "max                       31.0             31.0              101.0   \n",
       "counts                   15459            15459              15840   \n",
       "uniques                     32               24                 44   \n",
       "missing                    381              381                  0   \n",
       "missing_perc             2.41%            2.41%                 0%   \n",
       "types                  numeric          numeric            numeric   \n",
       "\n",
       "             Mean_Wind_SpeedKm_h Max_Gust_SpeedKm_h Precipitationmm  \\\n",
       "count                    15840.0             3604.0         15840.0   \n",
       "mean                   11.972222          48.864317        0.831718   \n",
       "std                     5.872844          13.026954        2.513506   \n",
       "min                          2.0               21.0             0.0   \n",
       "25%                          8.0               39.0             0.0   \n",
       "50%                         11.0               48.0             0.0   \n",
       "75%                         14.0               55.0            0.25   \n",
       "max                         53.0              111.0           58.93   \n",
       "counts                     15840               3604           15840   \n",
       "uniques                       29                 47              41   \n",
       "missing                        0              12236               0   \n",
       "missing_perc                  0%             77.25%              0%   \n",
       "types                    numeric            numeric         numeric   \n",
       "\n",
       "             CloudCover       Events WindDirDegrees  \n",
       "count           14667.0          NaN        15840.0  \n",
       "mean           5.551306          NaN     175.896717  \n",
       "std             1.68771          NaN     101.588872  \n",
       "min                 0.0          NaN           -1.0  \n",
       "25%                 5.0          NaN           80.0  \n",
       "50%                 6.0          NaN          202.0  \n",
       "75%                 7.0          NaN          256.0  \n",
       "max                 8.0          NaN          360.0  \n",
       "counts            14667        11889          15840  \n",
       "uniques               9           21            362  \n",
       "missing            1173         3951              0  \n",
       "missing_perc      7.41%       24.94%             0%  \n",
       "types           numeric  categorical        numeric  \n",
       "\n",
       "[13 rows x 24 columns]"
      ]
     },
     "metadata": {},
     "output_type": "display_data"
    }
   ],
   "source": [
    "display(weather.head())\n",
    "display(DataFrameSummary(weather).summary())"
   ]
  },
  {
   "cell_type": "markdown",
   "metadata": {},
   "source": [
    "Most of the fields are self-explanatory. The following are descriptions for those that aren't.\n",
    "\n",
    "- `Customers`: the number of customers on a given day\n",
    "- `Open`: an indicator for whether the store was open: 0 = closed, 1 = open\n",
    "- `StateHoliday`: indicates a state holiday. Normally all stores, with few exceptions, are closed on state holidays. Note that all schools are closed on public holidays and weekends. a = public holiday, b = Easter holiday, c = Christmas, 0 = None\n",
    "- `SchoolHoliday`: indicates if the (Store, Date) was affected by the closure of public schools\n",
    "- `StoreType`: differentiates between 4 different store models: a, b, c, d\n",
    "- `Assortment`: describes an assortment level: a = basic, b = extra, c = extended\n",
    "- `CompetitionDistance`: distance in meters to the nearest competitor store\n",
    "- `CompetitionOpenSince[Month/Year]`: gives the approximate year and month of the time the nearest competitor was opened\n",
    "- `Promo`: indicates whether a store is running a promo on that day\n",
    "- `Promo2`: Promo2 is a continuing and consecutive promotion for some stores: 0 = store is not participating, 1 = store is participating\n",
    "- `Promo2Since[Year/Week]`: describes the year and calendar week when the store started participating in Promo2\n",
    "- `PromoInterval`: describes the consecutive intervals Promo2 is started, naming the months the promotion is started anew. E.g. \"Feb,May,Aug,Nov\" means each round starts in February, May, August, November of any given year for that store\n"
   ]
  },
  {
   "cell_type": "markdown",
   "metadata": {},
   "source": [
    "## Data Cleaning / Feature Engineering\n"
   ]
  },
  {
   "cell_type": "markdown",
   "metadata": {},
   "source": [
    "Data cleaning is the process of transforming the data into formats that the model can understand.\n",
    "\n",
    "Feature engineering is the process of using domain knowledge of the data to create features (columns) that make machine learning algorithms work. More meaningful features (field) make it easier to \"learn\". For example, we will create a field / column called \"CompetitionOpenSince\" and \"CompetitionDaysOpen\" using raw columns."
   ]
  },
  {
   "cell_type": "markdown",
   "metadata": {},
   "source": [
    "Turn state Holidays to Boolean:"
   ]
  },
  {
   "cell_type": "code",
   "execution_count": 11,
   "metadata": {
    "ExecuteTime": {
     "end_time": "2017-09-09T12:29:04.486491Z",
     "start_time": "2017-09-09T12:29:04.414124Z"
    },
    "tags": []
   },
   "outputs": [],
   "source": [
    "train.StateHoliday = train.StateHoliday!='0'"
   ]
  },
  {
   "cell_type": "markdown",
   "metadata": {},
   "source": [
    "Join weather/state names into a single table."
   ]
  },
  {
   "cell_type": "code",
   "execution_count": 12,
   "metadata": {
    "ExecuteTime": {
     "end_time": "2017-09-09T12:29:04.502496Z",
     "start_time": "2017-09-09T12:29:04.490763Z"
    },
    "tags": []
   },
   "outputs": [],
   "source": [
    "def join_df(left, right, left_on, right_on=None):\n",
    "    if right_on is None: right_on = left_on\n",
    "    return left.merge(right, how='left', left_on=left_on, right_on=right_on, \n",
    "                      suffixes=(\"\", \"_y\"))\n",
    "weather = join_df(weather, state_names, \"file\", \"StateName\")"
   ]
  },
  {
   "cell_type": "markdown",
   "metadata": {},
   "source": [
    "Extracting dates and state names from the given data and adding those columns.\n",
    "\n",
    "Replace all instances of state name 'NI' with the usage in the rest of the table, 'HB,NI'."
   ]
  },
  {
   "cell_type": "code",
   "execution_count": 13,
   "metadata": {
    "ExecuteTime": {
     "end_time": "2017-09-09T12:29:04.530488Z",
     "start_time": "2017-09-09T12:29:04.506766Z"
    },
    "tags": []
   },
   "outputs": [],
   "source": [
    "googletrend['Date'] = googletrend.week.str.split(' - ', expand=True)[0]\n",
    "googletrend['State'] = googletrend.file.str.split('_', expand=True)[2]\n",
    "googletrend.loc[googletrend.State=='NI', \"State\"] = 'HB,NI'"
   ]
  },
  {
   "cell_type": "markdown",
   "metadata": {},
   "source": [
    "The following extracts particular date fields from a complete datetime for the purpose of constructing categoricals.\n",
    "Without expanding your date-time into these additional fields, you can't capture any trend/cyclical behavior as a function of time at any of these granularities.\n",
    "We'll add to every table w/ a date field."
   ]
  },
  {
   "cell_type": "code",
   "execution_count": 14,
   "metadata": {
    "ExecuteTime": {
     "end_time": "2017-09-09T12:29:04.946837Z",
     "start_time": "2017-09-09T12:29:04.534787Z"
    },
    "tags": []
   },
   "outputs": [
    {
     "name": "stderr",
     "output_type": "stream",
     "text": [
      "/tmp/ipykernel_15587/2064623006.py:5: FutureWarning: Series.dt.weekofyear and Series.dt.week have been deprecated. Please use Series.dt.isocalendar().week instead.\n",
      "  df[\"Week\"] = df.Date.dt.week\n",
      "/tmp/ipykernel_15587/2064623006.py:5: FutureWarning: Series.dt.weekofyear and Series.dt.week have been deprecated. Please use Series.dt.isocalendar().week instead.\n",
      "  df[\"Week\"] = df.Date.dt.week\n",
      "/tmp/ipykernel_15587/2064623006.py:5: FutureWarning: Series.dt.weekofyear and Series.dt.week have been deprecated. Please use Series.dt.isocalendar().week instead.\n",
      "  df[\"Week\"] = df.Date.dt.week\n"
     ]
    }
   ],
   "source": [
    "def add_datepart(df):\n",
    "    df.Date = pd.to_datetime(df.Date)\n",
    "    df[\"Year\"] = df.Date.dt.year\n",
    "    df[\"Month\"] = df.Date.dt.month\n",
    "    df[\"Week\"] = df.Date.dt.week\n",
    "    df[\"Day\"] = df.Date.dt.day\n",
    "add_datepart(weather)\n",
    "add_datepart(googletrend)\n",
    "add_datepart(train)"
   ]
  },
  {
   "cell_type": "code",
   "execution_count": 15,
   "metadata": {
    "ExecuteTime": {
     "end_time": "2017-09-09T12:29:04.958533Z",
     "start_time": "2017-09-09T12:29:04.952869Z"
    },
    "tags": []
   },
   "outputs": [],
   "source": [
    "trend_de = googletrend[googletrend.file == 'Rossmann_DE']"
   ]
  },
  {
   "cell_type": "markdown",
   "metadata": {},
   "source": [
    "Now we can outer join all of our data into a single dataframe."
   ]
  },
  {
   "cell_type": "code",
   "execution_count": 16,
   "metadata": {
    "ExecuteTime": {
     "end_time": "2017-09-09T12:29:04.974532Z",
     "start_time": "2017-09-09T12:29:04.963091Z"
    }
   },
   "outputs": [
    {
     "data": {
      "text/plain": [
       "0"
      ]
     },
     "execution_count": 16,
     "metadata": {},
     "output_type": "execute_result"
    }
   ],
   "source": [
    "store = join_df(store, store_states, \"Store\")\n",
    "len(store[store.State.isnull()])"
   ]
  },
  {
   "cell_type": "code",
   "execution_count": 17,
   "metadata": {
    "ExecuteTime": {
     "end_time": "2017-09-09T12:29:05.406573Z",
     "start_time": "2017-09-09T12:29:04.978780Z"
    }
   },
   "outputs": [
    {
     "data": {
      "text/plain": [
       "0"
      ]
     },
     "execution_count": 17,
     "metadata": {},
     "output_type": "execute_result"
    }
   ],
   "source": [
    "joined = join_df(train, store, \"Store\")\n",
    "len(joined[joined.StoreType.isnull()])"
   ]
  },
  {
   "cell_type": "code",
   "execution_count": 18,
   "metadata": {
    "ExecuteTime": {
     "end_time": "2017-09-09T12:29:05.894625Z",
     "start_time": "2017-09-09T12:29:05.410807Z"
    }
   },
   "outputs": [
    {
     "data": {
      "text/plain": [
       "0"
      ]
     },
     "execution_count": 18,
     "metadata": {},
     "output_type": "execute_result"
    }
   ],
   "source": [
    "joined = join_df(joined, googletrend, [\"State\",\"Year\", \"Week\"])\n",
    "len(joined[joined.trend.isnull()])"
   ]
  },
  {
   "cell_type": "code",
   "execution_count": 19,
   "metadata": {
    "ExecuteTime": {
     "end_time": "2017-09-09T12:29:06.618699Z",
     "start_time": "2017-09-09T12:29:05.898522Z"
    }
   },
   "outputs": [
    {
     "data": {
      "text/plain": [
       "0"
      ]
     },
     "execution_count": 19,
     "metadata": {},
     "output_type": "execute_result"
    }
   ],
   "source": [
    "joined = joined.merge(trend_de, 'left', [\"Year\", \"Week\"], suffixes=('', '_DE'))\n",
    "len(joined[joined.trend_DE.isnull()])"
   ]
  },
  {
   "cell_type": "code",
   "execution_count": 20,
   "metadata": {
    "ExecuteTime": {
     "end_time": "2017-09-09T12:29:08.122859Z",
     "start_time": "2017-09-09T12:29:06.622923Z"
    }
   },
   "outputs": [
    {
     "data": {
      "text/plain": [
       "0"
      ]
     },
     "execution_count": 20,
     "metadata": {},
     "output_type": "execute_result"
    }
   ],
   "source": [
    "joined = join_df(joined, weather, [\"State\",\"Date\"])\n",
    "len(joined[joined.Mean_TemperatureC.isnull()])"
   ]
  },
  {
   "cell_type": "markdown",
   "metadata": {},
   "source": [
    "Next we'll fill in missing values to avoid complications w/ na's."
   ]
  },
  {
   "cell_type": "code",
   "execution_count": 21,
   "metadata": {
    "ExecuteTime": {
     "end_time": "2017-09-09T12:29:08.214883Z",
     "start_time": "2017-09-09T12:29:08.126803Z"
    },
    "tags": []
   },
   "outputs": [],
   "source": [
    "joined.CompetitionOpenSinceYear = joined.CompetitionOpenSinceYear.fillna(1900).astype(np.int32)\n",
    "joined.CompetitionOpenSinceMonth = joined.CompetitionOpenSinceMonth.fillna(1).astype(np.int32)\n",
    "joined.Promo2SinceYear = joined.Promo2SinceYear.fillna(1900).astype(np.int32)\n",
    "joined.Promo2SinceWeek = joined.Promo2SinceWeek.fillna(1).astype(np.int32)"
   ]
  },
  {
   "cell_type": "markdown",
   "metadata": {},
   "source": [
    "Next we'll extract features \"CompetitionOpenSince\" and \"CompetitionDaysOpen\". Note the use of `apply()` in mapping a function across dataframe values."
   ]
  },
  {
   "cell_type": "code",
   "execution_count": 22,
   "metadata": {
    "ExecuteTime": {
     "end_time": "2017-09-09T12:31:29.085813Z",
     "start_time": "2017-09-09T12:29:08.219195Z"
    },
    "tags": []
   },
   "outputs": [],
   "source": [
    "joined[\"CompetitionOpenSince\"] = pd.to_datetime(joined.apply(lambda x: datetime.datetime(\n",
    "    x.CompetitionOpenSinceYear, x.CompetitionOpenSinceMonth, 15), axis=1))"
   ]
  },
  {
   "cell_type": "code",
   "execution_count": 23,
   "metadata": {},
   "outputs": [],
   "source": [
    "joined[\"CompetitionDaysOpen\"] = joined.Date.subtract(joined[\"CompetitionOpenSince\"]).dt.days"
   ]
  },
  {
   "cell_type": "markdown",
   "metadata": {},
   "source": [
    "We'll replace some erroneous / outlying data."
   ]
  },
  {
   "cell_type": "code",
   "execution_count": 24,
   "metadata": {
    "ExecuteTime": {
     "end_time": "2017-09-09T12:31:29.209823Z",
     "start_time": "2017-09-09T12:31:29.090145Z"
    },
    "tags": []
   },
   "outputs": [],
   "source": [
    "joined.loc[joined.CompetitionDaysOpen<0, \"CompetitionDaysOpen\"] = 0\n",
    "joined.loc[joined.CompetitionOpenSinceYear<1990, \"CompetitionDaysOpen\"] = 0"
   ]
  },
  {
   "cell_type": "markdown",
   "metadata": {},
   "source": [
    "Added \"CompetitionMonthsOpen\" field, limit the maximum to 2 years to limit number of unique embeddings."
   ]
  },
  {
   "cell_type": "code",
   "execution_count": 25,
   "metadata": {
    "ExecuteTime": {
     "end_time": "2017-09-09T12:31:29.337825Z",
     "start_time": "2017-09-09T12:31:29.214175Z"
    }
   },
   "outputs": [
    {
     "data": {
      "text/plain": [
       "array([24,  3, 19,  9,  0, 16, 17,  7, 15, 22, 11, 13,  2, 23, 12,  4, 10,\n",
       "        1, 14, 20,  8, 18,  6, 21,  5])"
      ]
     },
     "execution_count": 25,
     "metadata": {},
     "output_type": "execute_result"
    }
   ],
   "source": [
    "joined[\"CompetitionMonthsOpen\"] = joined[\"CompetitionDaysOpen\"]//30\n",
    "joined.loc[joined.CompetitionMonthsOpen>24, \"CompetitionMonthsOpen\"] = 24\n",
    "joined.CompetitionMonthsOpen.unique()"
   ]
  },
  {
   "cell_type": "markdown",
   "metadata": {},
   "source": [
    "Same process for Promo dates."
   ]
  },
  {
   "cell_type": "code",
   "execution_count": 26,
   "metadata": {
    "ExecuteTime": {
     "end_time": "2017-09-09T12:33:57.741676Z",
     "start_time": "2017-09-09T12:31:29.341763Z"
    },
    "tags": []
   },
   "outputs": [],
   "source": [
    "joined[\"Promo2Since\"] = pd.to_datetime(joined.apply(lambda x: Week(\n",
    "    x.Promo2SinceYear, x.Promo2SinceWeek).monday(), axis=1))\n",
    "joined[\"Promo2Days\"] = joined.Date.subtract(joined[\"Promo2Since\"]).dt.days"
   ]
  },
  {
   "cell_type": "code",
   "execution_count": 27,
   "metadata": {
    "ExecuteTime": {
     "end_time": "2017-09-09T12:33:57.861678Z",
     "start_time": "2017-09-09T12:33:57.745966Z"
    },
    "tags": []
   },
   "outputs": [],
   "source": [
    "joined.loc[joined.Promo2Days<0, \"Promo2Days\"] = 0\n",
    "joined.loc[joined.Promo2SinceYear<1990, \"Promo2Days\"] = 0"
   ]
  },
  {
   "cell_type": "code",
   "execution_count": 28,
   "metadata": {
    "ExecuteTime": {
     "end_time": "2017-09-09T12:33:58.009680Z",
     "start_time": "2017-09-09T12:33:57.865983Z"
    }
   },
   "outputs": [
    {
     "data": {
      "text/plain": [
       "array([ 0, 25, 17,  8, 13, 24, 16,  7, 12, 23, 15,  6, 11, 22, 14,  5, 10,\n",
       "       21,  4,  9, 20,  3, 19,  2, 18,  1])"
      ]
     },
     "execution_count": 28,
     "metadata": {},
     "output_type": "execute_result"
    }
   ],
   "source": [
    "joined[\"Promo2Weeks\"] = joined[\"Promo2Days\"]//7\n",
    "joined.loc[joined.Promo2Weeks<0, \"Promo2Weeks\"] = 0\n",
    "joined.loc[joined.Promo2Weeks>25, \"Promo2Weeks\"] = 25\n",
    "joined.Promo2Weeks.unique()"
   ]
  },
  {
   "cell_type": "code",
   "execution_count": 29,
   "metadata": {},
   "outputs": [
    {
     "data": {
      "text/plain": [
       "Index(['Store', 'DayOfWeek', 'Date', 'Sales', 'Customers', 'Open', 'Promo',\n",
       "       'StateHoliday', 'SchoolHoliday', 'Year', 'Month', 'Week', 'Day',\n",
       "       'StoreType', 'Assortment', 'CompetitionDistance',\n",
       "       'CompetitionOpenSinceMonth', 'CompetitionOpenSinceYear', 'Promo2',\n",
       "       'Promo2SinceWeek', 'Promo2SinceYear', 'PromoInterval', 'State', 'file',\n",
       "       'week', 'trend', 'Date_y', 'Month_y', 'Day_y', 'file_DE', 'week_DE',\n",
       "       'trend_DE', 'Date_DE', 'State_DE', 'Month_DE', 'Day_DE', 'file_y',\n",
       "       'Max_TemperatureC', 'Mean_TemperatureC', 'Min_TemperatureC',\n",
       "       'Dew_PointC', 'MeanDew_PointC', 'Min_DewpointC', 'Max_Humidity',\n",
       "       'Mean_Humidity', 'Min_Humidity', 'Max_Sea_Level_PressurehPa',\n",
       "       'Mean_Sea_Level_PressurehPa', 'Min_Sea_Level_PressurehPa',\n",
       "       'Max_VisibilityKm', 'Mean_VisibilityKm', 'Min_VisibilitykM',\n",
       "       'Max_Wind_SpeedKm_h', 'Mean_Wind_SpeedKm_h', 'Max_Gust_SpeedKm_h',\n",
       "       'Precipitationmm', 'CloudCover', 'Events', 'WindDirDegrees',\n",
       "       'StateName', 'Year_y', 'Month_y', 'Week_y', 'Day_y',\n",
       "       'CompetitionOpenSince', 'CompetitionDaysOpen', 'CompetitionMonthsOpen',\n",
       "       'Promo2Since', 'Promo2Days', 'Promo2Weeks'],\n",
       "      dtype='object')"
      ]
     },
     "execution_count": 29,
     "metadata": {},
     "output_type": "execute_result"
    }
   ],
   "source": [
    "joined.columns"
   ]
  },
  {
   "cell_type": "code",
   "execution_count": 30,
   "metadata": {},
   "outputs": [
    {
     "data": {
      "text/plain": [
       "Month_y                       2\n",
       "Day_y                         2\n",
       "Min_DewpointC                 1\n",
       "Min_Sea_Level_PressurehPa     1\n",
       "Mean_Sea_Level_PressurehPa    1\n",
       "                             ..\n",
       "file_DE                       1\n",
       "week_DE                       1\n",
       "trend_DE                      1\n",
       "Date_DE                       1\n",
       "Promo2Weeks                   1\n",
       "Length: 68, dtype: int64"
      ]
     },
     "execution_count": 30,
     "metadata": {},
     "output_type": "execute_result"
    }
   ],
   "source": [
    "joined.columns.value_counts()"
   ]
  },
  {
   "cell_type": "markdown",
   "metadata": {},
   "source": [
    "## Durations"
   ]
  },
  {
   "cell_type": "markdown",
   "metadata": {},
   "source": [
    "It is common when working with time series data to extract data that explains relationships across rows as opposed to columns, e.g.:\n",
    "* Running averages\n",
    "* Time until next event\n",
    "* Time since last event\n",
    "\n",
    "This is often difficult to do with most table manipulation frameworks, since they are designed to work with relationships across columns. As such, we've created a class to handle this type of data."
   ]
  },
  {
   "cell_type": "code",
   "execution_count": 31,
   "metadata": {
    "ExecuteTime": {
     "end_time": "2017-09-09T12:33:58.017675Z",
     "start_time": "2017-09-09T12:33:58.013588Z"
    },
    "tags": []
   },
   "outputs": [],
   "source": [
    "columns = [\"Date\", \"Store\", \"Promo\", \"StateHoliday\", \"SchoolHoliday\"]"
   ]
  },
  {
   "cell_type": "markdown",
   "metadata": {},
   "source": [
    "We've defined a class `elapsed` for cumulative counting across a sorted dataframe.\n",
    "\n",
    "Given a particular field `fld` to monitor, this object will start tracking time since the last occurrence of that field. When the field is seen again, the counter is set to zero.\n",
    "\n",
    "Upon initialization, this will result in datetime na's until the field is encountered. This is reset every time a new store is seen."
   ]
  },
  {
   "cell_type": "code",
   "execution_count": 32,
   "metadata": {
    "ExecuteTime": {
     "end_time": "2017-09-09T12:33:58.033681Z",
     "start_time": "2017-09-09T12:33:58.020905Z"
    },
    "tags": []
   },
   "outputs": [],
   "source": [
    "class elapsed(object):\n",
    "    def __init__(self, fld):\n",
    "        self.fld = fld\n",
    "        self.last = pd.to_datetime(np.nan)\n",
    "        self.last_store = 0\n",
    "        \n",
    "    def get(self, row):\n",
    "        if row.Store != self.last_store:\n",
    "            self.last = pd.to_datetime(np.nan)\n",
    "            self.last_store = row.Store\n",
    "        if (row[self.fld]): self.last = row.Date\n",
    "        return row.Date-self.last"
   ]
  },
  {
   "cell_type": "code",
   "execution_count": 33,
   "metadata": {
    "ExecuteTime": {
     "end_time": "2017-09-09T12:33:58.073702Z",
     "start_time": "2017-09-09T12:33:58.038183Z"
    },
    "scrolled": true,
    "tags": []
   },
   "outputs": [],
   "source": [
    "df = train[columns]"
   ]
  },
  {
   "cell_type": "markdown",
   "metadata": {},
   "source": [
    "And a function for applying said class across dataframe rows and adding values to a new column."
   ]
  },
  {
   "cell_type": "code",
   "execution_count": 34,
   "metadata": {
    "ExecuteTime": {
     "end_time": "2017-09-09T12:33:58.085773Z",
     "start_time": "2017-09-09T12:33:58.078010Z"
    },
    "tags": []
   },
   "outputs": [],
   "source": [
    "def add_elapsed(fld, prefix):\n",
    "    sh_el = elapsed(fld)\n",
    "    df[prefix+fld] = df.apply(sh_el.get, axis=1)"
   ]
  },
  {
   "cell_type": "markdown",
   "metadata": {},
   "source": [
    "Let's walk through an example.\n",
    "\n",
    "Say we're looking at School Holiday. We'll first sort by Store, then Date, and then call `add_elapsed('SchoolHoliday', 'After')`:\n",
    "This will generate an instance of the `elapsed` class for School Holiday:\n",
    "* Instance applied to every row of the dataframe in order of store and date\n",
    "* Will add to the dataframe the days since seeing a School Holiday\n",
    "* If we sort in the other direction, this will count the days until another promotion."
   ]
  },
  {
   "cell_type": "code",
   "execution_count": 35,
   "metadata": {
    "ExecuteTime": {
     "end_time": "2017-09-09T12:38:56.318003Z",
     "start_time": "2017-09-09T12:33:58.089696Z"
    },
    "tags": []
   },
   "outputs": [],
   "source": [
    "fld = 'SchoolHoliday'\n",
    "df = df.sort_values(['Store', 'Date'])\n",
    "add_elapsed(fld, 'After')\n",
    "df = df.sort_values(['Store', 'Date'], ascending=[True, False])\n",
    "add_elapsed(fld, 'Before')"
   ]
  },
  {
   "cell_type": "markdown",
   "metadata": {},
   "source": [
    "We'll do this for two more fields."
   ]
  },
  {
   "cell_type": "code",
   "execution_count": 36,
   "metadata": {
    "ExecuteTime": {
     "end_time": "2017-09-09T12:44:24.643414Z",
     "start_time": "2017-09-09T12:38:56.322386Z"
    },
    "tags": []
   },
   "outputs": [],
   "source": [
    "fld = 'StateHoliday'\n",
    "df = df.sort_values(['Store', 'Date'])\n",
    "add_elapsed(fld, 'After')\n",
    "df = df.sort_values(['Store', 'Date'], ascending=[True, False])\n",
    "add_elapsed(fld, 'Before')"
   ]
  },
  {
   "cell_type": "code",
   "execution_count": 37,
   "metadata": {
    "ExecuteTime": {
     "end_time": "2017-09-09T12:50:39.561351Z",
     "start_time": "2017-09-09T12:44:24.647992Z"
    },
    "tags": []
   },
   "outputs": [],
   "source": [
    "fld = 'Promo'\n",
    "df = df.sort_values(['Store', 'Date'])\n",
    "add_elapsed(fld, 'After')\n",
    "df = df.sort_values(['Store', 'Date'], ascending=[True, False])\n",
    "add_elapsed(fld, 'Before')"
   ]
  },
  {
   "cell_type": "markdown",
   "metadata": {},
   "source": [
    "We're going to set the active index to Date."
   ]
  },
  {
   "cell_type": "code",
   "execution_count": 38,
   "metadata": {
    "ExecuteTime": {
     "end_time": "2017-09-09T12:50:39.589349Z",
     "start_time": "2017-09-09T12:50:39.565636Z"
    },
    "tags": []
   },
   "outputs": [],
   "source": [
    "df = df.set_index(\"Date\")"
   ]
  },
  {
   "cell_type": "markdown",
   "metadata": {},
   "source": [
    "Then set null values from elapsed field calculations to 0."
   ]
  },
  {
   "cell_type": "code",
   "execution_count": 39,
   "metadata": {
    "ExecuteTime": {
     "end_time": "2017-09-09T12:50:39.597331Z",
     "start_time": "2017-09-09T12:50:39.593766Z"
    },
    "tags": []
   },
   "outputs": [],
   "source": [
    "columns = ['SchoolHoliday', 'StateHoliday', 'Promo']"
   ]
  },
  {
   "cell_type": "code",
   "execution_count": 40,
   "metadata": {
    "ExecuteTime": {
     "end_time": "2017-09-09T12:51:34.476290Z",
     "start_time": "2017-09-09T12:50:39.601239Z"
    },
    "tags": []
   },
   "outputs": [],
   "source": [
    "for o in ['Before', 'After']:\n",
    "    for p in columns:\n",
    "        a = o+p\n",
    "        df[a] = df[a].fillna(pd.Timedelta(0)).dt.days"
   ]
  },
  {
   "cell_type": "markdown",
   "metadata": {},
   "source": [
    "Next we'll demonstrate window functions in pandas to calculate rolling quantities.\n",
    "\n",
    "Here we're sorting by date (`sort_index()`) and counting the number of events of interest (`sum()`) defined in `columns` in the following week (`rolling()`), grouped by Store (`groupby()`). We do the same in the opposite direction."
   ]
  },
  {
   "cell_type": "code",
   "execution_count": 41,
   "metadata": {
    "ExecuteTime": {
     "end_time": "2017-09-09T12:51:36.660413Z",
     "start_time": "2017-09-09T12:51:34.480574Z"
    },
    "tags": []
   },
   "outputs": [],
   "source": [
    "bwd = df[['Store']+columns].sort_index().groupby(\"Store\").rolling(7, min_periods=1).sum()"
   ]
  },
  {
   "cell_type": "code",
   "execution_count": 42,
   "metadata": {
    "ExecuteTime": {
     "end_time": "2017-09-09T12:51:38.828535Z",
     "start_time": "2017-09-09T12:51:36.664767Z"
    },
    "tags": []
   },
   "outputs": [],
   "source": [
    "fwd = df[['Store']+columns].sort_index(ascending=False\n",
    "                                      ).groupby(\"Store\").rolling(7, min_periods=1).sum()"
   ]
  },
  {
   "cell_type": "code",
   "execution_count": 43,
   "metadata": {},
   "outputs": [],
   "source": [
    "# bwd"
   ]
  },
  {
   "cell_type": "markdown",
   "metadata": {},
   "source": [
    "Next we want to drop the Store indices grouped together in the window function.\n",
    "\n",
    "Often in pandas, there is an option to do this in place. This is time and memory efficient when working with large datasets."
   ]
  },
  {
   "cell_type": "code",
   "execution_count": 45,
   "metadata": {
    "ExecuteTime": {
     "end_time": "2017-09-09T12:51:38.848541Z",
     "start_time": "2017-09-09T12:51:38.832896Z"
    },
    "tags": []
   },
   "outputs": [],
   "source": [
    "#bwd.drop('Store',1,inplace=True)\n",
    "bwd.reset_index(inplace=True)"
   ]
  },
  {
   "cell_type": "code",
   "execution_count": 46,
   "metadata": {},
   "outputs": [
    {
     "data": {
      "text/html": [
       "<div>\n",
       "<style scoped>\n",
       "    .dataframe tbody tr th:only-of-type {\n",
       "        vertical-align: middle;\n",
       "    }\n",
       "\n",
       "    .dataframe tbody tr th {\n",
       "        vertical-align: top;\n",
       "    }\n",
       "\n",
       "    .dataframe thead th {\n",
       "        text-align: right;\n",
       "    }\n",
       "</style>\n",
       "<table border=\"1\" class=\"dataframe\">\n",
       "  <thead>\n",
       "    <tr style=\"text-align: right;\">\n",
       "      <th></th>\n",
       "      <th>Store</th>\n",
       "      <th>Date</th>\n",
       "      <th>SchoolHoliday</th>\n",
       "      <th>StateHoliday</th>\n",
       "      <th>Promo</th>\n",
       "    </tr>\n",
       "  </thead>\n",
       "  <tbody>\n",
       "    <tr>\n",
       "      <th>0</th>\n",
       "      <td>1</td>\n",
       "      <td>2013-01-01</td>\n",
       "      <td>1.0</td>\n",
       "      <td>1.0</td>\n",
       "      <td>0.0</td>\n",
       "    </tr>\n",
       "    <tr>\n",
       "      <th>1</th>\n",
       "      <td>1</td>\n",
       "      <td>2013-01-02</td>\n",
       "      <td>2.0</td>\n",
       "      <td>1.0</td>\n",
       "      <td>0.0</td>\n",
       "    </tr>\n",
       "    <tr>\n",
       "      <th>2</th>\n",
       "      <td>1</td>\n",
       "      <td>2013-01-03</td>\n",
       "      <td>3.0</td>\n",
       "      <td>1.0</td>\n",
       "      <td>0.0</td>\n",
       "    </tr>\n",
       "    <tr>\n",
       "      <th>3</th>\n",
       "      <td>1</td>\n",
       "      <td>2013-01-04</td>\n",
       "      <td>4.0</td>\n",
       "      <td>1.0</td>\n",
       "      <td>0.0</td>\n",
       "    </tr>\n",
       "    <tr>\n",
       "      <th>4</th>\n",
       "      <td>1</td>\n",
       "      <td>2013-01-05</td>\n",
       "      <td>5.0</td>\n",
       "      <td>1.0</td>\n",
       "      <td>0.0</td>\n",
       "    </tr>\n",
       "    <tr>\n",
       "      <th>...</th>\n",
       "      <td>...</td>\n",
       "      <td>...</td>\n",
       "      <td>...</td>\n",
       "      <td>...</td>\n",
       "      <td>...</td>\n",
       "    </tr>\n",
       "    <tr>\n",
       "      <th>1017204</th>\n",
       "      <td>1115</td>\n",
       "      <td>2015-07-27</td>\n",
       "      <td>1.0</td>\n",
       "      <td>0.0</td>\n",
       "      <td>1.0</td>\n",
       "    </tr>\n",
       "    <tr>\n",
       "      <th>1017205</th>\n",
       "      <td>1115</td>\n",
       "      <td>2015-07-28</td>\n",
       "      <td>2.0</td>\n",
       "      <td>0.0</td>\n",
       "      <td>2.0</td>\n",
       "    </tr>\n",
       "    <tr>\n",
       "      <th>1017206</th>\n",
       "      <td>1115</td>\n",
       "      <td>2015-07-29</td>\n",
       "      <td>3.0</td>\n",
       "      <td>0.0</td>\n",
       "      <td>3.0</td>\n",
       "    </tr>\n",
       "    <tr>\n",
       "      <th>1017207</th>\n",
       "      <td>1115</td>\n",
       "      <td>2015-07-30</td>\n",
       "      <td>4.0</td>\n",
       "      <td>0.0</td>\n",
       "      <td>4.0</td>\n",
       "    </tr>\n",
       "    <tr>\n",
       "      <th>1017208</th>\n",
       "      <td>1115</td>\n",
       "      <td>2015-07-31</td>\n",
       "      <td>5.0</td>\n",
       "      <td>0.0</td>\n",
       "      <td>5.0</td>\n",
       "    </tr>\n",
       "  </tbody>\n",
       "</table>\n",
       "<p>1017209 rows × 5 columns</p>\n",
       "</div>"
      ],
      "text/plain": [
       "         Store       Date  SchoolHoliday  StateHoliday  Promo\n",
       "0            1 2013-01-01            1.0           1.0    0.0\n",
       "1            1 2013-01-02            2.0           1.0    0.0\n",
       "2            1 2013-01-03            3.0           1.0    0.0\n",
       "3            1 2013-01-04            4.0           1.0    0.0\n",
       "4            1 2013-01-05            5.0           1.0    0.0\n",
       "...        ...        ...            ...           ...    ...\n",
       "1017204   1115 2015-07-27            1.0           0.0    1.0\n",
       "1017205   1115 2015-07-28            2.0           0.0    2.0\n",
       "1017206   1115 2015-07-29            3.0           0.0    3.0\n",
       "1017207   1115 2015-07-30            4.0           0.0    4.0\n",
       "1017208   1115 2015-07-31            5.0           0.0    5.0\n",
       "\n",
       "[1017209 rows x 5 columns]"
      ]
     },
     "execution_count": 46,
     "metadata": {},
     "output_type": "execute_result"
    }
   ],
   "source": [
    "bwd"
   ]
  },
  {
   "cell_type": "code",
   "execution_count": 49,
   "metadata": {
    "ExecuteTime": {
     "end_time": "2017-09-09T12:51:38.868544Z",
     "start_time": "2017-09-09T12:51:38.852784Z"
    },
    "tags": []
   },
   "outputs": [],
   "source": [
    "#fwd.drop('Store',1,inplace=True)\n",
    "fwd.reset_index(inplace=True)"
   ]
  },
  {
   "cell_type": "code",
   "execution_count": 50,
   "metadata": {
    "ExecuteTime": {
     "end_time": "2017-09-09T12:51:38.880520Z",
     "start_time": "2017-09-09T12:51:38.872814Z"
    },
    "tags": []
   },
   "outputs": [],
   "source": [
    "df.reset_index(inplace=True)"
   ]
  },
  {
   "cell_type": "markdown",
   "metadata": {},
   "source": [
    "Now we'll merge these values onto the df."
   ]
  },
  {
   "cell_type": "code",
   "execution_count": 51,
   "metadata": {
    "ExecuteTime": {
     "end_time": "2017-09-09T12:51:39.280562Z",
     "start_time": "2017-09-09T12:51:38.884558Z"
    },
    "tags": []
   },
   "outputs": [],
   "source": [
    "df = df.merge(bwd, 'left', ['Date', 'Store'], suffixes=['', '_bw'])\n",
    "df = df.merge(fwd, 'left', ['Date', 'Store'], suffixes=['', '_fw'])"
   ]
  },
  {
   "cell_type": "code",
   "execution_count": 52,
   "metadata": {
    "ExecuteTime": {
     "end_time": "2017-09-09T12:51:39.336575Z",
     "start_time": "2017-09-09T12:51:39.284873Z"
    },
    "tags": []
   },
   "outputs": [
    {
     "name": "stderr",
     "output_type": "stream",
     "text": [
      "/tmp/ipykernel_15587/1799059504.py:1: FutureWarning: In a future version of pandas all arguments of DataFrame.drop except for the argument 'labels' will be keyword-only.\n",
      "  df.drop(columns,1,inplace=True)\n"
     ]
    }
   ],
   "source": [
    "df.drop(columns,1,inplace=True)"
   ]
  },
  {
   "cell_type": "code",
   "execution_count": 53,
   "metadata": {
    "ExecuteTime": {
     "end_time": "2017-09-09T12:51:39.360551Z",
     "start_time": "2017-09-09T12:51:39.341181Z"
    }
   },
   "outputs": [
    {
     "data": {
      "text/html": [
       "<div>\n",
       "<style scoped>\n",
       "    .dataframe tbody tr th:only-of-type {\n",
       "        vertical-align: middle;\n",
       "    }\n",
       "\n",
       "    .dataframe tbody tr th {\n",
       "        vertical-align: top;\n",
       "    }\n",
       "\n",
       "    .dataframe thead th {\n",
       "        text-align: right;\n",
       "    }\n",
       "</style>\n",
       "<table border=\"1\" class=\"dataframe\">\n",
       "  <thead>\n",
       "    <tr style=\"text-align: right;\">\n",
       "      <th></th>\n",
       "      <th>index</th>\n",
       "      <th>Date</th>\n",
       "      <th>Store</th>\n",
       "      <th>AfterSchoolHoliday</th>\n",
       "      <th>BeforeSchoolHoliday</th>\n",
       "      <th>AfterStateHoliday</th>\n",
       "      <th>BeforeStateHoliday</th>\n",
       "      <th>AfterPromo</th>\n",
       "      <th>BeforePromo</th>\n",
       "      <th>SchoolHoliday_bw</th>\n",
       "      <th>StateHoliday_bw</th>\n",
       "      <th>Promo_bw</th>\n",
       "      <th>SchoolHoliday_fw</th>\n",
       "      <th>StateHoliday_fw</th>\n",
       "      <th>Promo_fw</th>\n",
       "    </tr>\n",
       "  </thead>\n",
       "  <tbody>\n",
       "    <tr>\n",
       "      <th>0</th>\n",
       "      <td>0</td>\n",
       "      <td>2015-07-31</td>\n",
       "      <td>1</td>\n",
       "      <td>0</td>\n",
       "      <td>0</td>\n",
       "      <td>57</td>\n",
       "      <td>0</td>\n",
       "      <td>0</td>\n",
       "      <td>0</td>\n",
       "      <td>5.0</td>\n",
       "      <td>0.0</td>\n",
       "      <td>5.0</td>\n",
       "      <td>1.0</td>\n",
       "      <td>0.0</td>\n",
       "      <td>1.0</td>\n",
       "    </tr>\n",
       "    <tr>\n",
       "      <th>1</th>\n",
       "      <td>1</td>\n",
       "      <td>2015-07-30</td>\n",
       "      <td>1</td>\n",
       "      <td>0</td>\n",
       "      <td>0</td>\n",
       "      <td>56</td>\n",
       "      <td>0</td>\n",
       "      <td>0</td>\n",
       "      <td>0</td>\n",
       "      <td>4.0</td>\n",
       "      <td>0.0</td>\n",
       "      <td>4.0</td>\n",
       "      <td>2.0</td>\n",
       "      <td>0.0</td>\n",
       "      <td>2.0</td>\n",
       "    </tr>\n",
       "    <tr>\n",
       "      <th>2</th>\n",
       "      <td>2</td>\n",
       "      <td>2015-07-29</td>\n",
       "      <td>1</td>\n",
       "      <td>0</td>\n",
       "      <td>0</td>\n",
       "      <td>55</td>\n",
       "      <td>0</td>\n",
       "      <td>0</td>\n",
       "      <td>0</td>\n",
       "      <td>3.0</td>\n",
       "      <td>0.0</td>\n",
       "      <td>3.0</td>\n",
       "      <td>3.0</td>\n",
       "      <td>0.0</td>\n",
       "      <td>3.0</td>\n",
       "    </tr>\n",
       "    <tr>\n",
       "      <th>3</th>\n",
       "      <td>3</td>\n",
       "      <td>2015-07-28</td>\n",
       "      <td>1</td>\n",
       "      <td>0</td>\n",
       "      <td>0</td>\n",
       "      <td>54</td>\n",
       "      <td>0</td>\n",
       "      <td>0</td>\n",
       "      <td>0</td>\n",
       "      <td>2.0</td>\n",
       "      <td>0.0</td>\n",
       "      <td>2.0</td>\n",
       "      <td>4.0</td>\n",
       "      <td>0.0</td>\n",
       "      <td>4.0</td>\n",
       "    </tr>\n",
       "    <tr>\n",
       "      <th>4</th>\n",
       "      <td>4</td>\n",
       "      <td>2015-07-27</td>\n",
       "      <td>1</td>\n",
       "      <td>0</td>\n",
       "      <td>0</td>\n",
       "      <td>53</td>\n",
       "      <td>0</td>\n",
       "      <td>0</td>\n",
       "      <td>0</td>\n",
       "      <td>1.0</td>\n",
       "      <td>0.0</td>\n",
       "      <td>1.0</td>\n",
       "      <td>5.0</td>\n",
       "      <td>0.0</td>\n",
       "      <td>5.0</td>\n",
       "    </tr>\n",
       "  </tbody>\n",
       "</table>\n",
       "</div>"
      ],
      "text/plain": [
       "   index       Date  Store  AfterSchoolHoliday  BeforeSchoolHoliday  \\\n",
       "0      0 2015-07-31      1                   0                    0   \n",
       "1      1 2015-07-30      1                   0                    0   \n",
       "2      2 2015-07-29      1                   0                    0   \n",
       "3      3 2015-07-28      1                   0                    0   \n",
       "4      4 2015-07-27      1                   0                    0   \n",
       "\n",
       "   AfterStateHoliday  BeforeStateHoliday  AfterPromo  BeforePromo  \\\n",
       "0                 57                   0           0            0   \n",
       "1                 56                   0           0            0   \n",
       "2                 55                   0           0            0   \n",
       "3                 54                   0           0            0   \n",
       "4                 53                   0           0            0   \n",
       "\n",
       "   SchoolHoliday_bw  StateHoliday_bw  Promo_bw  SchoolHoliday_fw  \\\n",
       "0               5.0              0.0       5.0               1.0   \n",
       "1               4.0              0.0       4.0               2.0   \n",
       "2               3.0              0.0       3.0               3.0   \n",
       "3               2.0              0.0       2.0               4.0   \n",
       "4               1.0              0.0       1.0               5.0   \n",
       "\n",
       "   StateHoliday_fw  Promo_fw  \n",
       "0              0.0       1.0  \n",
       "1              0.0       2.0  \n",
       "2              0.0       3.0  \n",
       "3              0.0       4.0  \n",
       "4              0.0       5.0  "
      ]
     },
     "execution_count": 53,
     "metadata": {},
     "output_type": "execute_result"
    }
   ],
   "source": [
    "df.head()"
   ]
  },
  {
   "cell_type": "markdown",
   "metadata": {},
   "source": [
    "It's usually a good idea to back up large tables of extracted / wrangled features before you join them onto another one, that way you can go back to it easily if you need to make changes to it."
   ]
  },
  {
   "cell_type": "code",
   "execution_count": 54,
   "metadata": {
    "ExecuteTime": {
     "end_time": "2017-09-09T12:51:54.357405Z",
     "start_time": "2017-09-09T12:51:39.364463Z"
    },
    "tags": []
   },
   "outputs": [],
   "source": [
    "df.to_csv('df.csv')"
   ]
  },
  {
   "cell_type": "code",
   "execution_count": 55,
   "metadata": {
    "ExecuteTime": {
     "end_time": "2017-09-09T12:51:55.193509Z",
     "start_time": "2017-09-09T12:51:54.361778Z"
    }
   },
   "outputs": [],
   "source": [
    "df = pd.read_csv('df.csv', index_col=0)"
   ]
  },
  {
   "cell_type": "code",
   "execution_count": 56,
   "metadata": {
    "ExecuteTime": {
     "end_time": "2017-09-09T12:51:55.433461Z",
     "start_time": "2017-09-09T12:51:55.197365Z"
    },
    "tags": []
   },
   "outputs": [],
   "source": [
    "df[\"Date\"] = pd.to_datetime(df.Date)"
   ]
  },
  {
   "cell_type": "code",
   "execution_count": 57,
   "metadata": {
    "ExecuteTime": {
     "end_time": "2017-09-09T12:51:55.445447Z",
     "start_time": "2017-09-09T12:51:55.437864Z"
    }
   },
   "outputs": [
    {
     "data": {
      "text/plain": [
       "Index(['index', 'Date', 'Store', 'AfterSchoolHoliday', 'BeforeSchoolHoliday',\n",
       "       'AfterStateHoliday', 'BeforeStateHoliday', 'AfterPromo', 'BeforePromo',\n",
       "       'SchoolHoliday_bw', 'StateHoliday_bw', 'Promo_bw', 'SchoolHoliday_fw',\n",
       "       'StateHoliday_fw', 'Promo_fw'],\n",
       "      dtype='object')"
      ]
     },
     "execution_count": 57,
     "metadata": {},
     "output_type": "execute_result"
    }
   ],
   "source": [
    "df.columns"
   ]
  },
  {
   "cell_type": "code",
   "execution_count": 58,
   "metadata": {
    "ExecuteTime": {
     "end_time": "2017-09-09T12:51:57.961603Z",
     "start_time": "2017-09-09T12:51:55.448758Z"
    },
    "tags": []
   },
   "outputs": [],
   "source": [
    "joined = join_df(joined, df, ['Store', 'Date'])"
   ]
  },
  {
   "cell_type": "markdown",
   "metadata": {},
   "source": [
    "We'll back this up as well."
   ]
  },
  {
   "cell_type": "code",
   "execution_count": 59,
   "metadata": {
    "ExecuteTime": {
     "end_time": "2017-09-09T12:53:29.639007Z",
     "start_time": "2017-09-09T12:51:57.966181Z"
    },
    "tags": []
   },
   "outputs": [],
   "source": [
    "joined.to_csv('joined.csv')"
   ]
  },
  {
   "cell_type": "markdown",
   "metadata": {},
   "source": [
    "We now have our final set of engineered features."
   ]
  },
  {
   "cell_type": "code",
   "execution_count": 60,
   "metadata": {
    "ExecuteTime": {
     "end_time": "2017-09-09T12:53:36.755403Z",
     "start_time": "2017-09-09T12:53:29.642794Z"
    }
   },
   "outputs": [
    {
     "data": {
      "text/plain": [
       "Index(['Store', 'DayOfWeek', 'Date', 'Sales', 'Customers', 'Open', 'Promo',\n",
       "       'StateHoliday', 'SchoolHoliday', 'Year', 'Month', 'Week', 'Day',\n",
       "       'StoreType', 'Assortment', 'CompetitionDistance',\n",
       "       'CompetitionOpenSinceMonth', 'CompetitionOpenSinceYear', 'Promo2',\n",
       "       'Promo2SinceWeek', 'Promo2SinceYear', 'PromoInterval', 'State', 'file',\n",
       "       'week', 'trend', 'Date_y', 'Month_y', 'Day_y', 'file_DE', 'week_DE',\n",
       "       'trend_DE', 'Date_DE', 'State_DE', 'Month_DE', 'Day_DE', 'file_y',\n",
       "       'Max_TemperatureC', 'Mean_TemperatureC', 'Min_TemperatureC',\n",
       "       'Dew_PointC', 'MeanDew_PointC', 'Min_DewpointC', 'Max_Humidity',\n",
       "       'Mean_Humidity', 'Min_Humidity', 'Max_Sea_Level_PressurehPa',\n",
       "       'Mean_Sea_Level_PressurehPa', 'Min_Sea_Level_PressurehPa',\n",
       "       'Max_VisibilityKm', 'Mean_VisibilityKm', 'Min_VisibilitykM',\n",
       "       'Max_Wind_SpeedKm_h', 'Mean_Wind_SpeedKm_h', 'Max_Gust_SpeedKm_h',\n",
       "       'Precipitationmm', 'CloudCover', 'Events', 'WindDirDegrees',\n",
       "       'StateName', 'Year_y', 'Month_y.1', 'Week_y', 'Day_y.1',\n",
       "       'CompetitionOpenSince', 'CompetitionDaysOpen', 'CompetitionMonthsOpen',\n",
       "       'Promo2Since', 'Promo2Days', 'Promo2Weeks', 'index',\n",
       "       'AfterSchoolHoliday', 'BeforeSchoolHoliday', 'AfterStateHoliday',\n",
       "       'BeforeStateHoliday', 'AfterPromo', 'BeforePromo', 'SchoolHoliday_bw',\n",
       "       'StateHoliday_bw', 'Promo_bw', 'SchoolHoliday_fw', 'StateHoliday_fw',\n",
       "       'Promo_fw'],\n",
       "      dtype='object')"
      ]
     },
     "execution_count": 60,
     "metadata": {},
     "output_type": "execute_result"
    }
   ],
   "source": [
    "joined = pd.read_csv('joined.csv', index_col=0)\n",
    "joined[\"Date\"] = pd.to_datetime(joined.Date)\n",
    "joined.columns"
   ]
  },
  {
   "cell_type": "markdown",
   "metadata": {},
   "source": [
    "While these steps were explicitly outlined in the paper, these are all fairly typical feature engineering steps for dealing with time series data and are practical in any similar setting."
   ]
  },
  {
   "cell_type": "markdown",
   "metadata": {},
   "source": [
    "## Create features"
   ]
  },
  {
   "cell_type": "markdown",
   "metadata": {},
   "source": [
    "Now that we've engineered all our features, we need to convert to input compatible with a neural network.\n",
    "\n",
    "This includes converting categorical variables into contiguous integers or one-hot encodings, normalizing continuous features to standard normal, etc..."
   ]
  },
  {
   "cell_type": "code",
   "execution_count": 65,
   "metadata": {
    "ExecuteTime": {
     "end_time": "2017-09-09T12:53:36.771411Z",
     "start_time": "2017-09-09T12:53:36.759311Z"
    },
    "tags": []
   },
   "outputs": [],
   "source": [
    "from sklearn_pandas import DataFrameMapper\n",
    "from sklearn.preprocessing import LabelEncoder, StandardScaler\n",
    "from sklearn.impute import SimpleImputer"
   ]
  },
  {
   "cell_type": "markdown",
   "metadata": {},
   "source": [
    "This dictionary maps categories to embedding dimensionality. In generally, categories we might expect to be conceptually more complex have larger dimension."
   ]
  },
  {
   "cell_type": "code",
   "execution_count": 66,
   "metadata": {
    "ExecuteTime": {
     "end_time": "2017-09-09T12:53:36.783653Z",
     "start_time": "2017-09-09T12:53:36.775980Z"
    },
    "tags": []
   },
   "outputs": [],
   "source": [
    "cat_var_dict = {'Store': 50, 'DayOfWeek': 6, 'Year': 2, 'Month': 6,\n",
    "'Day': 10, 'StateHoliday': 3, 'CompetitionMonthsOpen': 2,\n",
    "'Promo2Weeks': 1, 'StoreType': 2, 'Assortment': 3, 'PromoInterval': 3,\n",
    "'CompetitionOpenSinceYear': 4, 'Promo2SinceYear': 4, 'State': 6,\n",
    "'Week': 2, 'Events': 4, 'Promo_fw': 1,\n",
    "'Promo_bw': 1, 'StateHoliday_fw': 1,\n",
    "'StateHoliday_bw': 1, 'SchoolHoliday_fw': 1,\n",
    "'SchoolHoliday_bw': 1}"
   ]
  },
  {
   "cell_type": "markdown",
   "metadata": {},
   "source": [
    "Name categorical variables"
   ]
  },
  {
   "cell_type": "code",
   "execution_count": 67,
   "metadata": {
    "ExecuteTime": {
     "end_time": "2017-09-09T12:53:36.791955Z",
     "start_time": "2017-09-09T12:53:36.787912Z"
    },
    "tags": []
   },
   "outputs": [],
   "source": [
    "cat_vars = [o[0] for o in \n",
    "            sorted(cat_var_dict.items(), key=operator.itemgetter(1), reverse=True)]"
   ]
  },
  {
   "cell_type": "markdown",
   "metadata": {},
   "source": [
    "Likewise for continuous"
   ]
  },
  {
   "cell_type": "code",
   "execution_count": 68,
   "metadata": {
    "ExecuteTime": {
     "end_time": "2017-09-09T12:53:36.803411Z",
     "start_time": "2017-09-09T12:53:36.797476Z"
    },
    "tags": []
   },
   "outputs": [],
   "source": [
    "# mean/max wind; min temp; cloud; min/mean humid; \n",
    "contin_vars = ['CompetitionDistance', \n",
    "   'Max_TemperatureC', 'Mean_TemperatureC', 'Min_TemperatureC',\n",
    "   'Max_Humidity', 'Mean_Humidity', 'Min_Humidity', 'Max_Wind_SpeedKm_h', \n",
    "   'Mean_Wind_SpeedKm_h', 'CloudCover', 'trend', 'trend_DE',\n",
    "   'AfterStateHoliday', 'BeforeStateHoliday', 'Promo', 'SchoolHoliday']"
   ]
  },
  {
   "cell_type": "markdown",
   "metadata": {},
   "source": [
    "Replace nulls w/ 0 for continuous, \"\" for categorical."
   ]
  },
  {
   "cell_type": "code",
   "execution_count": 69,
   "metadata": {
    "ExecuteTime": {
     "end_time": "2017-09-09T12:53:40.183627Z",
     "start_time": "2017-09-09T12:53:36.807598Z"
    },
    "tags": []
   },
   "outputs": [],
   "source": [
    "for v in contin_vars: joined.loc[joined[v].isnull(), v] = 0\n",
    "for v in cat_vars: joined.loc[joined[v].isnull(), v] = \"\""
   ]
  },
  {
   "cell_type": "markdown",
   "metadata": {},
   "source": [
    "Here we create a list of tuples, each containing a variable and an instance of a transformer for that variable.\n",
    "\n",
    "For categoricals, we use a label encoder that maps categories to continuous integers. For continuous variables, we standardize them."
   ]
  },
  {
   "cell_type": "code",
   "execution_count": 70,
   "metadata": {
    "ExecuteTime": {
     "end_time": "2017-09-09T12:53:40.195634Z",
     "start_time": "2017-09-09T12:53:40.188549Z"
    },
    "tags": []
   },
   "outputs": [],
   "source": [
    "cat_maps = [(o, LabelEncoder()) for o in cat_vars]\n",
    "contin_maps = [([o], StandardScaler()) for o in contin_vars]"
   ]
  },
  {
   "cell_type": "markdown",
   "metadata": {},
   "source": [
    "The same instances need to be used for the test set as well, so values are mapped/standardized appropriately.\n",
    "\n",
    "DataFrame mapper will keep track of these variable-instance mappings."
   ]
  },
  {
   "cell_type": "code",
   "execution_count": 71,
   "metadata": {
    "ExecuteTime": {
     "end_time": "2017-09-09T12:53:44.299867Z",
     "start_time": "2017-09-09T12:53:40.200459Z"
    }
   },
   "outputs": [
    {
     "data": {
      "text/plain": [
       "22"
      ]
     },
     "execution_count": 71,
     "metadata": {},
     "output_type": "execute_result"
    }
   ],
   "source": [
    "cat_mapper = DataFrameMapper(cat_maps)\n",
    "cat_map_fit = cat_mapper.fit(joined)\n",
    "cat_cols = len(cat_map_fit.features)\n",
    "cat_cols"
   ]
  },
  {
   "cell_type": "code",
   "execution_count": 72,
   "metadata": {
    "ExecuteTime": {
     "end_time": "2017-09-09T12:53:44.427873Z",
     "start_time": "2017-09-09T12:53:44.303777Z"
    }
   },
   "outputs": [
    {
     "data": {
      "text/plain": [
       "16"
      ]
     },
     "execution_count": 72,
     "metadata": {},
     "output_type": "execute_result"
    }
   ],
   "source": [
    "contin_mapper = DataFrameMapper(contin_maps)\n",
    "contin_map_fit = contin_mapper.fit(joined)\n",
    "contin_cols = len(contin_map_fit.features)\n",
    "contin_cols"
   ]
  },
  {
   "cell_type": "markdown",
   "metadata": {},
   "source": [
    "Example of first five rows of zeroth column being transformed appropriately."
   ]
  },
  {
   "cell_type": "code",
   "execution_count": 73,
   "metadata": {
    "ExecuteTime": {
     "end_time": "2017-09-09T12:53:49.896223Z",
     "start_time": "2017-09-09T12:53:44.431083Z"
    }
   },
   "outputs": [
    {
     "data": {
      "text/plain": [
       "(array([ 0, 30,  4,  6,  4]),\n",
       " array([-0.53772351,  1.02444552,  0.81863226,  0.32504749,  0.61112004]))"
      ]
     },
     "execution_count": 73,
     "metadata": {},
     "output_type": "execute_result"
    }
   ],
   "source": [
    "cat_map_fit.transform(joined)[0,:5], contin_map_fit.transform(joined)[0,:5]"
   ]
  },
  {
   "cell_type": "markdown",
   "metadata": {},
   "source": [
    "We can also pickle these mappings, which is great for portability!"
   ]
  },
  {
   "cell_type": "code",
   "execution_count": 74,
   "metadata": {
    "ExecuteTime": {
     "end_time": "2017-09-09T12:53:49.912227Z",
     "start_time": "2017-09-09T12:53:49.900164Z"
    },
    "tags": []
   },
   "outputs": [],
   "source": [
    "pickle.dump(contin_map_fit, open('contin_maps.pickle', 'wb'))\n",
    "pickle.dump(cat_map_fit, open('cat_maps.pickle', 'wb'))"
   ]
  },
  {
   "cell_type": "code",
   "execution_count": 75,
   "metadata": {
    "ExecuteTime": {
     "end_time": "2017-09-09T12:53:49.924212Z",
     "start_time": "2017-09-09T12:53:49.916517Z"
    }
   },
   "outputs": [
    {
     "data": {
      "text/plain": [
       "[1115, 31, 7, 12, 12, 23, 8, 22, 2, 3, 4, 3, 25, 4, 52, 26, 6, 6, 3, 3, 8, 8]"
      ]
     },
     "execution_count": 75,
     "metadata": {},
     "output_type": "execute_result"
    }
   ],
   "source": [
    "[len(o[1].classes_) for o in cat_map_fit.features]"
   ]
  },
  {
   "cell_type": "markdown",
   "metadata": {},
   "source": [
    "## Sample data"
   ]
  },
  {
   "cell_type": "markdown",
   "metadata": {},
   "source": [
    "Next, the authors removed all instances where the store had zero sale / was closed."
   ]
  },
  {
   "cell_type": "code",
   "execution_count": 76,
   "metadata": {
    "ExecuteTime": {
     "end_time": "2017-09-09T12:53:50.152274Z",
     "start_time": "2017-09-09T12:53:49.928389Z"
    },
    "tags": []
   },
   "outputs": [],
   "source": [
    "joined_sales = joined[joined.Sales!=0]\n",
    "n = len(joined_sales)"
   ]
  },
  {
   "cell_type": "markdown",
   "metadata": {},
   "source": [
    "We speculate that this may have cost them a higher standing in the competition. One reason this may be the case is that a little EDA reveals that there are often periods where stores are closed, typically for refurbishment. Before and after these periods, there are naturally spikes in sales that one might expect. Be ommitting this data from their training, the authors gave up the ability to leverage information about these periods to predict this otherwise volatile behavior."
   ]
  },
  {
   "cell_type": "code",
   "execution_count": 77,
   "metadata": {
    "ExecuteTime": {
     "end_time": "2017-09-09T12:53:50.168232Z",
     "start_time": "2017-09-09T12:53:50.160980Z"
    }
   },
   "outputs": [
    {
     "data": {
      "text/plain": [
       "844338"
      ]
     },
     "execution_count": 77,
     "metadata": {},
     "output_type": "execute_result"
    }
   ],
   "source": [
    "n"
   ]
  },
  {
   "cell_type": "markdown",
   "metadata": {},
   "source": [
    "We're going to run on a sample."
   ]
  },
  {
   "cell_type": "code",
   "execution_count": 78,
   "metadata": {
    "ExecuteTime": {
     "end_time": "2017-09-09T12:53:50.272249Z",
     "start_time": "2017-09-09T12:53:50.171255Z"
    },
    "tags": []
   },
   "outputs": [],
   "source": [
    "samp_size = 100000\n",
    "np.random.seed(42)\n",
    "idxs = sorted(np.random.choice(n, samp_size, replace=False))"
   ]
  },
  {
   "cell_type": "code",
   "execution_count": 79,
   "metadata": {
    "ExecuteTime": {
     "end_time": "2017-09-09T12:53:50.340262Z",
     "start_time": "2017-09-09T12:53:50.276883Z"
    },
    "tags": []
   },
   "outputs": [],
   "source": [
    "joined_samp = joined_sales.iloc[idxs].set_index(\"Date\")"
   ]
  },
  {
   "cell_type": "code",
   "execution_count": 80,
   "metadata": {
    "ExecuteTime": {
     "end_time": "2017-09-09T12:53:50.476312Z",
     "start_time": "2017-09-09T12:53:50.344532Z"
    },
    "tags": []
   },
   "outputs": [],
   "source": [
    "samp_size = n\n",
    "joined_samp = joined_sales.set_index(\"Date\")"
   ]
  },
  {
   "cell_type": "markdown",
   "metadata": {},
   "source": [
    "In time series data, cross-validation is not random. Instead, our holdout data is always the most recent data, as it would be in real application."
   ]
  },
  {
   "cell_type": "markdown",
   "metadata": {},
   "source": [
    "We've taken the last 10% as our validation set."
   ]
  },
  {
   "cell_type": "code",
   "execution_count": 81,
   "metadata": {
    "ExecuteTime": {
     "end_time": "2017-09-09T12:53:50.484290Z",
     "start_time": "2017-09-09T12:53:50.480594Z"
    },
    "tags": []
   },
   "outputs": [],
   "source": [
    "train_ratio = 0.9\n",
    "train_size = int(samp_size * train_ratio)"
   ]
  },
  {
   "cell_type": "code",
   "execution_count": 82,
   "metadata": {
    "ExecuteTime": {
     "end_time": "2017-09-09T12:53:50.496245Z",
     "start_time": "2017-09-09T12:53:50.487720Z"
    }
   },
   "outputs": [
    {
     "data": {
      "text/plain": [
       "759904"
      ]
     },
     "execution_count": 82,
     "metadata": {},
     "output_type": "execute_result"
    }
   ],
   "source": [
    "train_size"
   ]
  },
  {
   "cell_type": "code",
   "execution_count": 83,
   "metadata": {
    "ExecuteTime": {
     "end_time": "2017-09-09T12:53:50.508272Z",
     "start_time": "2017-09-09T12:53:50.500196Z"
    }
   },
   "outputs": [
    {
     "data": {
      "text/plain": [
       "(84434, 759904)"
      ]
     },
     "execution_count": 83,
     "metadata": {},
     "output_type": "execute_result"
    }
   ],
   "source": [
    "joined_valid = joined_samp[train_size:]\n",
    "joined_train = joined_samp[:train_size]\n",
    "len(joined_valid), len(joined_train)"
   ]
  },
  {
   "cell_type": "markdown",
   "metadata": {},
   "source": [
    "Here's a preprocessor for our categoricals using our instance mapper."
   ]
  },
  {
   "cell_type": "code",
   "execution_count": 84,
   "metadata": {
    "ExecuteTime": {
     "end_time": "2017-09-09T12:53:50.516263Z",
     "start_time": "2017-09-09T12:53:50.511228Z"
    },
    "tags": []
   },
   "outputs": [],
   "source": [
    "def cat_preproc(dat):\n",
    "    return cat_map_fit.transform(dat).astype(np.int64)"
   ]
  },
  {
   "cell_type": "code",
   "execution_count": 85,
   "metadata": {
    "ExecuteTime": {
     "end_time": "2017-09-09T12:53:54.700529Z",
     "start_time": "2017-09-09T12:53:50.518755Z"
    },
    "tags": []
   },
   "outputs": [],
   "source": [
    "cat_map_train = cat_preproc(joined_train)\n",
    "cat_map_valid = cat_preproc(joined_valid)"
   ]
  },
  {
   "cell_type": "markdown",
   "metadata": {},
   "source": [
    "Same for continuous."
   ]
  },
  {
   "cell_type": "code",
   "execution_count": 86,
   "metadata": {
    "ExecuteTime": {
     "end_time": "2017-09-09T12:53:54.712514Z",
     "start_time": "2017-09-09T12:53:54.704867Z"
    },
    "tags": []
   },
   "outputs": [],
   "source": [
    "def contin_preproc(dat):\n",
    "    return contin_map_fit.transform(dat).astype(np.float32)"
   ]
  },
  {
   "cell_type": "code",
   "execution_count": 87,
   "metadata": {
    "ExecuteTime": {
     "end_time": "2017-09-09T12:53:54.940543Z",
     "start_time": "2017-09-09T12:53:54.716615Z"
    }
   },
   "outputs": [],
   "source": [
    "contin_map_train = contin_preproc(joined_train)\n",
    "contin_map_valid = contin_preproc(joined_valid)"
   ]
  },
  {
   "cell_type": "markdown",
   "metadata": {},
   "source": [
    "Grab our targets."
   ]
  },
  {
   "cell_type": "code",
   "execution_count": 88,
   "metadata": {
    "ExecuteTime": {
     "end_time": "2017-09-09T12:53:54.952549Z",
     "start_time": "2017-09-09T12:53:54.945841Z"
    },
    "tags": []
   },
   "outputs": [],
   "source": [
    "y_train_orig = joined_train.Sales\n",
    "y_valid_orig = joined_valid.Sales"
   ]
  },
  {
   "cell_type": "markdown",
   "metadata": {},
   "source": [
    "Finally, the authors modified the target values by applying a logarithmic transformation and normalizing to unit scale by dividing by the maximum log value.\n",
    "\n",
    "Log transformations are used on this type of data frequently to attain a nicer shape. \n",
    "\n",
    "Further by scaling to the unit interval we can now use a sigmoid output in our neural network. Then we can multiply by the maximum log value to get the original log value and transform back."
   ]
  },
  {
   "cell_type": "code",
   "execution_count": 89,
   "metadata": {
    "ExecuteTime": {
     "end_time": "2017-09-09T12:53:55.016541Z",
     "start_time": "2017-09-09T12:53:54.957108Z"
    },
    "tags": []
   },
   "outputs": [],
   "source": [
    "max_log_y = np.max(np.log(joined_samp.Sales))\n",
    "y_train = np.log(y_train_orig)/max_log_y\n",
    "y_valid = np.log(y_valid_orig)/max_log_y"
   ]
  },
  {
   "cell_type": "markdown",
   "metadata": {},
   "source": [
    "Note: Some testing shows this doesn't make a big difference."
   ]
  },
  {
   "cell_type": "markdown",
   "metadata": {},
   "source": [
    "Root-mean-squared percent error is the metric Kaggle used for this competition."
   ]
  },
  {
   "cell_type": "markdown",
   "metadata": {},
   "source": [
    "These undo the target transformations."
   ]
  },
  {
   "cell_type": "markdown",
   "metadata": {},
   "source": [
    "## Create models"
   ]
  },
  {
   "cell_type": "markdown",
   "metadata": {},
   "source": [
    "Now we're ready to put together our models."
   ]
  },
  {
   "cell_type": "code",
   "execution_count": 90,
   "metadata": {
    "ExecuteTime": {
     "end_time": "2017-09-09T12:53:55.024522Z",
     "start_time": "2017-09-09T12:53:55.020826Z"
    },
    "tags": []
   },
   "outputs": [],
   "source": [
    "def split_cols(arr): return np.hsplit(arr,arr.shape[1])"
   ]
  },
  {
   "cell_type": "code",
   "execution_count": 91,
   "metadata": {
    "ExecuteTime": {
     "end_time": "2017-09-09T12:53:55.032524Z",
     "start_time": "2017-09-09T12:53:55.028651Z"
    },
    "tags": []
   },
   "outputs": [],
   "source": [
    "map_train = split_cols(cat_map_train) + [contin_map_train]\n",
    "map_valid = split_cols(cat_map_valid) + [contin_map_valid]"
   ]
  },
  {
   "cell_type": "markdown",
   "metadata": {},
   "source": [
    "Helper function for getting categorical name and dim."
   ]
  },
  {
   "cell_type": "code",
   "execution_count": 92,
   "metadata": {
    "ExecuteTime": {
     "end_time": "2017-09-09T12:53:55.040525Z",
     "start_time": "2017-09-09T12:53:55.036612Z"
    },
    "scrolled": true,
    "tags": []
   },
   "outputs": [],
   "source": [
    "def cat_map_info(feat): return feat[0], len(feat[1].classes_)"
   ]
  },
  {
   "cell_type": "markdown",
   "metadata": {},
   "source": [
    "For example the dimension of the feature `Day` is 31: "
   ]
  },
  {
   "cell_type": "code",
   "execution_count": 93,
   "metadata": {
    "ExecuteTime": {
     "end_time": "2017-09-09T12:53:55.056542Z",
     "start_time": "2017-09-09T12:53:55.043506Z"
    }
   },
   "outputs": [
    {
     "data": {
      "text/plain": [
       "('Day', 31)"
      ]
     },
     "execution_count": 93,
     "metadata": {},
     "output_type": "execute_result"
    }
   ],
   "source": [
    "cat_map_info(cat_map_fit.features[1])"
   ]
  },
  {
   "cell_type": "code",
   "execution_count": 94,
   "metadata": {
    "ExecuteTime": {
     "end_time": "2017-09-09T12:53:55.064684Z",
     "start_time": "2017-09-09T12:53:55.058976Z"
    },
    "tags": []
   },
   "outputs": [],
   "source": [
    "def my_init(scale):\n",
    "    return lambda shape, name=None: initializations.uniform(shape, scale=scale, name=name)"
   ]
  },
  {
   "cell_type": "code",
   "execution_count": 95,
   "metadata": {
    "ExecuteTime": {
     "end_time": "2017-09-09T12:53:55.072527Z",
     "start_time": "2017-09-09T12:53:55.067237Z"
    },
    "tags": []
   },
   "outputs": [],
   "source": [
    "def emb_init(shape, name=None): \n",
    "    return initializations.uniform()"
   ]
  },
  {
   "cell_type": "markdown",
   "metadata": {},
   "source": [
    "Helper function for constructing embeddings.\n",
    "\n",
    "Also, note we're flattening the embedding. Embeddings in Keras come out as an element of a sequence like we might use in a sequence of words; here we just want to concatenate them so we flatten the 1-vector sequence into a vector."
   ]
  },
  {
   "cell_type": "code",
   "execution_count": 96,
   "metadata": {
    "ExecuteTime": {
     "end_time": "2017-09-09T12:53:55.084532Z",
     "start_time": "2017-09-09T12:53:55.074923Z"
    },
    "tags": []
   },
   "outputs": [],
   "source": [
    "def get_emb(feat):\n",
    "    name, c = cat_map_info(feat)\n",
    "    c2 = (c+1)//2\n",
    "    if c2>50: c2=50\n",
    "    inp = Input((1,), dtype='int64', name=name+'_in')\n",
    "    u = Flatten(name=name+'_flt')(Embedding(c, c2, input_length=1)(inp))\n",
    "    return inp,u"
   ]
  },
  {
   "cell_type": "markdown",
   "metadata": {},
   "source": [
    "Helper function for continuous inputs."
   ]
  },
  {
   "cell_type": "code",
   "execution_count": 97,
   "metadata": {
    "ExecuteTime": {
     "end_time": "2017-09-09T12:53:55.096565Z",
     "start_time": "2017-09-09T12:53:55.088961Z"
    },
    "tags": []
   },
   "outputs": [],
   "source": [
    "def get_contin(feat):\n",
    "    name = feat[0][0]\n",
    "    inp = Input((1,), name=name+'_in')\n",
    "    return inp, Dense(1, name=name+'_d', init=my_init(1.))(inp)"
   ]
  },
  {
   "cell_type": "markdown",
   "metadata": {},
   "source": [
    "Let's build them."
   ]
  },
  {
   "cell_type": "code",
   "execution_count": 109,
   "metadata": {},
   "outputs": [],
   "source": [
    "from keras.layers import Input, Dense, Flatten, Embedding, Dropout, Concatenate\n",
    "from keras import initializers as initializations\n",
    "from keras.models import Model"
   ]
  },
  {
   "cell_type": "code",
   "execution_count": 101,
   "metadata": {
    "ExecuteTime": {
     "end_time": "2017-09-09T12:53:55.128559Z",
     "start_time": "2017-09-09T12:53:55.100545Z"
    },
    "tags": []
   },
   "outputs": [],
   "source": [
    "contin_inp = Input((contin_cols,), name='contin')\n",
    "contin_out = Dense(contin_cols*10, activation='relu', name='contin_d')(contin_inp)"
   ]
  },
  {
   "cell_type": "markdown",
   "metadata": {},
   "source": [
    "Now we can put them together. Given the inputs, continuous and categorical embeddings, we're going to concatenate all of them.\n",
    "\n",
    "Next, we're going to pass through some dropout, then two dense layers w/ ReLU activations, then dropout again, then the sigmoid activation we mentioned earlier."
   ]
  },
  {
   "cell_type": "code",
   "execution_count": 102,
   "metadata": {
    "ExecuteTime": {
     "end_time": "2017-09-09T12:53:55.136533Z",
     "start_time": "2017-09-09T12:53:55.132852Z"
    },
    "tags": []
   },
   "outputs": [],
   "source": [
    "def root_mean_squared_error(y_true, y_pred):\n",
    "    return K.sqrt(K.mean(K.square(y_pred - y_true), axis=-1))"
   ]
  },
  {
   "cell_type": "code",
   "execution_count": 103,
   "metadata": {},
   "outputs": [
    {
     "data": {
      "text/plain": [
       "[('Store', LabelEncoder()),\n",
       " ('Day', LabelEncoder()),\n",
       " ('DayOfWeek', LabelEncoder()),\n",
       " ('Month', LabelEncoder()),\n",
       " ('State', LabelEncoder()),\n",
       " ('CompetitionOpenSinceYear', LabelEncoder()),\n",
       " ('Promo2SinceYear', LabelEncoder()),\n",
       " ('Events', LabelEncoder()),\n",
       " ('StateHoliday', LabelEncoder()),\n",
       " ('Assortment', LabelEncoder()),\n",
       " ('PromoInterval', LabelEncoder()),\n",
       " ('Year', LabelEncoder()),\n",
       " ('CompetitionMonthsOpen', LabelEncoder()),\n",
       " ('StoreType', LabelEncoder()),\n",
       " ('Week', LabelEncoder()),\n",
       " ('Promo2Weeks', LabelEncoder()),\n",
       " ('Promo_fw', LabelEncoder()),\n",
       " ('Promo_bw', LabelEncoder()),\n",
       " ('StateHoliday_fw', LabelEncoder()),\n",
       " ('StateHoliday_bw', LabelEncoder()),\n",
       " ('SchoolHoliday_fw', LabelEncoder()),\n",
       " ('SchoolHoliday_bw', LabelEncoder())]"
      ]
     },
     "execution_count": 103,
     "metadata": {},
     "output_type": "execute_result"
    }
   ],
   "source": [
    "cat_map_fit.features"
   ]
  },
  {
   "cell_type": "code",
   "execution_count": 110,
   "metadata": {
    "ExecuteTime": {
     "end_time": "2017-09-09T12:53:55.416551Z",
     "start_time": "2017-09-09T12:53:55.141454Z"
    },
    "tags": []
   },
   "outputs": [],
   "source": [
    "embs = [get_emb(feat) for feat in cat_map_fit.features]\n",
    "x = Concatenate()([emb for inp,emb in embs] + [contin_out])\n",
    "x = Dropout(0.02)(x)\n",
    "x = Dense(1000, activation='relu', kernel_initializer='uniform')(x)\n",
    "x = Dense(500, activation='relu', kernel_initializer='uniform')(x)\n",
    "x = Dropout(0.2)(x)\n",
    "x = Dense(1, activation='sigmoid')(x)\n",
    "\n",
    "model = Model([inp for inp,emb in embs] + [contin_inp], x)\n",
    "# model.compile(optimizer = \"adam\", loss = 'mean_squared_error')\n",
    "model.compile(optimizer = \"adam\", loss = 'mean_absolute_error')"
   ]
  },
  {
   "cell_type": "code",
   "execution_count": 111,
   "metadata": {},
   "outputs": [
    {
     "name": "stdout",
     "output_type": "stream",
     "text": [
      "Model: \"model\"\n",
      "__________________________________________________________________________________________________\n",
      " Layer (type)                   Output Shape         Param #     Connected to                     \n",
      "==================================================================================================\n",
      " Store_in (InputLayer)          [(None, 1)]          0           []                               \n",
      "                                                                                                  \n",
      " Day_in (InputLayer)            [(None, 1)]          0           []                               \n",
      "                                                                                                  \n",
      " DayOfWeek_in (InputLayer)      [(None, 1)]          0           []                               \n",
      "                                                                                                  \n",
      " Month_in (InputLayer)          [(None, 1)]          0           []                               \n",
      "                                                                                                  \n",
      " State_in (InputLayer)          [(None, 1)]          0           []                               \n",
      "                                                                                                  \n",
      " CompetitionOpenSinceYear_in (I  [(None, 1)]         0           []                               \n",
      " nputLayer)                                                                                       \n",
      "                                                                                                  \n",
      " Promo2SinceYear_in (InputLayer  [(None, 1)]         0           []                               \n",
      " )                                                                                                \n",
      "                                                                                                  \n",
      " Events_in (InputLayer)         [(None, 1)]          0           []                               \n",
      "                                                                                                  \n",
      " StateHoliday_in (InputLayer)   [(None, 1)]          0           []                               \n",
      "                                                                                                  \n",
      " Assortment_in (InputLayer)     [(None, 1)]          0           []                               \n",
      "                                                                                                  \n",
      " PromoInterval_in (InputLayer)  [(None, 1)]          0           []                               \n",
      "                                                                                                  \n",
      " Year_in (InputLayer)           [(None, 1)]          0           []                               \n",
      "                                                                                                  \n",
      " CompetitionMonthsOpen_in (Inpu  [(None, 1)]         0           []                               \n",
      " tLayer)                                                                                          \n",
      "                                                                                                  \n",
      " StoreType_in (InputLayer)      [(None, 1)]          0           []                               \n",
      "                                                                                                  \n",
      " Week_in (InputLayer)           [(None, 1)]          0           []                               \n",
      "                                                                                                  \n",
      " Promo2Weeks_in (InputLayer)    [(None, 1)]          0           []                               \n",
      "                                                                                                  \n",
      " Promo_fw_in (InputLayer)       [(None, 1)]          0           []                               \n",
      "                                                                                                  \n",
      " Promo_bw_in (InputLayer)       [(None, 1)]          0           []                               \n",
      "                                                                                                  \n",
      " StateHoliday_fw_in (InputLayer  [(None, 1)]         0           []                               \n",
      " )                                                                                                \n",
      "                                                                                                  \n",
      " StateHoliday_bw_in (InputLayer  [(None, 1)]         0           []                               \n",
      " )                                                                                                \n",
      "                                                                                                  \n",
      " SchoolHoliday_fw_in (InputLaye  [(None, 1)]         0           []                               \n",
      " r)                                                                                               \n",
      "                                                                                                  \n",
      " SchoolHoliday_bw_in (InputLaye  [(None, 1)]         0           []                               \n",
      " r)                                                                                               \n",
      "                                                                                                  \n",
      " embedding_44 (Embedding)       (None, 1, 50)        55750       ['Store_in[0][0]']               \n",
      "                                                                                                  \n",
      " embedding_45 (Embedding)       (None, 1, 16)        496         ['Day_in[0][0]']                 \n",
      "                                                                                                  \n",
      " embedding_46 (Embedding)       (None, 1, 4)         28          ['DayOfWeek_in[0][0]']           \n",
      "                                                                                                  \n",
      " embedding_47 (Embedding)       (None, 1, 6)         72          ['Month_in[0][0]']               \n",
      "                                                                                                  \n",
      " embedding_48 (Embedding)       (None, 1, 6)         72          ['State_in[0][0]']               \n",
      "                                                                                                  \n",
      " embedding_49 (Embedding)       (None, 1, 12)        276         ['CompetitionOpenSinceYear_in[0][\n",
      "                                                                 0]']                             \n",
      "                                                                                                  \n",
      " embedding_50 (Embedding)       (None, 1, 4)         32          ['Promo2SinceYear_in[0][0]']     \n",
      "                                                                                                  \n",
      " embedding_51 (Embedding)       (None, 1, 11)        242         ['Events_in[0][0]']              \n",
      "                                                                                                  \n",
      " embedding_52 (Embedding)       (None, 1, 1)         2           ['StateHoliday_in[0][0]']        \n",
      "                                                                                                  \n",
      " embedding_53 (Embedding)       (None, 1, 2)         6           ['Assortment_in[0][0]']          \n",
      "                                                                                                  \n",
      " embedding_54 (Embedding)       (None, 1, 2)         8           ['PromoInterval_in[0][0]']       \n",
      "                                                                                                  \n",
      " embedding_55 (Embedding)       (None, 1, 2)         6           ['Year_in[0][0]']                \n",
      "                                                                                                  \n",
      " embedding_56 (Embedding)       (None, 1, 13)        325         ['CompetitionMonthsOpen_in[0][0]'\n",
      "                                                                 ]                                \n",
      "                                                                                                  \n",
      " embedding_57 (Embedding)       (None, 1, 2)         8           ['StoreType_in[0][0]']           \n",
      "                                                                                                  \n",
      " embedding_58 (Embedding)       (None, 1, 26)        1352        ['Week_in[0][0]']                \n",
      "                                                                                                  \n",
      " embedding_59 (Embedding)       (None, 1, 13)        338         ['Promo2Weeks_in[0][0]']         \n",
      "                                                                                                  \n",
      " embedding_60 (Embedding)       (None, 1, 3)         18          ['Promo_fw_in[0][0]']            \n",
      "                                                                                                  \n",
      " embedding_61 (Embedding)       (None, 1, 3)         18          ['Promo_bw_in[0][0]']            \n",
      "                                                                                                  \n",
      " embedding_62 (Embedding)       (None, 1, 2)         6           ['StateHoliday_fw_in[0][0]']     \n",
      "                                                                                                  \n",
      " embedding_63 (Embedding)       (None, 1, 2)         6           ['StateHoliday_bw_in[0][0]']     \n",
      "                                                                                                  \n",
      " embedding_64 (Embedding)       (None, 1, 4)         32          ['SchoolHoliday_fw_in[0][0]']    \n",
      "                                                                                                  \n",
      " embedding_65 (Embedding)       (None, 1, 4)         32          ['SchoolHoliday_bw_in[0][0]']    \n",
      "                                                                                                  \n",
      " contin (InputLayer)            [(None, 16)]         0           []                               \n",
      "                                                                                                  \n",
      " Store_flt (Flatten)            (None, 50)           0           ['embedding_44[0][0]']           \n",
      "                                                                                                  \n",
      " Day_flt (Flatten)              (None, 16)           0           ['embedding_45[0][0]']           \n",
      "                                                                                                  \n",
      " DayOfWeek_flt (Flatten)        (None, 4)            0           ['embedding_46[0][0]']           \n",
      "                                                                                                  \n",
      " Month_flt (Flatten)            (None, 6)            0           ['embedding_47[0][0]']           \n",
      "                                                                                                  \n",
      " State_flt (Flatten)            (None, 6)            0           ['embedding_48[0][0]']           \n",
      "                                                                                                  \n",
      " CompetitionOpenSinceYear_flt (  (None, 12)          0           ['embedding_49[0][0]']           \n",
      " Flatten)                                                                                         \n",
      "                                                                                                  \n",
      " Promo2SinceYear_flt (Flatten)  (None, 4)            0           ['embedding_50[0][0]']           \n",
      "                                                                                                  \n",
      " Events_flt (Flatten)           (None, 11)           0           ['embedding_51[0][0]']           \n",
      "                                                                                                  \n",
      " StateHoliday_flt (Flatten)     (None, 1)            0           ['embedding_52[0][0]']           \n",
      "                                                                                                  \n",
      " Assortment_flt (Flatten)       (None, 2)            0           ['embedding_53[0][0]']           \n",
      "                                                                                                  \n",
      " PromoInterval_flt (Flatten)    (None, 2)            0           ['embedding_54[0][0]']           \n",
      "                                                                                                  \n",
      " Year_flt (Flatten)             (None, 2)            0           ['embedding_55[0][0]']           \n",
      "                                                                                                  \n",
      " CompetitionMonthsOpen_flt (Fla  (None, 13)          0           ['embedding_56[0][0]']           \n",
      " tten)                                                                                            \n",
      "                                                                                                  \n",
      " StoreType_flt (Flatten)        (None, 2)            0           ['embedding_57[0][0]']           \n",
      "                                                                                                  \n",
      " Week_flt (Flatten)             (None, 26)           0           ['embedding_58[0][0]']           \n",
      "                                                                                                  \n",
      " Promo2Weeks_flt (Flatten)      (None, 13)           0           ['embedding_59[0][0]']           \n",
      "                                                                                                  \n",
      " Promo_fw_flt (Flatten)         (None, 3)            0           ['embedding_60[0][0]']           \n",
      "                                                                                                  \n",
      " Promo_bw_flt (Flatten)         (None, 3)            0           ['embedding_61[0][0]']           \n",
      "                                                                                                  \n",
      " StateHoliday_fw_flt (Flatten)  (None, 2)            0           ['embedding_62[0][0]']           \n",
      "                                                                                                  \n",
      " StateHoliday_bw_flt (Flatten)  (None, 2)            0           ['embedding_63[0][0]']           \n",
      "                                                                                                  \n",
      " SchoolHoliday_fw_flt (Flatten)  (None, 4)           0           ['embedding_64[0][0]']           \n",
      "                                                                                                  \n",
      " SchoolHoliday_bw_flt (Flatten)  (None, 4)           0           ['embedding_65[0][0]']           \n",
      "                                                                                                  \n",
      " contin_d (Dense)               (None, 160)          2720        ['contin[0][0]']                 \n",
      "                                                                                                  \n",
      " concatenate (Concatenate)      (None, 348)          0           ['Store_flt[0][0]',              \n",
      "                                                                  'Day_flt[0][0]',                \n",
      "                                                                  'DayOfWeek_flt[0][0]',          \n",
      "                                                                  'Month_flt[0][0]',              \n",
      "                                                                  'State_flt[0][0]',              \n",
      "                                                                  'CompetitionOpenSinceYear_flt[0]\n",
      "                                                                 [0]',                            \n",
      "                                                                  'Promo2SinceYear_flt[0][0]',    \n",
      "                                                                  'Events_flt[0][0]',             \n",
      "                                                                  'StateHoliday_flt[0][0]',       \n",
      "                                                                  'Assortment_flt[0][0]',         \n",
      "                                                                  'PromoInterval_flt[0][0]',      \n",
      "                                                                  'Year_flt[0][0]',               \n",
      "                                                                  'CompetitionMonthsOpen_flt[0][0]\n",
      "                                                                 ',                               \n",
      "                                                                  'StoreType_flt[0][0]',          \n",
      "                                                                  'Week_flt[0][0]',               \n",
      "                                                                  'Promo2Weeks_flt[0][0]',        \n",
      "                                                                  'Promo_fw_flt[0][0]',           \n",
      "                                                                  'Promo_bw_flt[0][0]',           \n",
      "                                                                  'StateHoliday_fw_flt[0][0]',    \n",
      "                                                                  'StateHoliday_bw_flt[0][0]',    \n",
      "                                                                  'SchoolHoliday_fw_flt[0][0]',   \n",
      "                                                                  'SchoolHoliday_bw_flt[0][0]',   \n",
      "                                                                  'contin_d[0][0]']               \n",
      "                                                                                                  \n",
      " dropout (Dropout)              (None, 348)          0           ['concatenate[0][0]']            \n",
      "                                                                                                  \n",
      " dense (Dense)                  (None, 1000)         349000      ['dropout[0][0]']                \n",
      "                                                                                                  \n",
      " dense_1 (Dense)                (None, 500)          500500      ['dense[0][0]']                  \n",
      "                                                                                                  \n",
      " dropout_1 (Dropout)            (None, 500)          0           ['dense_1[0][0]']                \n",
      "                                                                                                  \n",
      " dense_2 (Dense)                (None, 1)            501         ['dropout_1[0][0]']              \n",
      "                                                                                                  \n",
      "==================================================================================================\n",
      "Total params: 911,846\n",
      "Trainable params: 911,846\n",
      "Non-trainable params: 0\n",
      "__________________________________________________________________________________________________\n"
     ]
    }
   ],
   "source": [
    "model.summary()"
   ]
  },
  {
   "cell_type": "markdown",
   "metadata": {},
   "source": [
    "## Start training"
   ]
  },
  {
   "cell_type": "code",
   "execution_count": 112,
   "metadata": {
    "ExecuteTime": {
     "end_time": "2017-09-09T13:35:54.319408Z",
     "start_time": "2017-09-09T12:53:55.421172Z"
    }
   },
   "outputs": [
    {
     "name": "stdout",
     "output_type": "stream",
     "text": [
      "Epoch 1/25\n",
      "5937/5937 [==============================] - 120s 20ms/step - loss: 0.0117 - val_loss: 0.0107\n",
      "Epoch 2/25\n",
      "5937/5937 [==============================] - 118s 20ms/step - loss: 0.0082 - val_loss: 0.0103\n",
      "Epoch 3/25\n",
      "5937/5937 [==============================] - 113s 19ms/step - loss: 0.0071 - val_loss: 0.0100\n",
      "Epoch 4/25\n",
      "5937/5937 [==============================] - 118s 20ms/step - loss: 0.0067 - val_loss: 0.0098\n",
      "Epoch 5/25\n",
      "5937/5937 [==============================] - 115s 19ms/step - loss: 0.0065 - val_loss: 0.0096\n",
      "Epoch 6/25\n",
      "5937/5937 [==============================] - 117s 20ms/step - loss: 0.0064 - val_loss: 0.0095\n",
      "Epoch 7/25\n",
      "5937/5937 [==============================] - 118s 20ms/step - loss: 0.0063 - val_loss: 0.0096\n",
      "Epoch 8/25\n",
      "5937/5937 [==============================] - 121s 20ms/step - loss: 0.0062 - val_loss: 0.0096\n",
      "Epoch 9/25\n",
      "5937/5937 [==============================] - 120s 20ms/step - loss: 0.0062 - val_loss: 0.0095\n",
      "Epoch 10/25\n",
      "5937/5937 [==============================] - 121s 20ms/step - loss: 0.0061 - val_loss: 0.0095\n",
      "Epoch 11/25\n",
      "5937/5937 [==============================] - 132s 22ms/step - loss: 0.0061 - val_loss: 0.0099\n",
      "Epoch 12/25\n",
      "5937/5937 [==============================] - 127s 21ms/step - loss: 0.0060 - val_loss: 0.0098\n",
      "Epoch 13/25\n",
      "5937/5937 [==============================] - 124s 21ms/step - loss: 0.0060 - val_loss: 0.0094\n",
      "Epoch 14/25\n",
      "5937/5937 [==============================] - 123s 21ms/step - loss: 0.0060 - val_loss: 0.0096\n",
      "Epoch 15/25\n",
      "5937/5937 [==============================] - 120s 20ms/step - loss: 0.0059 - val_loss: 0.0094\n",
      "Epoch 16/25\n",
      "5937/5937 [==============================] - 108s 18ms/step - loss: 0.0059 - val_loss: 0.0095\n",
      "Epoch 17/25\n",
      "5937/5937 [==============================] - 120s 20ms/step - loss: 0.0059 - val_loss: 0.0095\n",
      "Epoch 18/25\n",
      "5937/5937 [==============================] - 122s 21ms/step - loss: 0.0059 - val_loss: 0.0095\n",
      "Epoch 19/25\n",
      "5937/5937 [==============================] - 119s 20ms/step - loss: 0.0059 - val_loss: 0.0094\n",
      "Epoch 20/25\n",
      "5937/5937 [==============================] - 121s 20ms/step - loss: 0.0059 - val_loss: 0.0095\n",
      "Epoch 21/25\n",
      "5937/5937 [==============================] - 121s 20ms/step - loss: 0.0058 - val_loss: 0.0096\n",
      "Epoch 22/25\n",
      "5937/5937 [==============================] - 122s 21ms/step - loss: 0.0058 - val_loss: 0.0097\n",
      "Epoch 23/25\n",
      "5937/5937 [==============================] - 122s 21ms/step - loss: 0.0058 - val_loss: 0.0100\n",
      "Epoch 24/25\n",
      "5937/5937 [==============================] - 123s 21ms/step - loss: 0.0058 - val_loss: 0.0098\n",
      "Epoch 25/25\n",
      "5937/5937 [==============================] - 121s 20ms/step - loss: 0.0058 - val_loss: 0.0096\n"
     ]
    }
   ],
   "source": [
    "hist = model.fit(map_train, y_train, batch_size=128, epochs=25,\n",
    "                 verbose=1, validation_data=(map_valid, y_valid))"
   ]
  },
  {
   "cell_type": "code",
   "execution_count": 113,
   "metadata": {},
   "outputs": [],
   "source": [
    "model.save_weights('trained_weights.hdf5')"
   ]
  },
  {
   "cell_type": "code",
   "execution_count": 114,
   "metadata": {
    "ExecuteTime": {
     "end_time": "2017-09-09T13:35:54.331401Z",
     "start_time": "2017-09-09T13:35:54.323830Z"
    }
   },
   "outputs": [
    {
     "data": {
      "text/plain": [
       "{'loss': [0.011689024046063423,\n",
       "  0.008150003850460052,\n",
       "  0.007141503505408764,\n",
       "  0.006744674406945705,\n",
       "  0.006533879321068525,\n",
       "  0.006392298731952906,\n",
       "  0.006280324887484312,\n",
       "  0.006218947470188141,\n",
       "  0.006150013767182827,\n",
       "  0.006114440504461527,\n",
       "  0.006063218228518963,\n",
       "  0.0060280398465693,\n",
       "  0.005996889900416136,\n",
       "  0.005974689964205027,\n",
       "  0.005946272984147072,\n",
       "  0.00592744629830122,\n",
       "  0.005903883371502161,\n",
       "  0.005883190780878067,\n",
       "  0.005867414642125368,\n",
       "  0.005850456189364195,\n",
       "  0.005841150879859924,\n",
       "  0.005819554440677166,\n",
       "  0.005812728777527809,\n",
       "  0.00580178014934063,\n",
       "  0.005786882247775793],\n",
       " 'val_loss': [0.010729927569627762,\n",
       "  0.010338309220969677,\n",
       "  0.009961570613086224,\n",
       "  0.009812661446630955,\n",
       "  0.009647778235375881,\n",
       "  0.009540919214487076,\n",
       "  0.009606736712157726,\n",
       "  0.00960568431764841,\n",
       "  0.009488014504313469,\n",
       "  0.009468852542340755,\n",
       "  0.009883826598525047,\n",
       "  0.009757529944181442,\n",
       "  0.009432388469576836,\n",
       "  0.00958559662103653,\n",
       "  0.00936491135507822,\n",
       "  0.009486895985901356,\n",
       "  0.009515216574072838,\n",
       "  0.009545986540615559,\n",
       "  0.009355059824883938,\n",
       "  0.009478733874857426,\n",
       "  0.009640109725296497,\n",
       "  0.009652389213442802,\n",
       "  0.010043665766716003,\n",
       "  0.009838233701884747,\n",
       "  0.00957079604268074]}"
      ]
     },
     "execution_count": 114,
     "metadata": {},
     "output_type": "execute_result"
    }
   ],
   "source": [
    "hist.history"
   ]
  },
  {
   "cell_type": "code",
   "execution_count": 115,
   "metadata": {
    "ExecuteTime": {
     "end_time": "2017-09-09T13:35:54.475406Z",
     "start_time": "2017-09-09T13:35:54.335462Z"
    }
   },
   "outputs": [
    {
     "data": {
      "text/plain": [
       "[<matplotlib.lines.Line2D at 0x7f1e8e100760>]"
      ]
     },
     "execution_count": 115,
     "metadata": {},
     "output_type": "execute_result"
    },
    {
     "data": {
      "image/png": "[encoded data removed]",
      "text/plain": [
       "<Figure size 640x480 with 1 Axes>"
      ]
     },
     "metadata": {},
     "output_type": "display_data"
    }
   ],
   "source": [
    "plt.plot(hist.history['val_loss'])\n",
    "plt.plot(hist.history['loss'])"
   ]
  },
  {
   "cell_type": "code",
   "execution_count": 116,
   "metadata": {
    "ExecuteTime": {
     "end_time": "2017-09-09T13:35:55.215709Z",
     "start_time": "2017-09-09T13:35:54.478862Z"
    }
   },
   "outputs": [
    {
     "name": "stdout",
     "output_type": "stream",
     "text": [
      "83/83 [==============================] - 1s 10ms/step\n"
     ]
    }
   ],
   "source": [
    "preds = np.squeeze(model.predict(map_valid, 1024, verbose=1))"
   ]
  },
  {
   "cell_type": "code",
   "execution_count": 117,
   "metadata": {
    "ExecuteTime": {
     "end_time": "2017-09-09T13:35:55.227457Z",
     "start_time": "2017-09-09T13:35:55.220149Z"
    },
    "scrolled": true,
    "tags": []
   },
   "outputs": [],
   "source": [
    "def log_max_inv(preds, mx = max_log_y):\n",
    "    return np.exp(preds * mx)"
   ]
  },
  {
   "cell_type": "code",
   "execution_count": 118,
   "metadata": {
    "ExecuteTime": {
     "end_time": "2017-09-09T13:35:55.259467Z",
     "start_time": "2017-09-09T13:35:55.231530Z"
    }
   },
   "outputs": [
    {
     "name": "stdout",
     "output_type": "stream",
     "text": [
      "6904.5986\n",
      "7955.999999999996\n",
      "0.13215200693658835\n"
     ]
    }
   ],
   "source": [
    "print(log_max_inv(preds, max_log_y)[0])\n",
    "print(log_max_inv(y_valid, max_log_y)[0])\n",
    "print(math.sqrt(np.square(((log_max_inv(preds, max_log_y)[0] - log_max_inv(y_valid, max_log_y)[0])/log_max_inv(y_valid, max_log_y)[0]).mean())))"
   ]
  },
  {
   "cell_type": "code",
   "execution_count": 119,
   "metadata": {
    "ExecuteTime": {
     "end_time": "2017-09-09T13:35:55.271594Z",
     "start_time": "2017-09-09T13:35:55.263430Z"
    }
   },
   "outputs": [
    {
     "name": "stdout",
     "output_type": "stream",
     "text": [
      "[ 6904.5986  8455.182   4868.353   7101.9727  5844.2075  5074.5054\n",
      "  6203.9805  7501.7925  4799.2705  6216.922   8962.473   7156.4043\n",
      "  6461.95    5026.816   6825.746   4972.432   8097.5996  4636.6953\n",
      "  3540.664   6104.018  ...  5945.34   20099.94    4835.0024  6196.4297\n",
      "  9939.606  30965.137   5735.8125  3685.6848  4823.3364  9966.374\n",
      "  4088.5576  4173.4263  4130.465  14707.085   6593.191   4503.1045\n",
      " 13023.94    6542.8433  5723.4478  7421.086 ]\n"
     ]
    }
   ],
   "source": [
    "preds_log_max_inv = log_max_inv(preds, max_log_y)\n",
    "print(preds_log_max_inv)"
   ]
  },
  {
   "cell_type": "code",
   "execution_count": 120,
   "metadata": {
    "ExecuteTime": {
     "end_time": "2017-09-09T13:35:55.283477Z",
     "start_time": "2017-09-09T13:35:55.275569Z"
    }
   },
   "outputs": [
    {
     "name": "stdout",
     "output_type": "stream",
     "text": [
      "[ 7956.  8958.  4676.  6913.  6157.  5010.  6723.  8033.  5196.  6413.\n",
      " 10012.  6619.  6806.  4765.  6973.  5080. 11710.  5088.  3612.  6362. ...\n",
      "  6218. 20642.  3697.  4220.  6851. 17267.  3102.  2401.  3139.  9643.\n",
      "  3113.  2646.  2907.  8498.  3821.  3375. 10765.  5035.  4491.  5961.]\n"
     ]
    }
   ],
   "source": [
    "y_valid_array =  log_max_inv(np.array(y_valid), max_log_y)\n",
    "print(y_valid_array)"
   ]
  },
  {
   "cell_type": "code",
   "execution_count": 121,
   "metadata": {
    "ExecuteTime": {
     "end_time": "2017-09-09T13:35:55.295476Z",
     "start_time": "2017-09-09T13:35:55.287400Z"
    }
   },
   "outputs": [
    {
     "name": "stdout",
     "output_type": "stream",
     "text": [
      "0.2185701248958492\n"
     ]
    }
   ],
   "source": [
    "print(sqrt(mean(square((preds_log_max_inv - y_valid_array)/y_valid_array))))"
   ]
  }
 ],
 "metadata": {
  "anaconda-cloud": {},
  "hide_input": false,
  "kernelspec": {
   "display_name": "Python 3 (ipykernel)",
   "language": "python",
   "name": "python3"
  },
  "language_info": {
   "codemirror_mode": {
    "name": "ipython",
    "version": 3
   },
   "file_extension": ".py",
   "mimetype": "text/x-python",
   "name": "python",
   "nbconvert_exporter": "python",
   "pygments_lexer": "ipython3",
   "version": "3.9.13"
  },
  "toc": {
   "nav_menu": {
    "height": "133px",
    "width": "254px"
   },
   "number_sections": false,
   "sideBar": true,
   "skip_h1_title": false,
   "toc_cell": false,
   "toc_position": {
    "height": "906px",
    "left": "0px",
    "right": "1411px",
    "top": "76px",
    "width": "293px"
   },
   "toc_section_display": "block",
   "toc_window_display": true
  },
  "varInspector": {
   "cols": {
    "lenName": 16,
    "lenType": 16,
    "lenVar": 40
   },
   "kernels_config": {
    "python": {
     "delete_cmd_postfix": "",
     "delete_cmd_prefix": "del ",
     "library": "var_list.py",
     "varRefreshCmd": "print(var_dic_list())"
    },
    "r": {
     "delete_cmd_postfix": ") ",
     "delete_cmd_prefix": "rm(",
     "library": "var_list.r",
     "varRefreshCmd": "cat(var_dic_list()) "
    }
   },
   "types_to_exclude": [
    "module",
    "function",
    "builtin_function_or_method",
    "instance",
    "_Feature"
   ],
   "window_display": false
  }
 },
 "nbformat": 4,
 "nbformat_minor": 4
}
